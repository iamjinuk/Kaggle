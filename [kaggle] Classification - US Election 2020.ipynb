{
 "cells": [
  {
   "cell_type": "markdown",
   "metadata": {},
   "source": [
    "# [Classification] : US Election 2020"
   ]
  },
  {
   "cell_type": "markdown",
   "metadata": {},
   "source": [
    "<사용 되는 데이터>\n",
    "1. 대통령 투표 결과 : president_county_candidate.csv\n",
    "2. 카운티 지사 투표 결과 : governors_county_candidate.csv\n",
    "3. 상원의원 투표 결과 : senate_county_candidate.csv\n",
    "4. 하원의원 투표 결과 : house_candidate.csv"
   ]
  },
  {
   "cell_type": "markdown",
   "metadata": {},
   "source": [
    "- [메인 source] : https://www.kaggle.com/unanimad/us-election-2020?sel=\n",
    "- [보조 source] : https://www.kaggle.com/muonneutrino/us-census-demographic-data?select=acs2017_census_tract_data.csv"
   ]
  },
  {
   "cell_type": "markdown",
   "metadata": {},
   "source": [
    "------------------"
   ]
  },
  {
   "cell_type": "code",
   "execution_count": 141,
   "metadata": {},
   "outputs": [
    {
     "name": "stdout",
     "output_type": "stream",
     "text": [
      "Collecting geopandas==0.8.1\n",
      "  Downloading geopandas-0.8.1-py2.py3-none-any.whl (962 kB)\n",
      "Requirement already satisfied: pandas>=0.23.0 in c:\\users\\44455\\anaconda3\\lib\\site-packages (from geopandas==0.8.1) (1.0.5)\n",
      "Requirement already satisfied: pyproj>=2.2.0 in c:\\users\\44455\\anaconda3\\lib\\site-packages (from geopandas==0.8.1) (3.0.1)\n",
      "Collecting fiona\n",
      "  Using cached Fiona-1.8.19.tar.gz (1.3 MB)\n",
      "  Using cached Fiona-1.8.18.tar.gz (1.3 MB)\n",
      "  Using cached Fiona-1.8.17.tar.gz (1.3 MB)\n",
      "  Using cached Fiona-1.8.16.tar.gz (1.3 MB)\n",
      "  Using cached Fiona-1.8.15.tar.gz (1.3 MB)\n",
      "  Using cached Fiona-1.8.14.tar.gz (1.3 MB)\n",
      "  Using cached Fiona-1.8.13.post1.tar.gz (1.2 MB)\n",
      "  Using cached Fiona-1.8.13.tar.gz (1.2 MB)\n",
      "  Using cached Fiona-1.8.12.tar.gz (1.2 MB)\n",
      "  Using cached Fiona-1.8.11.tar.gz (1.2 MB)\n",
      "  Using cached Fiona-1.8.10.tar.gz (1.2 MB)\n",
      "  Using cached Fiona-1.8.9.post2.tar.gz (1.2 MB)\n",
      "  Using cached Fiona-1.8.9.post1.tar.gz (1.2 MB)\n",
      "  Using cached Fiona-1.8.9.tar.gz (1.2 MB)\n",
      "  Using cached Fiona-1.8.8.tar.gz (1.7 MB)\n",
      "  Using cached Fiona-1.8.7.tar.gz (1.7 MB)\n",
      "  Using cached Fiona-1.8.6.tar.gz (1.7 MB)\n",
      "  Using cached Fiona-1.8.5.tar.gz (1.7 MB)\n",
      "  Using cached Fiona-1.8.4.tar.gz (1.1 MB)\n",
      "  Using cached Fiona-1.8.3.tar.gz (1.1 MB)\n",
      "  Using cached Fiona-1.8.2.tar.gz (1.2 MB)\n",
      "  Using cached Fiona-1.8.1.tar.gz (1.1 MB)\n",
      "  Using cached Fiona-1.8.0.tar.gz (1.4 MB)\n",
      "  Using cached Fiona-1.7.13.tar.gz (731 kB)\n",
      "Requirement already satisfied: shapely in c:\\users\\44455\\anaconda3\\lib\\site-packages (from geopandas==0.8.1) (1.7.1)\n",
      "Requirement already satisfied: numpy>=1.13.3 in c:\\users\\44455\\anaconda3\\lib\\site-packages (from pandas>=0.23.0->geopandas==0.8.1) (1.18.5)\n",
      "Requirement already satisfied: python-dateutil>=2.6.1 in c:\\users\\44455\\anaconda3\\lib\\site-packages (from pandas>=0.23.0->geopandas==0.8.1) (2.8.1)\n",
      "Requirement already satisfied: pytz>=2017.2 in c:\\users\\44455\\anaconda3\\lib\\site-packages (from pandas>=0.23.0->geopandas==0.8.1) (2020.1)\n",
      "Requirement already satisfied: certifi in c:\\users\\44455\\anaconda3\\lib\\site-packages (from pyproj>=2.2.0->geopandas==0.8.1) (2020.6.20)\n",
      "Requirement already satisfied: six>=1.5 in c:\\users\\44455\\anaconda3\\lib\\site-packages (from python-dateutil>=2.6.1->pandas>=0.23.0->geopandas==0.8.1) (1.15.0)\n",
      "Requirement already satisfied: cligj>=0.4 in c:\\users\\44455\\anaconda3\\lib\\site-packages (from fiona->geopandas==0.8.1) (0.7.1)\n",
      "Requirement already satisfied: click-plugins in c:\\users\\44455\\anaconda3\\lib\\site-packages (from fiona->geopandas==0.8.1) (1.1.1)\n",
      "Requirement already satisfied: munch in c:\\users\\44455\\anaconda3\\lib\\site-packages (from fiona->geopandas==0.8.1) (2.5.0)\n",
      "Requirement already satisfied: click<8,>=4.0 in c:\\users\\44455\\anaconda3\\lib\\site-packages (from cligj>=0.4->fiona->geopandas==0.8.1) (7.1.2)\n",
      "Building wheels for collected packages: fiona\n",
      "  Building wheel for fiona (setup.py): started\n",
      "  Building wheel for fiona (setup.py): finished with status 'error'\n",
      "  Running setup.py clean for fiona\n",
      "Failed to build fiona\n",
      "Installing collected packages: fiona, geopandas\n",
      "    Running setup.py install for fiona: started\n",
      "    Running setup.py install for fiona: finished with status 'error'\n"
     ]
    },
    {
     "name": "stderr",
     "output_type": "stream",
     "text": [
      "    ERROR: Command errored out with exit status 1:\n",
      "     command: 'c:\\users\\44455\\anaconda3\\python.exe' -c 'import sys, setuptools, tokenize; sys.argv[0] = '\"'\"'C:\\\\Users\\\\44455\\\\AppData\\\\Local\\\\Temp\\\\pip-install-rqcyi7ld\\\\fiona_14aa16ff80c446a0a66db6188745689b\\\\setup.py'\"'\"'; __file__='\"'\"'C:\\\\Users\\\\44455\\\\AppData\\\\Local\\\\Temp\\\\pip-install-rqcyi7ld\\\\fiona_14aa16ff80c446a0a66db6188745689b\\\\setup.py'\"'\"';f=getattr(tokenize, '\"'\"'open'\"'\"', open)(__file__);code=f.read().replace('\"'\"'\\r\\n'\"'\"', '\"'\"'\\n'\"'\"');f.close();exec(compile(code, __file__, '\"'\"'exec'\"'\"'))' egg_info --egg-base 'C:\\Users\\44455\\AppData\\Local\\Temp\\pip-pip-egg-info-7yc18wbg'\n",
      "         cwd: C:\\Users\\44455\\AppData\\Local\\Temp\\pip-install-rqcyi7ld\\fiona_14aa16ff80c446a0a66db6188745689b\\\n",
      "    Complete output (1 lines):\n",
      "    A GDAL API version must be specified. Provide a path to gdal-config using a GDAL_CONFIG environment variable or use a GDAL_VERSION environment variable.\n",
      "    ----------------------------------------\n",
      "WARNING: Discarding https://files.pythonhosted.org/packages/a0/d9/6042aeb073d11341f7726de0586ff71c13117c34959dcf07bd4ee6d4b93e/Fiona-1.8.19.tar.gz#sha256=b9059e0b29c2e9e6b817e53f941e77e1aca7075f986005d38db307067b60458f (from https://pypi.org/simple/fiona/). Command errored out with exit status 1: python setup.py egg_info Check the logs for full command output.\n",
      "    ERROR: Command errored out with exit status 1:\n",
      "     command: 'c:\\users\\44455\\anaconda3\\python.exe' -c 'import sys, setuptools, tokenize; sys.argv[0] = '\"'\"'C:\\\\Users\\\\44455\\\\AppData\\\\Local\\\\Temp\\\\pip-install-rqcyi7ld\\\\fiona_5eec974a7de147228bc2d39f265635af\\\\setup.py'\"'\"'; __file__='\"'\"'C:\\\\Users\\\\44455\\\\AppData\\\\Local\\\\Temp\\\\pip-install-rqcyi7ld\\\\fiona_5eec974a7de147228bc2d39f265635af\\\\setup.py'\"'\"';f=getattr(tokenize, '\"'\"'open'\"'\"', open)(__file__);code=f.read().replace('\"'\"'\\r\\n'\"'\"', '\"'\"'\\n'\"'\"');f.close();exec(compile(code, __file__, '\"'\"'exec'\"'\"'))' egg_info --egg-base 'C:\\Users\\44455\\AppData\\Local\\Temp\\pip-pip-egg-info-8idtzcm2'\n",
      "         cwd: C:\\Users\\44455\\AppData\\Local\\Temp\\pip-install-rqcyi7ld\\fiona_5eec974a7de147228bc2d39f265635af\\\n",
      "    Complete output (1 lines):\n",
      "    A GDAL API version must be specified. Provide a path to gdal-config using a GDAL_CONFIG environment variable or use a GDAL_VERSION environment variable.\n",
      "    ----------------------------------------\n",
      "WARNING: Discarding https://files.pythonhosted.org/packages/9f/e8/401cdaa58d862a25c4b3365acf7d2bd7ac77191e3dc9acdcdac0eff20ff0/Fiona-1.8.18.tar.gz#sha256=b732ece0ff8886a29c439723a3e1fc382718804bb057519d537a81308854967a (from https://pypi.org/simple/fiona/). Command errored out with exit status 1: python setup.py egg_info Check the logs for full command output.\n",
      "    ERROR: Command errored out with exit status 1:\n",
      "     command: 'c:\\users\\44455\\anaconda3\\python.exe' -c 'import sys, setuptools, tokenize; sys.argv[0] = '\"'\"'C:\\\\Users\\\\44455\\\\AppData\\\\Local\\\\Temp\\\\pip-install-rqcyi7ld\\\\fiona_f87032b25ca444f787ffe4fc300b8faf\\\\setup.py'\"'\"'; __file__='\"'\"'C:\\\\Users\\\\44455\\\\AppData\\\\Local\\\\Temp\\\\pip-install-rqcyi7ld\\\\fiona_f87032b25ca444f787ffe4fc300b8faf\\\\setup.py'\"'\"';f=getattr(tokenize, '\"'\"'open'\"'\"', open)(__file__);code=f.read().replace('\"'\"'\\r\\n'\"'\"', '\"'\"'\\n'\"'\"');f.close();exec(compile(code, __file__, '\"'\"'exec'\"'\"'))' egg_info --egg-base 'C:\\Users\\44455\\AppData\\Local\\Temp\\pip-pip-egg-info-ac6913ui'\n",
      "         cwd: C:\\Users\\44455\\AppData\\Local\\Temp\\pip-install-rqcyi7ld\\fiona_f87032b25ca444f787ffe4fc300b8faf\\\n",
      "    Complete output (1 lines):\n",
      "    A GDAL API version must be specified. Provide a path to gdal-config using a GDAL_CONFIG environment variable or use a GDAL_VERSION environment variable.\n",
      "    ----------------------------------------\n",
      "WARNING: Discarding https://files.pythonhosted.org/packages/88/62/69347ba2c41b526e1953c4cb66d51170b2869808863c03af202ba0121670/Fiona-1.8.17.tar.gz#sha256=716201c21246587f374785bec6d6a20a984fe1f6c2b0e83bf15127eb8f724d0c (from https://pypi.org/simple/fiona/). Command errored out with exit status 1: python setup.py egg_info Check the logs for full command output.\n",
      "    ERROR: Command errored out with exit status 1:\n",
      "     command: 'c:\\users\\44455\\anaconda3\\python.exe' -c 'import sys, setuptools, tokenize; sys.argv[0] = '\"'\"'C:\\\\Users\\\\44455\\\\AppData\\\\Local\\\\Temp\\\\pip-install-rqcyi7ld\\\\fiona_a3ac310d66d1415f99ddcb2722765f22\\\\setup.py'\"'\"'; __file__='\"'\"'C:\\\\Users\\\\44455\\\\AppData\\\\Local\\\\Temp\\\\pip-install-rqcyi7ld\\\\fiona_a3ac310d66d1415f99ddcb2722765f22\\\\setup.py'\"'\"';f=getattr(tokenize, '\"'\"'open'\"'\"', open)(__file__);code=f.read().replace('\"'\"'\\r\\n'\"'\"', '\"'\"'\\n'\"'\"');f.close();exec(compile(code, __file__, '\"'\"'exec'\"'\"'))' egg_info --egg-base 'C:\\Users\\44455\\AppData\\Local\\Temp\\pip-pip-egg-info-lasx1fn5'\n",
      "         cwd: C:\\Users\\44455\\AppData\\Local\\Temp\\pip-install-rqcyi7ld\\fiona_a3ac310d66d1415f99ddcb2722765f22\\\n",
      "    Complete output (1 lines):\n",
      "    A GDAL API version must be specified. Provide a path to gdal-config using a GDAL_CONFIG environment variable or use a GDAL_VERSION environment variable.\n",
      "    ----------------------------------------\n",
      "WARNING: Discarding https://files.pythonhosted.org/packages/1e/60/dfc6115a11338d8aa96cacd8c60635223d9c97d61d556c90acc5dfd663fa/Fiona-1.8.16.tar.gz#sha256=fd6dfb65959becc916e9f6928618bfd59c16cdbc413ece0fbac61489cd11255f (from https://pypi.org/simple/fiona/). Command errored out with exit status 1: python setup.py egg_info Check the logs for full command output.\n",
      "    ERROR: Command errored out with exit status 1:\n",
      "     command: 'c:\\users\\44455\\anaconda3\\python.exe' -c 'import sys, setuptools, tokenize; sys.argv[0] = '\"'\"'C:\\\\Users\\\\44455\\\\AppData\\\\Local\\\\Temp\\\\pip-install-rqcyi7ld\\\\fiona_0e33d17f0e0746c784578b713934b448\\\\setup.py'\"'\"'; __file__='\"'\"'C:\\\\Users\\\\44455\\\\AppData\\\\Local\\\\Temp\\\\pip-install-rqcyi7ld\\\\fiona_0e33d17f0e0746c784578b713934b448\\\\setup.py'\"'\"';f=getattr(tokenize, '\"'\"'open'\"'\"', open)(__file__);code=f.read().replace('\"'\"'\\r\\n'\"'\"', '\"'\"'\\n'\"'\"');f.close();exec(compile(code, __file__, '\"'\"'exec'\"'\"'))' egg_info --egg-base 'C:\\Users\\44455\\AppData\\Local\\Temp\\pip-pip-egg-info-eigeltv2'\n",
      "         cwd: C:\\Users\\44455\\AppData\\Local\\Temp\\pip-install-rqcyi7ld\\fiona_0e33d17f0e0746c784578b713934b448\\\n",
      "    Complete output (1 lines):\n",
      "    A GDAL API version must be specified. Provide a path to gdal-config using a GDAL_CONFIG environment variable or use a GDAL_VERSION environment variable.\n",
      "    ----------------------------------------\n",
      "WARNING: Discarding https://files.pythonhosted.org/packages/55/2f/17450ec2c8fcc720a8a3e4d9a383499508475c7cfb90f7eca9fb585ac598/Fiona-1.8.15.tar.gz#sha256=3b1c9b5c834fae2fe947cfaea176db890bc6750d1a6ba9f54d969c19ffcd191e (from https://pypi.org/simple/fiona/). Command errored out with exit status 1: python setup.py egg_info Check the logs for full command output.\n",
      "    ERROR: Command errored out with exit status 1:\n",
      "     command: 'c:\\users\\44455\\anaconda3\\python.exe' -c 'import sys, setuptools, tokenize; sys.argv[0] = '\"'\"'C:\\\\Users\\\\44455\\\\AppData\\\\Local\\\\Temp\\\\pip-install-rqcyi7ld\\\\fiona_b1201346d3b3470ca8ebcb88dde77fa0\\\\setup.py'\"'\"'; __file__='\"'\"'C:\\\\Users\\\\44455\\\\AppData\\\\Local\\\\Temp\\\\pip-install-rqcyi7ld\\\\fiona_b1201346d3b3470ca8ebcb88dde77fa0\\\\setup.py'\"'\"';f=getattr(tokenize, '\"'\"'open'\"'\"', open)(__file__);code=f.read().replace('\"'\"'\\r\\n'\"'\"', '\"'\"'\\n'\"'\"');f.close();exec(compile(code, __file__, '\"'\"'exec'\"'\"'))' egg_info --egg-base 'C:\\Users\\44455\\AppData\\Local\\Temp\\pip-pip-egg-info-xvqwhfhw'\n",
      "         cwd: C:\\Users\\44455\\AppData\\Local\\Temp\\pip-install-rqcyi7ld\\fiona_b1201346d3b3470ca8ebcb88dde77fa0\\\n",
      "    Complete output (1 lines):\n",
      "    A GDAL API version must be specified. Provide a path to gdal-config using a GDAL_CONFIG environment variable or use a GDAL_VERSION environment variable.\n",
      "    ----------------------------------------\n",
      "WARNING: Discarding https://files.pythonhosted.org/packages/5c/fd/5ec54f2d9b3d5dd23dd443fad5630d6b872e2664814c68b856c47e0d65af/Fiona-1.8.14.tar.gz#sha256=6eac038206c89d2cf5f99ea38b81cc228dc21eac5f47870a9a32d453b0007f4d (from https://pypi.org/simple/fiona/). Command errored out with exit status 1: python setup.py egg_info Check the logs for full command output.\n",
      "    ERROR: Command errored out with exit status 1:\n",
      "     command: 'c:\\users\\44455\\anaconda3\\python.exe' -c 'import sys, setuptools, tokenize; sys.argv[0] = '\"'\"'C:\\\\Users\\\\44455\\\\AppData\\\\Local\\\\Temp\\\\pip-install-rqcyi7ld\\\\fiona_be914f8fb1f6499e9007cc3ba2f1850b\\\\setup.py'\"'\"'; __file__='\"'\"'C:\\\\Users\\\\44455\\\\AppData\\\\Local\\\\Temp\\\\pip-install-rqcyi7ld\\\\fiona_be914f8fb1f6499e9007cc3ba2f1850b\\\\setup.py'\"'\"';f=getattr(tokenize, '\"'\"'open'\"'\"', open)(__file__);code=f.read().replace('\"'\"'\\r\\n'\"'\"', '\"'\"'\\n'\"'\"');f.close();exec(compile(code, __file__, '\"'\"'exec'\"'\"'))' egg_info --egg-base 'C:\\Users\\44455\\AppData\\Local\\Temp\\pip-pip-egg-info-hfznrfpq'\n",
      "         cwd: C:\\Users\\44455\\AppData\\Local\\Temp\\pip-install-rqcyi7ld\\fiona_be914f8fb1f6499e9007cc3ba2f1850b\\\n",
      "    Complete output (1 lines):\n",
      "    A GDAL API version must be specified. Provide a path to gdal-config using a GDAL_CONFIG environment variable or use a GDAL_VERSION environment variable.\n",
      "    ----------------------------------------\n",
      "WARNING: Discarding https://files.pythonhosted.org/packages/6d/42/f4a7cac53b28fa70e9a93d0e89a24d33e14826dad6644b699362ad84dde0/Fiona-1.8.13.post1.tar.gz#sha256=1a432bf9fd56f089256c010da009c90d4a795c531a848132c965052185336600 (from https://pypi.org/simple/fiona/). Command errored out with exit status 1: python setup.py egg_info Check the logs for full command output.\n",
      "    ERROR: Command errored out with exit status 1:\n",
      "     command: 'c:\\users\\44455\\anaconda3\\python.exe' -c 'import sys, setuptools, tokenize; sys.argv[0] = '\"'\"'C:\\\\Users\\\\44455\\\\AppData\\\\Local\\\\Temp\\\\pip-install-rqcyi7ld\\\\fiona_9139dbd77d3d4b4299239cbbcc2a125f\\\\setup.py'\"'\"'; __file__='\"'\"'C:\\\\Users\\\\44455\\\\AppData\\\\Local\\\\Temp\\\\pip-install-rqcyi7ld\\\\fiona_9139dbd77d3d4b4299239cbbcc2a125f\\\\setup.py'\"'\"';f=getattr(tokenize, '\"'\"'open'\"'\"', open)(__file__);code=f.read().replace('\"'\"'\\r\\n'\"'\"', '\"'\"'\\n'\"'\"');f.close();exec(compile(code, __file__, '\"'\"'exec'\"'\"'))' egg_info --egg-base 'C:\\Users\\44455\\AppData\\Local\\Temp\\pip-pip-egg-info-hp8hk_4m'\n",
      "         cwd: C:\\Users\\44455\\AppData\\Local\\Temp\\pip-install-rqcyi7ld\\fiona_9139dbd77d3d4b4299239cbbcc2a125f\\\n",
      "    Complete output (1 lines):\n",
      "    A GDAL API version must be specified. Provide a path to gdal-config using a GDAL_CONFIG environment variable or use a GDAL_VERSION environment variable.\n",
      "    ----------------------------------------\n",
      "WARNING: Discarding https://files.pythonhosted.org/packages/be/04/31d0a6f03943b1684f32c9b861be40c1fd282468fa6bd54ddf4a774e6b0f/Fiona-1.8.13.tar.gz#sha256=5ec34898c8b983a723fb4e949dd3e0ed7e691c303e51f6bfd61e52ac9ac813ae (from https://pypi.org/simple/fiona/). Command errored out with exit status 1: python setup.py egg_info Check the logs for full command output.\n",
      "    ERROR: Command errored out with exit status 1:\n",
      "     command: 'c:\\users\\44455\\anaconda3\\python.exe' -c 'import sys, setuptools, tokenize; sys.argv[0] = '\"'\"'C:\\\\Users\\\\44455\\\\AppData\\\\Local\\\\Temp\\\\pip-install-rqcyi7ld\\\\fiona_14034c9d0e0c4d3f915eeb7307641609\\\\setup.py'\"'\"'; __file__='\"'\"'C:\\\\Users\\\\44455\\\\AppData\\\\Local\\\\Temp\\\\pip-install-rqcyi7ld\\\\fiona_14034c9d0e0c4d3f915eeb7307641609\\\\setup.py'\"'\"';f=getattr(tokenize, '\"'\"'open'\"'\"', open)(__file__);code=f.read().replace('\"'\"'\\r\\n'\"'\"', '\"'\"'\\n'\"'\"');f.close();exec(compile(code, __file__, '\"'\"'exec'\"'\"'))' egg_info --egg-base 'C:\\Users\\44455\\AppData\\Local\\Temp\\pip-pip-egg-info-lm7817ut'\n",
      "         cwd: C:\\Users\\44455\\AppData\\Local\\Temp\\pip-install-rqcyi7ld\\fiona_14034c9d0e0c4d3f915eeb7307641609\\\n",
      "    Complete output (1 lines):\n",
      "    A GDAL API version must be specified. Provide a path to gdal-config using a GDAL_CONFIG environment variable or use a GDAL_VERSION environment variable.\n",
      "    ----------------------------------------\n",
      "WARNING: Discarding https://files.pythonhosted.org/packages/97/d8/feab39987296437fbdc3029fb39752a14355d217d73b93471010b8dd63a3/Fiona-1.8.12.tar.gz#sha256=c9266ddf6ae2a64fcea20014ddf27f800ac07584f2fdb09c2a02f3b3a52e371c (from https://pypi.org/simple/fiona/). Command errored out with exit status 1: python setup.py egg_info Check the logs for full command output.\n",
      "    ERROR: Command errored out with exit status 1:\n",
      "     command: 'c:\\users\\44455\\anaconda3\\python.exe' -c 'import sys, setuptools, tokenize; sys.argv[0] = '\"'\"'C:\\\\Users\\\\44455\\\\AppData\\\\Local\\\\Temp\\\\pip-install-rqcyi7ld\\\\fiona_44fa502fd32844e5b4e8c0bd4a7268a6\\\\setup.py'\"'\"'; __file__='\"'\"'C:\\\\Users\\\\44455\\\\AppData\\\\Local\\\\Temp\\\\pip-install-rqcyi7ld\\\\fiona_44fa502fd32844e5b4e8c0bd4a7268a6\\\\setup.py'\"'\"';f=getattr(tokenize, '\"'\"'open'\"'\"', open)(__file__);code=f.read().replace('\"'\"'\\r\\n'\"'\"', '\"'\"'\\n'\"'\"');f.close();exec(compile(code, __file__, '\"'\"'exec'\"'\"'))' egg_info --egg-base 'C:\\Users\\44455\\AppData\\Local\\Temp\\pip-pip-egg-info-tabv0p_n'\n",
      "         cwd: C:\\Users\\44455\\AppData\\Local\\Temp\\pip-install-rqcyi7ld\\fiona_44fa502fd32844e5b4e8c0bd4a7268a6\\\n",
      "    Complete output (1 lines):\n",
      "    A GDAL API version must be specified. Provide a path to gdal-config using a GDAL_CONFIG environment variable or use a GDAL_VERSION environment variable.\n",
      "    ----------------------------------------\n",
      "WARNING: Discarding https://files.pythonhosted.org/packages/9d/f4/0a0ddc6174c4a93679b5f1dd3535e7ef8989828e6d5f86112de681f8c87b/Fiona-1.8.11.tar.gz#sha256=1e7ca9e051f5bffa1c43c70d573da9ca223fc076b84fa73380614fc02b9eb7f6 (from https://pypi.org/simple/fiona/). Command errored out with exit status 1: python setup.py egg_info Check the logs for full command output.\n",
      "    ERROR: Command errored out with exit status 1:\n",
      "     command: 'c:\\users\\44455\\anaconda3\\python.exe' -c 'import sys, setuptools, tokenize; sys.argv[0] = '\"'\"'C:\\\\Users\\\\44455\\\\AppData\\\\Local\\\\Temp\\\\pip-install-rqcyi7ld\\\\fiona_dfee7a69b2e544919b5ffe7e0dfafe05\\\\setup.py'\"'\"'; __file__='\"'\"'C:\\\\Users\\\\44455\\\\AppData\\\\Local\\\\Temp\\\\pip-install-rqcyi7ld\\\\fiona_dfee7a69b2e544919b5ffe7e0dfafe05\\\\setup.py'\"'\"';f=getattr(tokenize, '\"'\"'open'\"'\"', open)(__file__);code=f.read().replace('\"'\"'\\r\\n'\"'\"', '\"'\"'\\n'\"'\"');f.close();exec(compile(code, __file__, '\"'\"'exec'\"'\"'))' egg_info --egg-base 'C:\\Users\\44455\\AppData\\Local\\Temp\\pip-pip-egg-info-t836_sla'\n",
      "         cwd: C:\\Users\\44455\\AppData\\Local\\Temp\\pip-install-rqcyi7ld\\fiona_dfee7a69b2e544919b5ffe7e0dfafe05\\\n",
      "    Complete output (1 lines):\n",
      "    A GDAL API version must be specified. Provide a path to gdal-config using a GDAL_CONFIG environment variable or use a GDAL_VERSION environment variable.\n",
      "    ----------------------------------------\n",
      "WARNING: Discarding https://files.pythonhosted.org/packages/13/73/f80b491ed8559326fab202a6d6333a3cd6e8be1e9d782bc6c0d03d476457/Fiona-1.8.10.tar.gz#sha256=ff562eb2f3960e21f8c7f050ddd7f47a763869ea14afc2234a40df72666c6a2c (from https://pypi.org/simple/fiona/). Command errored out with exit status 1: python setup.py egg_info Check the logs for full command output.\n",
      "    ERROR: Command errored out with exit status 1:\n",
      "     command: 'c:\\users\\44455\\anaconda3\\python.exe' -c 'import sys, setuptools, tokenize; sys.argv[0] = '\"'\"'C:\\\\Users\\\\44455\\\\AppData\\\\Local\\\\Temp\\\\pip-install-rqcyi7ld\\\\fiona_9bc38b6d4a2740f9a74065efc8997659\\\\setup.py'\"'\"'; __file__='\"'\"'C:\\\\Users\\\\44455\\\\AppData\\\\Local\\\\Temp\\\\pip-install-rqcyi7ld\\\\fiona_9bc38b6d4a2740f9a74065efc8997659\\\\setup.py'\"'\"';f=getattr(tokenize, '\"'\"'open'\"'\"', open)(__file__);code=f.read().replace('\"'\"'\\r\\n'\"'\"', '\"'\"'\\n'\"'\"');f.close();exec(compile(code, __file__, '\"'\"'exec'\"'\"'))' egg_info --egg-base 'C:\\Users\\44455\\AppData\\Local\\Temp\\pip-pip-egg-info-zhcxtt0e'\n",
      "         cwd: C:\\Users\\44455\\AppData\\Local\\Temp\\pip-install-rqcyi7ld\\fiona_9bc38b6d4a2740f9a74065efc8997659\\\n",
      "    Complete output (1 lines):\n",
      "    A GDAL API version must be specified. Provide a path to gdal-config using a GDAL_CONFIG environment variable or use a GDAL_VERSION environment variable.\n",
      "    ----------------------------------------\n",
      "WARNING: Discarding https://files.pythonhosted.org/packages/9b/52/45e75507660ce0e86176d0f59b659560f687e2c7e9ebf82a10e7dcd2d3b7/Fiona-1.8.9.post2.tar.gz#sha256=210fb038b579fab38f35ddbdd31b9725f4d5099b3edfd4b87c983e5d47b79983 (from https://pypi.org/simple/fiona/). Command errored out with exit status 1: python setup.py egg_info Check the logs for full command output.\n",
      "    ERROR: Command errored out with exit status 1:\n",
      "     command: 'c:\\users\\44455\\anaconda3\\python.exe' -c 'import sys, setuptools, tokenize; sys.argv[0] = '\"'\"'C:\\\\Users\\\\44455\\\\AppData\\\\Local\\\\Temp\\\\pip-install-rqcyi7ld\\\\fiona_38c23962af094103ba07766f0cbb30a4\\\\setup.py'\"'\"'; __file__='\"'\"'C:\\\\Users\\\\44455\\\\AppData\\\\Local\\\\Temp\\\\pip-install-rqcyi7ld\\\\fiona_38c23962af094103ba07766f0cbb30a4\\\\setup.py'\"'\"';f=getattr(tokenize, '\"'\"'open'\"'\"', open)(__file__);code=f.read().replace('\"'\"'\\r\\n'\"'\"', '\"'\"'\\n'\"'\"');f.close();exec(compile(code, __file__, '\"'\"'exec'\"'\"'))' egg_info --egg-base 'C:\\Users\\44455\\AppData\\Local\\Temp\\pip-pip-egg-info-_actop_c'\n",
      "         cwd: C:\\Users\\44455\\AppData\\Local\\Temp\\pip-install-rqcyi7ld\\fiona_38c23962af094103ba07766f0cbb30a4\\\n",
      "    Complete output (1 lines):\n",
      "    A GDAL API version must be specified. Provide a path to gdal-config using a GDAL_CONFIG environment variable or use a GDAL_VERSION environment variable.\n",
      "    ----------------------------------------\n",
      "WARNING: Discarding https://files.pythonhosted.org/packages/0e/a4/d9dd7399be809d3990f5000fb6ae43189ea26ae88be1bed3a4c9ddc1becc/Fiona-1.8.9.post1.tar.gz#sha256=d5e0ea0b8addffe9cba4cb59e2bd495b015230e7a1b1597974f5048211930199 (from https://pypi.org/simple/fiona/). Command errored out with exit status 1: python setup.py egg_info Check the logs for full command output.\n",
      "    ERROR: Command errored out with exit status 1:\n",
      "     command: 'c:\\users\\44455\\anaconda3\\python.exe' -c 'import sys, setuptools, tokenize; sys.argv[0] = '\"'\"'C:\\\\Users\\\\44455\\\\AppData\\\\Local\\\\Temp\\\\pip-install-rqcyi7ld\\\\fiona_83f71f7a5e364e4a9bf6c393495331cf\\\\setup.py'\"'\"'; __file__='\"'\"'C:\\\\Users\\\\44455\\\\AppData\\\\Local\\\\Temp\\\\pip-install-rqcyi7ld\\\\fiona_83f71f7a5e364e4a9bf6c393495331cf\\\\setup.py'\"'\"';f=getattr(tokenize, '\"'\"'open'\"'\"', open)(__file__);code=f.read().replace('\"'\"'\\r\\n'\"'\"', '\"'\"'\\n'\"'\"');f.close();exec(compile(code, __file__, '\"'\"'exec'\"'\"'))' egg_info --egg-base 'C:\\Users\\44455\\AppData\\Local\\Temp\\pip-pip-egg-info-m4_68ab6'\n",
      "         cwd: C:\\Users\\44455\\AppData\\Local\\Temp\\pip-install-rqcyi7ld\\fiona_83f71f7a5e364e4a9bf6c393495331cf\\\n",
      "    Complete output (1 lines):\n",
      "    A GDAL API version must be specified. Provide a path to gdal-config using a GDAL_CONFIG environment variable or use a GDAL_VERSION environment variable.\n",
      "    ----------------------------------------\n",
      "WARNING: Discarding https://files.pythonhosted.org/packages/ad/92/dcbd8c54d697c22f299b5af63b6df3acfbd06c6d72e249614c05be99337c/Fiona-1.8.9.tar.gz#sha256=4dd6e2f5327c1174143c7c8594a75d373bc72f2c9a2a6daee312c3186a128add (from https://pypi.org/simple/fiona/). Command errored out with exit status 1: python setup.py egg_info Check the logs for full command output.\n",
      "    ERROR: Command errored out with exit status 1:\n",
      "     command: 'c:\\users\\44455\\anaconda3\\python.exe' -c 'import sys, setuptools, tokenize; sys.argv[0] = '\"'\"'C:\\\\Users\\\\44455\\\\AppData\\\\Local\\\\Temp\\\\pip-install-rqcyi7ld\\\\fiona_7eceeff356a7488783868ce935559851\\\\setup.py'\"'\"'; __file__='\"'\"'C:\\\\Users\\\\44455\\\\AppData\\\\Local\\\\Temp\\\\pip-install-rqcyi7ld\\\\fiona_7eceeff356a7488783868ce935559851\\\\setup.py'\"'\"';f=getattr(tokenize, '\"'\"'open'\"'\"', open)(__file__);code=f.read().replace('\"'\"'\\r\\n'\"'\"', '\"'\"'\\n'\"'\"');f.close();exec(compile(code, __file__, '\"'\"'exec'\"'\"'))' egg_info --egg-base 'C:\\Users\\44455\\AppData\\Local\\Temp\\pip-pip-egg-info-xdd3w24z'\n",
      "         cwd: C:\\Users\\44455\\AppData\\Local\\Temp\\pip-install-rqcyi7ld\\fiona_7eceeff356a7488783868ce935559851\\\n",
      "    Complete output (1 lines):\n",
      "    A GDAL API version must be specified. Provide a path to gdal-config using a GDAL_CONFIG environment variable or use a GDAL_VERSION environment variable.\n",
      "    ----------------------------------------\n",
      "WARNING: Discarding https://files.pythonhosted.org/packages/94/7f/e288db1ad63d759d494c30caae34f865e0c6927588c490705e91b7134193/Fiona-1.8.8.tar.gz#sha256=711c3be73203b37812992089445a1e4e9d3d6b64e667389f7b15406e15a91e83 (from https://pypi.org/simple/fiona/). Command errored out with exit status 1: python setup.py egg_info Check the logs for full command output.\n",
      "    ERROR: Command errored out with exit status 1:\n",
      "     command: 'c:\\users\\44455\\anaconda3\\python.exe' -c 'import sys, setuptools, tokenize; sys.argv[0] = '\"'\"'C:\\\\Users\\\\44455\\\\AppData\\\\Local\\\\Temp\\\\pip-install-rqcyi7ld\\\\fiona_6a25262123ff4b44b124f5dd06029025\\\\setup.py'\"'\"'; __file__='\"'\"'C:\\\\Users\\\\44455\\\\AppData\\\\Local\\\\Temp\\\\pip-install-rqcyi7ld\\\\fiona_6a25262123ff4b44b124f5dd06029025\\\\setup.py'\"'\"';f=getattr(tokenize, '\"'\"'open'\"'\"', open)(__file__);code=f.read().replace('\"'\"'\\r\\n'\"'\"', '\"'\"'\\n'\"'\"');f.close();exec(compile(code, __file__, '\"'\"'exec'\"'\"'))' egg_info --egg-base 'C:\\Users\\44455\\AppData\\Local\\Temp\\pip-pip-egg-info-0cf8bmxe'\n",
      "         cwd: C:\\Users\\44455\\AppData\\Local\\Temp\\pip-install-rqcyi7ld\\fiona_6a25262123ff4b44b124f5dd06029025\\\n",
      "    Complete output (1 lines):\n",
      "    A GDAL API version must be specified. Provide a path to gdal-config using a GDAL_CONFIG environment variable or use a GDAL_VERSION environment variable.\n",
      "    ----------------------------------------\n",
      "WARNING: Discarding https://files.pythonhosted.org/packages/78/62/daafd070aebefa639df247705b97f13f7cfad43895581b5cae41bd886709/Fiona-1.8.7.tar.gz#sha256=a55a23615bad3e142d4e4cda97bb5de83c778a80049222e9dffae93c13b5cf93 (from https://pypi.org/simple/fiona/). Command errored out with exit status 1: python setup.py egg_info Check the logs for full command output.\n",
      "    ERROR: Command errored out with exit status 1:\n",
      "     command: 'c:\\users\\44455\\anaconda3\\python.exe' -c 'import sys, setuptools, tokenize; sys.argv[0] = '\"'\"'C:\\\\Users\\\\44455\\\\AppData\\\\Local\\\\Temp\\\\pip-install-rqcyi7ld\\\\fiona_b178ea5f9d49497eb4241d9db0e24d67\\\\setup.py'\"'\"'; __file__='\"'\"'C:\\\\Users\\\\44455\\\\AppData\\\\Local\\\\Temp\\\\pip-install-rqcyi7ld\\\\fiona_b178ea5f9d49497eb4241d9db0e24d67\\\\setup.py'\"'\"';f=getattr(tokenize, '\"'\"'open'\"'\"', open)(__file__);code=f.read().replace('\"'\"'\\r\\n'\"'\"', '\"'\"'\\n'\"'\"');f.close();exec(compile(code, __file__, '\"'\"'exec'\"'\"'))' egg_info --egg-base 'C:\\Users\\44455\\AppData\\Local\\Temp\\pip-pip-egg-info-k59emde8'\n",
      "         cwd: C:\\Users\\44455\\AppData\\Local\\Temp\\pip-install-rqcyi7ld\\fiona_b178ea5f9d49497eb4241d9db0e24d67\\\n",
      "    Complete output (1 lines):\n",
      "    A GDAL API version must be specified. Provide a path to gdal-config using a GDAL_CONFIG environment variable or use a GDAL_VERSION environment variable.\n",
      "    ----------------------------------------\n",
      "WARNING: Discarding https://files.pythonhosted.org/packages/41/9d/63696e7b1de42aad294d4781199a408bec593d8fdb80a2b4a788c911a33b/Fiona-1.8.6.tar.gz#sha256=fa31dfe8855b9cd0b128b47a4df558f1b8eda90d2181bff1dd9854e5556efb3e (from https://pypi.org/simple/fiona/). Command errored out with exit status 1: python setup.py egg_info Check the logs for full command output.\n",
      "    ERROR: Command errored out with exit status 1:\n",
      "     command: 'c:\\users\\44455\\anaconda3\\python.exe' -c 'import sys, setuptools, tokenize; sys.argv[0] = '\"'\"'C:\\\\Users\\\\44455\\\\AppData\\\\Local\\\\Temp\\\\pip-install-rqcyi7ld\\\\fiona_3ab5be40c5d3478ca3a521e6c1623f1c\\\\setup.py'\"'\"'; __file__='\"'\"'C:\\\\Users\\\\44455\\\\AppData\\\\Local\\\\Temp\\\\pip-install-rqcyi7ld\\\\fiona_3ab5be40c5d3478ca3a521e6c1623f1c\\\\setup.py'\"'\"';f=getattr(tokenize, '\"'\"'open'\"'\"', open)(__file__);code=f.read().replace('\"'\"'\\r\\n'\"'\"', '\"'\"'\\n'\"'\"');f.close();exec(compile(code, __file__, '\"'\"'exec'\"'\"'))' egg_info --egg-base 'C:\\Users\\44455\\AppData\\Local\\Temp\\pip-pip-egg-info-37mlif6y'\n",
      "         cwd: C:\\Users\\44455\\AppData\\Local\\Temp\\pip-install-rqcyi7ld\\fiona_3ab5be40c5d3478ca3a521e6c1623f1c\\\n",
      "    Complete output (1 lines):\n",
      "    A GDAL API version must be specified. Provide a path to gdal-config using a GDAL_CONFIG environment variable or use a GDAL_VERSION environment variable.\n",
      "    ----------------------------------------\n",
      "WARNING: Discarding https://files.pythonhosted.org/packages/7b/af/1c2c83c4a8363a4ce9fea817b1910b5e071bed012e18257faa2a0ab3cfe7/Fiona-1.8.5.tar.gz#sha256=4f5cc2d449edbbf693c83e24cdada72de7c41297383d16fcc92387eb445e9d35 (from https://pypi.org/simple/fiona/). Command errored out with exit status 1: python setup.py egg_info Check the logs for full command output.\n",
      "    ERROR: Command errored out with exit status 1:\n",
      "     command: 'c:\\users\\44455\\anaconda3\\python.exe' -c 'import sys, setuptools, tokenize; sys.argv[0] = '\"'\"'C:\\\\Users\\\\44455\\\\AppData\\\\Local\\\\Temp\\\\pip-install-rqcyi7ld\\\\fiona_540fafc76923413786105364f077dd5a\\\\setup.py'\"'\"'; __file__='\"'\"'C:\\\\Users\\\\44455\\\\AppData\\\\Local\\\\Temp\\\\pip-install-rqcyi7ld\\\\fiona_540fafc76923413786105364f077dd5a\\\\setup.py'\"'\"';f=getattr(tokenize, '\"'\"'open'\"'\"', open)(__file__);code=f.read().replace('\"'\"'\\r\\n'\"'\"', '\"'\"'\\n'\"'\"');f.close();exec(compile(code, __file__, '\"'\"'exec'\"'\"'))' egg_info --egg-base 'C:\\Users\\44455\\AppData\\Local\\Temp\\pip-pip-egg-info-ngx6ylqc'\n",
      "         cwd: C:\\Users\\44455\\AppData\\Local\\Temp\\pip-install-rqcyi7ld\\fiona_540fafc76923413786105364f077dd5a\\\n",
      "    Complete output (1 lines):\n",
      "    A GDAL API version must be specified. Provide a path to gdal-config using a GDAL_CONFIG environment variable or use a GDAL_VERSION environment variable.\n",
      "    ----------------------------------------\n",
      "WARNING: Discarding https://files.pythonhosted.org/packages/3a/16/84960540e9fce61d767fd2f0f1d95f4c63e99ab5d8fddc308e8b51b059b8/Fiona-1.8.4.tar.gz#sha256=aec9ab2e3513c9503ec123b1a8573bee55fc6a66e2ac07088c3376bf6738a424 (from https://pypi.org/simple/fiona/). Command errored out with exit status 1: python setup.py egg_info Check the logs for full command output.\n",
      "    ERROR: Command errored out with exit status 1:\n",
      "     command: 'c:\\users\\44455\\anaconda3\\python.exe' -c 'import sys, setuptools, tokenize; sys.argv[0] = '\"'\"'C:\\\\Users\\\\44455\\\\AppData\\\\Local\\\\Temp\\\\pip-install-rqcyi7ld\\\\fiona_176679c28a1f494c94835971bf9a14c6\\\\setup.py'\"'\"'; __file__='\"'\"'C:\\\\Users\\\\44455\\\\AppData\\\\Local\\\\Temp\\\\pip-install-rqcyi7ld\\\\fiona_176679c28a1f494c94835971bf9a14c6\\\\setup.py'\"'\"';f=getattr(tokenize, '\"'\"'open'\"'\"', open)(__file__);code=f.read().replace('\"'\"'\\r\\n'\"'\"', '\"'\"'\\n'\"'\"');f.close();exec(compile(code, __file__, '\"'\"'exec'\"'\"'))' egg_info --egg-base 'C:\\Users\\44455\\AppData\\Local\\Temp\\pip-pip-egg-info-6ay21pkm'\n",
      "         cwd: C:\\Users\\44455\\AppData\\Local\\Temp\\pip-install-rqcyi7ld\\fiona_176679c28a1f494c94835971bf9a14c6\\\n",
      "    Complete output (1 lines):\n",
      "    A GDAL API version must be specified. Provide a path to gdal-config using a GDAL_CONFIG environment variable or use a GDAL_VERSION environment variable.\n",
      "    ----------------------------------------\n",
      "WARNING: Discarding https://files.pythonhosted.org/packages/46/d1/fcdb32513a03abfde0d97fd9782ce0f8cc0540fa6c6ce783e87b94064964/Fiona-1.8.3.tar.gz#sha256=3e831100a23c3b6cd32b98baf0c9e2119d909b44a5cf4533d3625f61dcf2d2b1 (from https://pypi.org/simple/fiona/). Command errored out with exit status 1: python setup.py egg_info Check the logs for full command output.\n",
      "    ERROR: Command errored out with exit status 1:\n",
      "     command: 'c:\\users\\44455\\anaconda3\\python.exe' -c 'import sys, setuptools, tokenize; sys.argv[0] = '\"'\"'C:\\\\Users\\\\44455\\\\AppData\\\\Local\\\\Temp\\\\pip-install-rqcyi7ld\\\\fiona_8cb0a31099ba4544afe954ce23951cae\\\\setup.py'\"'\"'; __file__='\"'\"'C:\\\\Users\\\\44455\\\\AppData\\\\Local\\\\Temp\\\\pip-install-rqcyi7ld\\\\fiona_8cb0a31099ba4544afe954ce23951cae\\\\setup.py'\"'\"';f=getattr(tokenize, '\"'\"'open'\"'\"', open)(__file__);code=f.read().replace('\"'\"'\\r\\n'\"'\"', '\"'\"'\\n'\"'\"');f.close();exec(compile(code, __file__, '\"'\"'exec'\"'\"'))' egg_info --egg-base 'C:\\Users\\44455\\AppData\\Local\\Temp\\pip-pip-egg-info-4z0in3zh'\n",
      "         cwd: C:\\Users\\44455\\AppData\\Local\\Temp\\pip-install-rqcyi7ld\\fiona_8cb0a31099ba4544afe954ce23951cae\\\n",
      "    Complete output (1 lines):\n",
      "    A GDAL API version must be specified. Provide a path to gdal-config using a GDAL_CONFIG environment variable or use a GDAL_VERSION environment variable.\n",
      "    ----------------------------------------\n",
      "WARNING: Discarding https://files.pythonhosted.org/packages/25/50/0466d5d83e1859c5ca38351ee932d64cc5635f9d4dad522879e58f4b0018/Fiona-1.8.2.tar.gz#sha256=4c6419b7ac29136708029f6a44b4ccd458735a4d241016c7b1bab41685c08d8f (from https://pypi.org/simple/fiona/). Command errored out with exit status 1: python setup.py egg_info Check the logs for full command output.\n",
      "    ERROR: Command errored out with exit status 1:\n",
      "     command: 'c:\\users\\44455\\anaconda3\\python.exe' -c 'import sys, setuptools, tokenize; sys.argv[0] = '\"'\"'C:\\\\Users\\\\44455\\\\AppData\\\\Local\\\\Temp\\\\pip-install-rqcyi7ld\\\\fiona_a3c646e62a9541258892f37d4e7763b3\\\\setup.py'\"'\"'; __file__='\"'\"'C:\\\\Users\\\\44455\\\\AppData\\\\Local\\\\Temp\\\\pip-install-rqcyi7ld\\\\fiona_a3c646e62a9541258892f37d4e7763b3\\\\setup.py'\"'\"';f=getattr(tokenize, '\"'\"'open'\"'\"', open)(__file__);code=f.read().replace('\"'\"'\\r\\n'\"'\"', '\"'\"'\\n'\"'\"');f.close();exec(compile(code, __file__, '\"'\"'exec'\"'\"'))' egg_info --egg-base 'C:\\Users\\44455\\AppData\\Local\\Temp\\pip-pip-egg-info-9ih8jdk3'\n",
      "         cwd: C:\\Users\\44455\\AppData\\Local\\Temp\\pip-install-rqcyi7ld\\fiona_a3c646e62a9541258892f37d4e7763b3\\\n",
      "    Complete output (1 lines):\n",
      "    A GDAL API version must be specified. Provide a path to gdal-config using a GDAL_CONFIG environment variable or use a GDAL_VERSION environment variable.\n",
      "    ----------------------------------------\n",
      "WARNING: Discarding https://files.pythonhosted.org/packages/3e/5f/0c6704efeea2ff3fba7f54cc6ec38070157f21bc1cffa7bdfa7c9f6b8f7a/Fiona-1.8.1.tar.gz#sha256=4c34bb4c5cd788aaf14e5484c3b7de407b1a8a7c7b2d29bbb2e8b37931e83b8d (from https://pypi.org/simple/fiona/). Command errored out with exit status 1: python setup.py egg_info Check the logs for full command output.\n",
      "    ERROR: Command errored out with exit status 1:\n",
      "     command: 'c:\\users\\44455\\anaconda3\\python.exe' -c 'import sys, setuptools, tokenize; sys.argv[0] = '\"'\"'C:\\\\Users\\\\44455\\\\AppData\\\\Local\\\\Temp\\\\pip-install-rqcyi7ld\\\\fiona_8454e0ad7e3d4a1c9738c1529736ad46\\\\setup.py'\"'\"'; __file__='\"'\"'C:\\\\Users\\\\44455\\\\AppData\\\\Local\\\\Temp\\\\pip-install-rqcyi7ld\\\\fiona_8454e0ad7e3d4a1c9738c1529736ad46\\\\setup.py'\"'\"';f=getattr(tokenize, '\"'\"'open'\"'\"', open)(__file__);code=f.read().replace('\"'\"'\\r\\n'\"'\"', '\"'\"'\\n'\"'\"');f.close();exec(compile(code, __file__, '\"'\"'exec'\"'\"'))' egg_info --egg-base 'C:\\Users\\44455\\AppData\\Local\\Temp\\pip-pip-egg-info-nzd3b340'\n",
      "         cwd: C:\\Users\\44455\\AppData\\Local\\Temp\\pip-install-rqcyi7ld\\fiona_8454e0ad7e3d4a1c9738c1529736ad46\\\n",
      "    Complete output (1 lines):\n",
      "    A GDAL API version must be specified. Provide a path to gdal-config using a GDAL_CONFIG environment variable or use a GDAL_VERSION environment variable.\n",
      "    ----------------------------------------\n",
      "WARNING: Discarding https://files.pythonhosted.org/packages/2a/bd/c1efc2680f338e5941121c776d6323af6b9698ac739e22ba523cee348a7f/Fiona-1.8.0.tar.gz#sha256=20141a9ece06daa7bb4333fba640c2fe39a49f8aca5492d1da8595d41e91844a (from https://pypi.org/simple/fiona/). Command errored out with exit status 1: python setup.py egg_info Check the logs for full command output.\n",
      "  ERROR: Command errored out with exit status 1:\n",
      "   command: 'c:\\users\\44455\\anaconda3\\python.exe' -u -c 'import sys, setuptools, tokenize; sys.argv[0] = '\"'\"'C:\\\\Users\\\\44455\\\\AppData\\\\Local\\\\Temp\\\\pip-install-rqcyi7ld\\\\fiona_7807f6ee5c5349da8e1c016192d3c8d0\\\\setup.py'\"'\"'; __file__='\"'\"'C:\\\\Users\\\\44455\\\\AppData\\\\Local\\\\Temp\\\\pip-install-rqcyi7ld\\\\fiona_7807f6ee5c5349da8e1c016192d3c8d0\\\\setup.py'\"'\"';f=getattr(tokenize, '\"'\"'open'\"'\"', open)(__file__);code=f.read().replace('\"'\"'\\r\\n'\"'\"', '\"'\"'\\n'\"'\"');f.close();exec(compile(code, __file__, '\"'\"'exec'\"'\"'))' bdist_wheel -d 'C:\\Users\\44455\\AppData\\Local\\Temp\\pip-wheel-7r6mqot1'\n",
      "       cwd: C:\\Users\\44455\\AppData\\Local\\Temp\\pip-install-rqcyi7ld\\fiona_7807f6ee5c5349da8e1c016192d3c8d0\\\n",
      "  Complete output (48 lines):\n",
      "  c:\\users\\44455\\anaconda3\\lib\\distutils\\dist.py:274: UserWarning: Unknown distribution option: 'metadata_version'\n",
      "    warnings.warn(msg)\n",
      "  c:\\users\\44455\\anaconda3\\lib\\distutils\\dist.py:274: UserWarning: Unknown distribution option: 'requires_python'\n",
      "    warnings.warn(msg)\n",
      "  c:\\users\\44455\\anaconda3\\lib\\distutils\\dist.py:274: UserWarning: Unknown distribution option: 'requires_external'\n",
      "    warnings.warn(msg)\n",
      "  running bdist_wheel\n",
      "  running build\n",
      "  running build_py\n",
      "  creating build\n",
      "  creating build\\lib.win-amd64-3.8\n",
      "  creating build\\lib.win-amd64-3.8\\fiona\n",
      "  copying .\\fiona\\collection.py -> build\\lib.win-amd64-3.8\\fiona\n",
      "  copying .\\fiona\\compat.py -> build\\lib.win-amd64-3.8\\fiona\n",
      "  copying .\\fiona\\crs.py -> build\\lib.win-amd64-3.8\\fiona\n",
      "  copying .\\fiona\\drvsupport.py -> build\\lib.win-amd64-3.8\\fiona\n",
      "  copying .\\fiona\\errors.py -> build\\lib.win-amd64-3.8\\fiona\n",
      "  copying .\\fiona\\inspector.py -> build\\lib.win-amd64-3.8\\fiona\n",
      "  copying .\\fiona\\rfc3339.py -> build\\lib.win-amd64-3.8\\fiona\n",
      "  copying .\\fiona\\tool.py -> build\\lib.win-amd64-3.8\\fiona\n",
      "  copying .\\fiona\\transform.py -> build\\lib.win-amd64-3.8\\fiona\n",
      "  copying .\\fiona\\__init__.py -> build\\lib.win-amd64-3.8\\fiona\n",
      "  creating build\\lib.win-amd64-3.8\\fiona\\fio\n",
      "  copying .\\fiona\\fio\\bounds.py -> build\\lib.win-amd64-3.8\\fiona\\fio\n",
      "  copying .\\fiona\\fio\\calc.py -> build\\lib.win-amd64-3.8\\fiona\\fio\n",
      "  copying .\\fiona\\fio\\cat.py -> build\\lib.win-amd64-3.8\\fiona\\fio\n",
      "  copying .\\fiona\\fio\\collect.py -> build\\lib.win-amd64-3.8\\fiona\\fio\n",
      "  copying .\\fiona\\fio\\distrib.py -> build\\lib.win-amd64-3.8\\fiona\\fio\n",
      "  copying .\\fiona\\fio\\dump.py -> build\\lib.win-amd64-3.8\\fiona\\fio\n",
      "  copying .\\fiona\\fio\\env.py -> build\\lib.win-amd64-3.8\\fiona\\fio\n",
      "  copying .\\fiona\\fio\\filter.py -> build\\lib.win-amd64-3.8\\fiona\\fio\n",
      "  copying .\\fiona\\fio\\helpers.py -> build\\lib.win-amd64-3.8\\fiona\\fio\n",
      "  copying .\\fiona\\fio\\info.py -> build\\lib.win-amd64-3.8\\fiona\\fio\n",
      "  copying .\\fiona\\fio\\insp.py -> build\\lib.win-amd64-3.8\\fiona\\fio\n",
      "  copying .\\fiona\\fio\\load.py -> build\\lib.win-amd64-3.8\\fiona\\fio\n",
      "  copying .\\fiona\\fio\\ls.py -> build\\lib.win-amd64-3.8\\fiona\\fio\n",
      "  copying .\\fiona\\fio\\main.py -> build\\lib.win-amd64-3.8\\fiona\\fio\n",
      "  copying .\\fiona\\fio\\options.py -> build\\lib.win-amd64-3.8\\fiona\\fio\n",
      "  copying .\\fiona\\fio\\__init__.py -> build\\lib.win-amd64-3.8\\fiona\\fio\n",
      "  running build_ext\n",
      "  building 'fiona._transform' extension\n",
      "  creating build\\temp.win-amd64-3.8\n",
      "  creating build\\temp.win-amd64-3.8\\Release\n",
      "  creating build\\temp.win-amd64-3.8\\Release\\fiona\n",
      "  C:\\Users\\44455\\anaconda3\\Library\\mingw-w64\\bin\\gcc.exe -mdll -O -Wall -DMS_WIN64 -Ic:\\users\\44455\\anaconda3\\include -Ic:\\users\\44455\\anaconda3\\include -c fiona/_transform.cpp -o build\\temp.win-amd64-3.8\\Release\\fiona\\_transform.o\n",
      "  fiona/_transform.cpp:606:22: fatal error: cpl_conv.h: No such file or directory\n",
      "  compilation terminated.\n"
     ]
    },
    {
     "name": "stderr",
     "output_type": "stream",
     "text": [
      "  error: command 'C:\\\\Users\\\\44455\\\\anaconda3\\\\Library\\\\mingw-w64\\\\bin\\\\gcc.exe' failed with exit status 1\n",
      "  ----------------------------------------\n",
      "  ERROR: Failed building wheel for fiona\n",
      "    ERROR: Command errored out with exit status 1:\n",
      "     command: 'c:\\users\\44455\\anaconda3\\python.exe' -u -c 'import sys, setuptools, tokenize; sys.argv[0] = '\"'\"'C:\\\\Users\\\\44455\\\\AppData\\\\Local\\\\Temp\\\\pip-install-rqcyi7ld\\\\fiona_7807f6ee5c5349da8e1c016192d3c8d0\\\\setup.py'\"'\"'; __file__='\"'\"'C:\\\\Users\\\\44455\\\\AppData\\\\Local\\\\Temp\\\\pip-install-rqcyi7ld\\\\fiona_7807f6ee5c5349da8e1c016192d3c8d0\\\\setup.py'\"'\"';f=getattr(tokenize, '\"'\"'open'\"'\"', open)(__file__);code=f.read().replace('\"'\"'\\r\\n'\"'\"', '\"'\"'\\n'\"'\"');f.close();exec(compile(code, __file__, '\"'\"'exec'\"'\"'))' install --record 'C:\\Users\\44455\\AppData\\Local\\Temp\\pip-record-xro30eox\\install-record.txt' --single-version-externally-managed --compile --install-headers 'c:\\users\\44455\\anaconda3\\Include\\fiona'\n",
      "         cwd: C:\\Users\\44455\\AppData\\Local\\Temp\\pip-install-rqcyi7ld\\fiona_7807f6ee5c5349da8e1c016192d3c8d0\\\n",
      "    Complete output (18 lines):\n",
      "    c:\\users\\44455\\anaconda3\\lib\\distutils\\dist.py:274: UserWarning: Unknown distribution option: 'metadata_version'\n",
      "      warnings.warn(msg)\n",
      "    c:\\users\\44455\\anaconda3\\lib\\distutils\\dist.py:274: UserWarning: Unknown distribution option: 'requires_python'\n",
      "      warnings.warn(msg)\n",
      "    c:\\users\\44455\\anaconda3\\lib\\distutils\\dist.py:274: UserWarning: Unknown distribution option: 'requires_external'\n",
      "      warnings.warn(msg)\n",
      "    running install\n",
      "    running build\n",
      "    running build_py\n",
      "    running build_ext\n",
      "    building 'fiona._transform' extension\n",
      "    creating build\\temp.win-amd64-3.8\n",
      "    creating build\\temp.win-amd64-3.8\\Release\n",
      "    creating build\\temp.win-amd64-3.8\\Release\\fiona\n",
      "    C:\\Users\\44455\\anaconda3\\Library\\mingw-w64\\bin\\gcc.exe -mdll -O -Wall -DMS_WIN64 -Ic:\\users\\44455\\anaconda3\\include -Ic:\\users\\44455\\anaconda3\\include -c fiona/_transform.cpp -o build\\temp.win-amd64-3.8\\Release\\fiona\\_transform.o\n",
      "    fiona/_transform.cpp:606:22: fatal error: cpl_conv.h: No such file or directory\n",
      "    compilation terminated.\n",
      "    error: command 'C:\\\\Users\\\\44455\\\\anaconda3\\\\Library\\\\mingw-w64\\\\bin\\\\gcc.exe' failed with exit status 1\n",
      "    ----------------------------------------\n",
      "ERROR: Command errored out with exit status 1: 'c:\\users\\44455\\anaconda3\\python.exe' -u -c 'import sys, setuptools, tokenize; sys.argv[0] = '\"'\"'C:\\\\Users\\\\44455\\\\AppData\\\\Local\\\\Temp\\\\pip-install-rqcyi7ld\\\\fiona_7807f6ee5c5349da8e1c016192d3c8d0\\\\setup.py'\"'\"'; __file__='\"'\"'C:\\\\Users\\\\44455\\\\AppData\\\\Local\\\\Temp\\\\pip-install-rqcyi7ld\\\\fiona_7807f6ee5c5349da8e1c016192d3c8d0\\\\setup.py'\"'\"';f=getattr(tokenize, '\"'\"'open'\"'\"', open)(__file__);code=f.read().replace('\"'\"'\\r\\n'\"'\"', '\"'\"'\\n'\"'\"');f.close();exec(compile(code, __file__, '\"'\"'exec'\"'\"'))' install --record 'C:\\Users\\44455\\AppData\\Local\\Temp\\pip-record-xro30eox\\install-record.txt' --single-version-externally-managed --compile --install-headers 'c:\\users\\44455\\anaconda3\\Include\\fiona' Check the logs for full command output.\n",
      "WARNING: You are using pip version 21.0.1; however, version 21.1.1 is available.\n",
      "You should consider upgrading via the 'c:\\users\\44455\\anaconda3\\python.exe -m pip install --upgrade pip' command.\n"
     ]
    },
    {
     "name": "stdout",
     "output_type": "stream",
     "text": [
      "Collecting pyshp==2.1.2\n",
      "  Downloading pyshp-2.1.2.tar.gz (217 kB)\n",
      "Building wheels for collected packages: pyshp\n",
      "  Building wheel for pyshp (setup.py): started\n",
      "  Building wheel for pyshp (setup.py): finished with status 'done'\n",
      "  Created wheel for pyshp: filename=pyshp-2.1.2-py3-none-any.whl size=36221 sha256=28a9d66acf8eb7c54c4ea659c1272bf076d64af4848c5be692f2ed2205442c85\n",
      "  Stored in directory: c:\\users\\44455\\appdata\\local\\pip\\cache\\wheels\\49\\29\\69\\6b6a800e28c596146549d22f4e1013abfcbb466cd179e586d3\n",
      "Successfully built pyshp\n",
      "Installing collected packages: pyshp\n",
      "  Attempting uninstall: pyshp\n",
      "    Found existing installation: pyshp 2.1.3\n",
      "    Uninstalling pyshp-2.1.3:\n",
      "      Successfully uninstalled pyshp-2.1.3\n",
      "Successfully installed pyshp-2.1.2\n"
     ]
    },
    {
     "name": "stderr",
     "output_type": "stream",
     "text": [
      "WARNING: You are using pip version 21.0.1; however, version 21.1.1 is available.\n",
      "You should consider upgrading via the 'c:\\users\\44455\\anaconda3\\python.exe -m pip install --upgrade pip' command.\n"
     ]
    },
    {
     "name": "stdout",
     "output_type": "stream",
     "text": [
      "Requirement already satisfied: shapely==1.7.1 in c:\\users\\44455\\anaconda3\\lib\\site-packages (1.7.1)\n"
     ]
    },
    {
     "name": "stderr",
     "output_type": "stream",
     "text": [
      "WARNING: You are using pip version 21.0.1; however, version 21.1.1 is available.\n",
      "You should consider upgrading via the 'c:\\users\\44455\\anaconda3\\python.exe -m pip install --upgrade pip' command.\n"
     ]
    },
    {
     "name": "stdout",
     "output_type": "stream",
     "text": [
      "Requirement already satisfied: plotly-geo==1.0.0 in c:\\users\\44455\\anaconda3\\lib\\site-packages (1.0.0)\n"
     ]
    },
    {
     "name": "stderr",
     "output_type": "stream",
     "text": [
      "WARNING: You are using pip version 21.0.1; however, version 21.1.1 is available.\n",
      "You should consider upgrading via the 'c:\\users\\44455\\anaconda3\\python.exe -m pip install --upgrade pip' command.\n"
     ]
    }
   ],
   "source": [
    "!pip install geopandas==0.8.1\n",
    "!pip install pyshp==2.1.2\n",
    "!pip install shapely==1.7.1\n",
    "!pip install plotly-geo==1.0.0"
   ]
  },
  {
   "cell_type": "markdown",
   "metadata": {},
   "source": [
    "# 1. 모듈 및 데이터 호출"
   ]
  },
  {
   "cell_type": "code",
   "execution_count": 286,
   "metadata": {},
   "outputs": [],
   "source": [
    "import numpy as np \n",
    "import pandas as pd\n",
    "import matplotlib.pyplot as plt\n",
    "import seaborn as sns"
   ]
  },
  {
   "cell_type": "code",
   "execution_count": 287,
   "metadata": {},
   "outputs": [],
   "source": [
    "# from US Election 2020\n",
    "df_pres = pd.read_csv('./data/president_county_candidate.csv')\n",
    "df_gov = pd.read_csv('./data/governors_county_candidate.csv')\n",
    "df_sen = pd.read_csv('./data/senate_county_candidate.csv')\n",
    "df_hou = pd.read_csv('./data/house_candidate.csv')\n",
    "\n",
    "\n",
    "# from US Census 2017\n",
    "df_census = pd.read_csv('./data/acs2017_county_data.csv')\n",
    "\n",
    "# 보조 데이터 2\n",
    "state_code = pd.read_html('https://www.infoplease.com/us/postal-information/state-abbreviations-and-state-postal-codes?query=United%20States%20of%20America&afdToken=ChMIlt-LpsHT8AIV1wSICh1WGAP8ElHcHWDqMct02e-oOwXR9de-YIub12XnmwOshbHVaE868Tva8fdM_0sG9ICXM3svtJ8bZe_TlAtNqNuVpyDLuUwT67P2TOlFqLFo0wPHDsUVNYM&pcsa=false&nb=0&nm=31&nx=258&ny=17&is=659x374&clkt=96&bg=!V1SlVBDNAAZ7hX_Ue4U7ACkA7BJNWaNI_V0njKs-wFcyK_X55fxkTXyR0LE0p5HRtg4LFDmkzjOGCgIAAAAgUgAAABBoAQcKAJHlJbbfiYYtKhQ1aeuU4f4OcF8JhCMZhexQLSMpOR4NHT8360-sVNQL5CmyrJ4PceLcFJRBXUHlr3pp5IeZz4Z5XyLCGuKCAetXBz4jd6ylMlxK6OObeJLp0i7V0zMLv8DxKpABm4jmONe_iPYUIe-uls6iYt4Rti5U-F60agS5m4SGlsvGr1PFBYi-U-PFHZTpmQHGaanfIBVs_7zPVKPYLYWK4XSofwp8DpxB2U8h3AXACTbXVrL68NRnAovIv6b4sVekPqPYW6_cr0S6GzMjAoPT3BoMscAUPhGBNX9JoRRyvnlC4y5Y3pr0azZnT5TZiI_TeKVquAidr4c8Ca1L6kb3t6O60EFM3ueIfjqTwCaZ9voTDNXNSnMYG5TMYLle5k8osi2OshaSyQIAt2aPpGfB8ihmYuNHYrUcRovmVvWYM3lkGELl9HFyULzbmJPA50m5rmCSz1tSkAb1CZ0_UUD-8hccEpE4d6KkYqZYjuaefZDzeczbHAr35BmmFpmLNNq7oSYurqrfFjeVgEnk6a1jvMl-dEbtJFqRm-uBuPcXKUMM6dcE5ugm3m_yz_VKxeEDV9IKJM4ZKQco2O5SdnEKgLo4PI5Xf3J57mUD-MM3YFpsZ7rWDu4T8lgVyI3Rr8f56DeKmdOVPlQdeSN9rJ_2V9PvdbP7NQP45LRi_FHS_ES00xnov2LQeouLdfyU232RxpChftKtSLPyo6RybhFCKM96lgfjjS7i9QrPXdlbHd9xVDqRjroHIZqyboX9cn9XEQcKFzzZI-vxJBCfOm8jFkL4byLZNg')[0]"
   ]
  },
  {
   "cell_type": "markdown",
   "metadata": {},
   "source": [
    "<데이터 스키마>\n",
    "- state : 주\n",
    "- county : 카운티\n",
    "- district : 지구\n",
    "- cnadidate : 후보자\n",
    "- party : 후보자 소속 정당\n",
    "- total_votes : 상임위원 투표 결과\n",
    "- won : 지역 투표 우승 여부"
   ]
  },
  {
   "cell_type": "markdown",
   "metadata": {},
   "source": [
    "------------------"
   ]
  },
  {
   "cell_type": "markdown",
   "metadata": {},
   "source": [
    "# 2. EDA 및 데이터 기초 통계 분석"
   ]
  },
  {
   "cell_type": "code",
   "execution_count": 288,
   "metadata": {},
   "outputs": [
    {
     "data": {
      "text/html": [
       "<div>\n",
       "<style scoped>\n",
       "    .dataframe tbody tr th:only-of-type {\n",
       "        vertical-align: middle;\n",
       "    }\n",
       "\n",
       "    .dataframe tbody tr th {\n",
       "        vertical-align: top;\n",
       "    }\n",
       "\n",
       "    .dataframe thead th {\n",
       "        text-align: right;\n",
       "    }\n",
       "</style>\n",
       "<table border=\"1\" class=\"dataframe\">\n",
       "  <thead>\n",
       "    <tr style=\"text-align: right;\">\n",
       "      <th></th>\n",
       "      <th>state</th>\n",
       "      <th>county</th>\n",
       "      <th>candidate</th>\n",
       "      <th>party</th>\n",
       "      <th>total_votes</th>\n",
       "      <th>won</th>\n",
       "    </tr>\n",
       "  </thead>\n",
       "  <tbody>\n",
       "    <tr>\n",
       "      <th>0</th>\n",
       "      <td>Delaware</td>\n",
       "      <td>Kent County</td>\n",
       "      <td>Joe Biden</td>\n",
       "      <td>DEM</td>\n",
       "      <td>44552</td>\n",
       "      <td>True</td>\n",
       "    </tr>\n",
       "    <tr>\n",
       "      <th>1</th>\n",
       "      <td>Delaware</td>\n",
       "      <td>Kent County</td>\n",
       "      <td>Donald Trump</td>\n",
       "      <td>REP</td>\n",
       "      <td>41009</td>\n",
       "      <td>False</td>\n",
       "    </tr>\n",
       "    <tr>\n",
       "      <th>2</th>\n",
       "      <td>Delaware</td>\n",
       "      <td>Kent County</td>\n",
       "      <td>Jo Jorgensen</td>\n",
       "      <td>LIB</td>\n",
       "      <td>1044</td>\n",
       "      <td>False</td>\n",
       "    </tr>\n",
       "    <tr>\n",
       "      <th>3</th>\n",
       "      <td>Delaware</td>\n",
       "      <td>Kent County</td>\n",
       "      <td>Howie Hawkins</td>\n",
       "      <td>GRN</td>\n",
       "      <td>420</td>\n",
       "      <td>False</td>\n",
       "    </tr>\n",
       "    <tr>\n",
       "      <th>4</th>\n",
       "      <td>Delaware</td>\n",
       "      <td>New Castle County</td>\n",
       "      <td>Joe Biden</td>\n",
       "      <td>DEM</td>\n",
       "      <td>195034</td>\n",
       "      <td>True</td>\n",
       "    </tr>\n",
       "  </tbody>\n",
       "</table>\n",
       "</div>"
      ],
      "text/plain": [
       "      state             county      candidate party  total_votes    won\n",
       "0  Delaware        Kent County      Joe Biden   DEM        44552   True\n",
       "1  Delaware        Kent County   Donald Trump   REP        41009  False\n",
       "2  Delaware        Kent County   Jo Jorgensen   LIB         1044  False\n",
       "3  Delaware        Kent County  Howie Hawkins   GRN          420  False\n",
       "4  Delaware  New Castle County      Joe Biden   DEM       195034   True"
      ]
     },
     "execution_count": 288,
     "metadata": {},
     "output_type": "execute_result"
    }
   ],
   "source": [
    "df_pres.head()"
   ]
  },
  {
   "cell_type": "code",
   "execution_count": 289,
   "metadata": {},
   "outputs": [
    {
     "data": {
      "text/plain": [
       "Joe Biden             4633\n",
       "Donald Trump          4633\n",
       "Jo Jorgensen          4633\n",
       " Write-ins            3792\n",
       "Howie Hawkins         2994\n",
       "Rocky De La Fuente    1562\n",
       "Don Blankenship       1317\n",
       "Brock Pierce          1124\n",
       "Kanye West            1082\n",
       "Gloria La Riva        1028\n",
       "Name: candidate, dtype: int64"
      ]
     },
     "execution_count": 289,
     "metadata": {},
     "output_type": "execute_result"
    }
   ],
   "source": [
    "df_pres['candidate'].value_counts().head(10)"
   ]
  },
  {
   "cell_type": "code",
   "execution_count": 290,
   "metadata": {},
   "outputs": [
    {
     "data": {
      "text/plain": [
       "66367"
      ]
     },
     "execution_count": 290,
     "metadata": {},
     "output_type": "execute_result"
    }
   ],
   "source": [
    "# 칸예 웨스트 득표수\n",
    "df_pres.loc[df_pres['candidate'] == 'Kanye West']['total_votes'].sum()"
   ]
  },
  {
   "cell_type": "code",
   "execution_count": 291,
   "metadata": {},
   "outputs": [
    {
     "data": {
      "text/html": [
       "<div>\n",
       "<style scoped>\n",
       "    .dataframe tbody tr th:only-of-type {\n",
       "        vertical-align: middle;\n",
       "    }\n",
       "\n",
       "    .dataframe tbody tr th {\n",
       "        vertical-align: top;\n",
       "    }\n",
       "\n",
       "    .dataframe thead th {\n",
       "        text-align: right;\n",
       "    }\n",
       "</style>\n",
       "<table border=\"1\" class=\"dataframe\">\n",
       "  <thead>\n",
       "    <tr style=\"text-align: right;\">\n",
       "      <th></th>\n",
       "      <th>state</th>\n",
       "      <th>county</th>\n",
       "      <th>candidate</th>\n",
       "      <th>party</th>\n",
       "      <th>votes</th>\n",
       "      <th>won</th>\n",
       "    </tr>\n",
       "  </thead>\n",
       "  <tbody>\n",
       "    <tr>\n",
       "      <th>0</th>\n",
       "      <td>Delaware</td>\n",
       "      <td>Kent County</td>\n",
       "      <td>John Carney</td>\n",
       "      <td>DEM</td>\n",
       "      <td>44352</td>\n",
       "      <td>True</td>\n",
       "    </tr>\n",
       "    <tr>\n",
       "      <th>1</th>\n",
       "      <td>Delaware</td>\n",
       "      <td>Kent County</td>\n",
       "      <td>Julianne Murray</td>\n",
       "      <td>REP</td>\n",
       "      <td>39332</td>\n",
       "      <td>False</td>\n",
       "    </tr>\n",
       "    <tr>\n",
       "      <th>2</th>\n",
       "      <td>Delaware</td>\n",
       "      <td>Kent County</td>\n",
       "      <td>Kathy DeMatteis</td>\n",
       "      <td>IPD</td>\n",
       "      <td>1115</td>\n",
       "      <td>False</td>\n",
       "    </tr>\n",
       "    <tr>\n",
       "      <th>3</th>\n",
       "      <td>Delaware</td>\n",
       "      <td>Kent County</td>\n",
       "      <td>John Machurek</td>\n",
       "      <td>LIB</td>\n",
       "      <td>616</td>\n",
       "      <td>False</td>\n",
       "    </tr>\n",
       "    <tr>\n",
       "      <th>4</th>\n",
       "      <td>Delaware</td>\n",
       "      <td>New Castle County</td>\n",
       "      <td>John Carney</td>\n",
       "      <td>DEM</td>\n",
       "      <td>191678</td>\n",
       "      <td>True</td>\n",
       "    </tr>\n",
       "  </tbody>\n",
       "</table>\n",
       "</div>"
      ],
      "text/plain": [
       "      state             county        candidate party   votes    won\n",
       "0  Delaware        Kent County      John Carney   DEM   44352   True\n",
       "1  Delaware        Kent County  Julianne Murray   REP   39332  False\n",
       "2  Delaware        Kent County  Kathy DeMatteis   IPD    1115  False\n",
       "3  Delaware        Kent County    John Machurek   LIB     616  False\n",
       "4  Delaware  New Castle County      John Carney   DEM  191678   True"
      ]
     },
     "execution_count": 291,
     "metadata": {},
     "output_type": "execute_result"
    }
   ],
   "source": [
    "df_gov.head()"
   ]
  },
  {
   "cell_type": "code",
   "execution_count": 292,
   "metadata": {},
   "outputs": [
    {
     "data": {
      "text/html": [
       "<div>\n",
       "<style scoped>\n",
       "    .dataframe tbody tr th:only-of-type {\n",
       "        vertical-align: middle;\n",
       "    }\n",
       "\n",
       "    .dataframe tbody tr th {\n",
       "        vertical-align: top;\n",
       "    }\n",
       "\n",
       "    .dataframe thead th {\n",
       "        text-align: right;\n",
       "    }\n",
       "</style>\n",
       "<table border=\"1\" class=\"dataframe\">\n",
       "  <thead>\n",
       "    <tr style=\"text-align: right;\">\n",
       "      <th></th>\n",
       "      <th>CountyId</th>\n",
       "      <th>State</th>\n",
       "      <th>County</th>\n",
       "      <th>TotalPop</th>\n",
       "      <th>Men</th>\n",
       "      <th>Women</th>\n",
       "      <th>Hispanic</th>\n",
       "      <th>White</th>\n",
       "      <th>Black</th>\n",
       "      <th>Native</th>\n",
       "      <th>...</th>\n",
       "      <th>Walk</th>\n",
       "      <th>OtherTransp</th>\n",
       "      <th>WorkAtHome</th>\n",
       "      <th>MeanCommute</th>\n",
       "      <th>Employed</th>\n",
       "      <th>PrivateWork</th>\n",
       "      <th>PublicWork</th>\n",
       "      <th>SelfEmployed</th>\n",
       "      <th>FamilyWork</th>\n",
       "      <th>Unemployment</th>\n",
       "    </tr>\n",
       "  </thead>\n",
       "  <tbody>\n",
       "    <tr>\n",
       "      <th>0</th>\n",
       "      <td>1001</td>\n",
       "      <td>Alabama</td>\n",
       "      <td>Autauga County</td>\n",
       "      <td>55036</td>\n",
       "      <td>26899</td>\n",
       "      <td>28137</td>\n",
       "      <td>2.7</td>\n",
       "      <td>75.4</td>\n",
       "      <td>18.9</td>\n",
       "      <td>0.3</td>\n",
       "      <td>...</td>\n",
       "      <td>0.6</td>\n",
       "      <td>1.3</td>\n",
       "      <td>2.5</td>\n",
       "      <td>25.8</td>\n",
       "      <td>24112</td>\n",
       "      <td>74.1</td>\n",
       "      <td>20.2</td>\n",
       "      <td>5.6</td>\n",
       "      <td>0.1</td>\n",
       "      <td>5.2</td>\n",
       "    </tr>\n",
       "    <tr>\n",
       "      <th>1</th>\n",
       "      <td>1003</td>\n",
       "      <td>Alabama</td>\n",
       "      <td>Baldwin County</td>\n",
       "      <td>203360</td>\n",
       "      <td>99527</td>\n",
       "      <td>103833</td>\n",
       "      <td>4.4</td>\n",
       "      <td>83.1</td>\n",
       "      <td>9.5</td>\n",
       "      <td>0.8</td>\n",
       "      <td>...</td>\n",
       "      <td>0.8</td>\n",
       "      <td>1.1</td>\n",
       "      <td>5.6</td>\n",
       "      <td>27.0</td>\n",
       "      <td>89527</td>\n",
       "      <td>80.7</td>\n",
       "      <td>12.9</td>\n",
       "      <td>6.3</td>\n",
       "      <td>0.1</td>\n",
       "      <td>5.5</td>\n",
       "    </tr>\n",
       "    <tr>\n",
       "      <th>2</th>\n",
       "      <td>1005</td>\n",
       "      <td>Alabama</td>\n",
       "      <td>Barbour County</td>\n",
       "      <td>26201</td>\n",
       "      <td>13976</td>\n",
       "      <td>12225</td>\n",
       "      <td>4.2</td>\n",
       "      <td>45.7</td>\n",
       "      <td>47.8</td>\n",
       "      <td>0.2</td>\n",
       "      <td>...</td>\n",
       "      <td>2.2</td>\n",
       "      <td>1.7</td>\n",
       "      <td>1.3</td>\n",
       "      <td>23.4</td>\n",
       "      <td>8878</td>\n",
       "      <td>74.1</td>\n",
       "      <td>19.1</td>\n",
       "      <td>6.5</td>\n",
       "      <td>0.3</td>\n",
       "      <td>12.4</td>\n",
       "    </tr>\n",
       "    <tr>\n",
       "      <th>3</th>\n",
       "      <td>1007</td>\n",
       "      <td>Alabama</td>\n",
       "      <td>Bibb County</td>\n",
       "      <td>22580</td>\n",
       "      <td>12251</td>\n",
       "      <td>10329</td>\n",
       "      <td>2.4</td>\n",
       "      <td>74.6</td>\n",
       "      <td>22.0</td>\n",
       "      <td>0.4</td>\n",
       "      <td>...</td>\n",
       "      <td>0.3</td>\n",
       "      <td>1.7</td>\n",
       "      <td>1.5</td>\n",
       "      <td>30.0</td>\n",
       "      <td>8171</td>\n",
       "      <td>76.0</td>\n",
       "      <td>17.4</td>\n",
       "      <td>6.3</td>\n",
       "      <td>0.3</td>\n",
       "      <td>8.2</td>\n",
       "    </tr>\n",
       "    <tr>\n",
       "      <th>4</th>\n",
       "      <td>1009</td>\n",
       "      <td>Alabama</td>\n",
       "      <td>Blount County</td>\n",
       "      <td>57667</td>\n",
       "      <td>28490</td>\n",
       "      <td>29177</td>\n",
       "      <td>9.0</td>\n",
       "      <td>87.4</td>\n",
       "      <td>1.5</td>\n",
       "      <td>0.3</td>\n",
       "      <td>...</td>\n",
       "      <td>0.4</td>\n",
       "      <td>0.4</td>\n",
       "      <td>2.1</td>\n",
       "      <td>35.0</td>\n",
       "      <td>21380</td>\n",
       "      <td>83.9</td>\n",
       "      <td>11.9</td>\n",
       "      <td>4.0</td>\n",
       "      <td>0.1</td>\n",
       "      <td>4.9</td>\n",
       "    </tr>\n",
       "  </tbody>\n",
       "</table>\n",
       "<p>5 rows × 37 columns</p>\n",
       "</div>"
      ],
      "text/plain": [
       "   CountyId    State          County  TotalPop    Men   Women  Hispanic  \\\n",
       "0      1001  Alabama  Autauga County     55036  26899   28137       2.7   \n",
       "1      1003  Alabama  Baldwin County    203360  99527  103833       4.4   \n",
       "2      1005  Alabama  Barbour County     26201  13976   12225       4.2   \n",
       "3      1007  Alabama     Bibb County     22580  12251   10329       2.4   \n",
       "4      1009  Alabama   Blount County     57667  28490   29177       9.0   \n",
       "\n",
       "   White  Black  Native  ...  Walk  OtherTransp  WorkAtHome  MeanCommute  \\\n",
       "0   75.4   18.9     0.3  ...   0.6          1.3         2.5         25.8   \n",
       "1   83.1    9.5     0.8  ...   0.8          1.1         5.6         27.0   \n",
       "2   45.7   47.8     0.2  ...   2.2          1.7         1.3         23.4   \n",
       "3   74.6   22.0     0.4  ...   0.3          1.7         1.5         30.0   \n",
       "4   87.4    1.5     0.3  ...   0.4          0.4         2.1         35.0   \n",
       "\n",
       "   Employed  PrivateWork  PublicWork  SelfEmployed  FamilyWork  Unemployment  \n",
       "0     24112         74.1        20.2           5.6         0.1           5.2  \n",
       "1     89527         80.7        12.9           6.3         0.1           5.5  \n",
       "2      8878         74.1        19.1           6.5         0.3          12.4  \n",
       "3      8171         76.0        17.4           6.3         0.3           8.2  \n",
       "4     21380         83.9        11.9           4.0         0.1           4.9  \n",
       "\n",
       "[5 rows x 37 columns]"
      ]
     },
     "execution_count": 292,
     "metadata": {},
     "output_type": "execute_result"
    }
   ],
   "source": [
    "df_census.head()"
   ]
  },
  {
   "cell_type": "code",
   "execution_count": 293,
   "metadata": {},
   "outputs": [
    {
     "data": {
      "text/html": [
       "<div>\n",
       "<style scoped>\n",
       "    .dataframe tbody tr th:only-of-type {\n",
       "        vertical-align: middle;\n",
       "    }\n",
       "\n",
       "    .dataframe tbody tr th {\n",
       "        vertical-align: top;\n",
       "    }\n",
       "\n",
       "    .dataframe thead th {\n",
       "        text-align: right;\n",
       "    }\n",
       "</style>\n",
       "<table border=\"1\" class=\"dataframe\">\n",
       "  <thead>\n",
       "    <tr style=\"text-align: right;\">\n",
       "      <th></th>\n",
       "      <th>State/District</th>\n",
       "      <th>Abbreviation</th>\n",
       "      <th>Postal Code</th>\n",
       "    </tr>\n",
       "  </thead>\n",
       "  <tbody>\n",
       "    <tr>\n",
       "      <th>0</th>\n",
       "      <td>Alabama</td>\n",
       "      <td>Ala.</td>\n",
       "      <td>AL</td>\n",
       "    </tr>\n",
       "    <tr>\n",
       "      <th>1</th>\n",
       "      <td>Alaska</td>\n",
       "      <td>Alaska</td>\n",
       "      <td>AK</td>\n",
       "    </tr>\n",
       "    <tr>\n",
       "      <th>2</th>\n",
       "      <td>Arizona</td>\n",
       "      <td>Ariz.</td>\n",
       "      <td>AZ</td>\n",
       "    </tr>\n",
       "    <tr>\n",
       "      <th>3</th>\n",
       "      <td>Arkansas</td>\n",
       "      <td>Ark.</td>\n",
       "      <td>AR</td>\n",
       "    </tr>\n",
       "    <tr>\n",
       "      <th>4</th>\n",
       "      <td>California</td>\n",
       "      <td>Calif.</td>\n",
       "      <td>CA</td>\n",
       "    </tr>\n",
       "  </tbody>\n",
       "</table>\n",
       "</div>"
      ],
      "text/plain": [
       "  State/District Abbreviation Postal Code\n",
       "0        Alabama         Ala.          AL\n",
       "1         Alaska       Alaska          AK\n",
       "2        Arizona        Ariz.          AZ\n",
       "3       Arkansas         Ark.          AR\n",
       "4     California       Calif.          CA"
      ]
     },
     "execution_count": 293,
     "metadata": {},
     "output_type": "execute_result"
    }
   ],
   "source": [
    "state_code.head()"
   ]
  },
  {
   "cell_type": "code",
   "execution_count": null,
   "metadata": {},
   "outputs": [],
   "source": []
  },
  {
   "cell_type": "markdown",
   "metadata": {},
   "source": [
    "------------------"
   ]
  },
  {
   "cell_type": "markdown",
   "metadata": {},
   "source": [
    "# 3. 데이터프레임 전처리 및 조작"
   ]
  },
  {
   "cell_type": "markdown",
   "metadata": {},
   "source": [
    "### County 별 통계로 데이터프레임 구조 변경하기"
   ]
  },
  {
   "cell_type": "markdown",
   "metadata": {},
   "source": [
    "### 1.df_pres"
   ]
  },
  {
   "cell_type": "code",
   "execution_count": null,
   "metadata": {},
   "outputs": [],
   "source": [
    "df_sulbing = df[df['상호명'].str.contains('설빙|sulbing', na=False)] "
   ]
  },
  {
   "cell_type": "code",
   "execution_count": 386,
   "metadata": {},
   "outputs": [
    {
     "data": {
      "text/html": [
       "<div>\n",
       "<style scoped>\n",
       "    .dataframe tbody tr th:only-of-type {\n",
       "        vertical-align: middle;\n",
       "    }\n",
       "\n",
       "    .dataframe tbody tr th {\n",
       "        vertical-align: top;\n",
       "    }\n",
       "\n",
       "    .dataframe thead th {\n",
       "        text-align: right;\n",
       "    }\n",
       "</style>\n",
       "<table border=\"1\" class=\"dataframe\">\n",
       "  <thead>\n",
       "    <tr style=\"text-align: right;\">\n",
       "      <th></th>\n",
       "      <th>state</th>\n",
       "      <th>county</th>\n",
       "      <th>candidate</th>\n",
       "      <th>party</th>\n",
       "      <th>total_votes</th>\n",
       "      <th>won</th>\n",
       "    </tr>\n",
       "  </thead>\n",
       "  <tbody>\n",
       "    <tr>\n",
       "      <th>0</th>\n",
       "      <td>Delaware</td>\n",
       "      <td>Kent County</td>\n",
       "      <td>Joe Biden</td>\n",
       "      <td>DEM</td>\n",
       "      <td>44552</td>\n",
       "      <td>True</td>\n",
       "    </tr>\n",
       "    <tr>\n",
       "      <th>1</th>\n",
       "      <td>Delaware</td>\n",
       "      <td>Kent County</td>\n",
       "      <td>Donald Trump</td>\n",
       "      <td>REP</td>\n",
       "      <td>41009</td>\n",
       "      <td>False</td>\n",
       "    </tr>\n",
       "    <tr>\n",
       "      <th>4</th>\n",
       "      <td>Delaware</td>\n",
       "      <td>New Castle County</td>\n",
       "      <td>Joe Biden</td>\n",
       "      <td>DEM</td>\n",
       "      <td>195034</td>\n",
       "      <td>True</td>\n",
       "    </tr>\n",
       "    <tr>\n",
       "      <th>5</th>\n",
       "      <td>Delaware</td>\n",
       "      <td>New Castle County</td>\n",
       "      <td>Donald Trump</td>\n",
       "      <td>REP</td>\n",
       "      <td>88364</td>\n",
       "      <td>False</td>\n",
       "    </tr>\n",
       "    <tr>\n",
       "      <th>8</th>\n",
       "      <td>Delaware</td>\n",
       "      <td>Sussex County</td>\n",
       "      <td>Donald Trump</td>\n",
       "      <td>REP</td>\n",
       "      <td>71230</td>\n",
       "      <td>True</td>\n",
       "    </tr>\n",
       "    <tr>\n",
       "      <th>...</th>\n",
       "      <td>...</td>\n",
       "      <td>...</td>\n",
       "      <td>...</td>\n",
       "      <td>...</td>\n",
       "      <td>...</td>\n",
       "      <td>...</td>\n",
       "    </tr>\n",
       "    <tr>\n",
       "      <th>32166</th>\n",
       "      <td>Arizona</td>\n",
       "      <td>La Paz County</td>\n",
       "      <td>Joe Biden</td>\n",
       "      <td>DEM</td>\n",
       "      <td>2236</td>\n",
       "      <td>False</td>\n",
       "    </tr>\n",
       "    <tr>\n",
       "      <th>32169</th>\n",
       "      <td>Arizona</td>\n",
       "      <td>Maricopa County</td>\n",
       "      <td>Joe Biden</td>\n",
       "      <td>DEM</td>\n",
       "      <td>1040774</td>\n",
       "      <td>True</td>\n",
       "    </tr>\n",
       "    <tr>\n",
       "      <th>32170</th>\n",
       "      <td>Arizona</td>\n",
       "      <td>Maricopa County</td>\n",
       "      <td>Donald Trump</td>\n",
       "      <td>REP</td>\n",
       "      <td>995665</td>\n",
       "      <td>False</td>\n",
       "    </tr>\n",
       "    <tr>\n",
       "      <th>32173</th>\n",
       "      <td>Arizona</td>\n",
       "      <td>Mohave County</td>\n",
       "      <td>Donald Trump</td>\n",
       "      <td>REP</td>\n",
       "      <td>78535</td>\n",
       "      <td>True</td>\n",
       "    </tr>\n",
       "    <tr>\n",
       "      <th>32174</th>\n",
       "      <td>Arizona</td>\n",
       "      <td>Mohave County</td>\n",
       "      <td>Joe Biden</td>\n",
       "      <td>DEM</td>\n",
       "      <td>24831</td>\n",
       "      <td>False</td>\n",
       "    </tr>\n",
       "  </tbody>\n",
       "</table>\n",
       "<p>9266 rows × 6 columns</p>\n",
       "</div>"
      ],
      "text/plain": [
       "          state             county     candidate party  total_votes    won\n",
       "0      Delaware        Kent County     Joe Biden   DEM        44552   True\n",
       "1      Delaware        Kent County  Donald Trump   REP        41009  False\n",
       "4      Delaware  New Castle County     Joe Biden   DEM       195034   True\n",
       "5      Delaware  New Castle County  Donald Trump   REP        88364  False\n",
       "8      Delaware      Sussex County  Donald Trump   REP        71230   True\n",
       "...         ...                ...           ...   ...          ...    ...\n",
       "32166   Arizona      La Paz County     Joe Biden   DEM         2236  False\n",
       "32169   Arizona    Maricopa County     Joe Biden   DEM      1040774   True\n",
       "32170   Arizona    Maricopa County  Donald Trump   REP       995665  False\n",
       "32173   Arizona      Mohave County  Donald Trump   REP        78535   True\n",
       "32174   Arizona      Mohave County     Joe Biden   DEM        24831  False\n",
       "\n",
       "[9266 rows x 6 columns]"
      ]
     },
     "execution_count": 386,
     "metadata": {},
     "output_type": "execute_result"
    }
   ],
   "source": [
    "df_pres[df_pres['party'].str.contains('DEM|REP')]"
   ]
  },
  {
   "cell_type": "code",
   "execution_count": 385,
   "metadata": {},
   "outputs": [
    {
     "data": {
      "text/html": [
       "<div>\n",
       "<style scoped>\n",
       "    .dataframe tbody tr th:only-of-type {\n",
       "        vertical-align: middle;\n",
       "    }\n",
       "\n",
       "    .dataframe tbody tr th {\n",
       "        vertical-align: top;\n",
       "    }\n",
       "\n",
       "    .dataframe thead th {\n",
       "        text-align: right;\n",
       "    }\n",
       "</style>\n",
       "<table border=\"1\" class=\"dataframe\">\n",
       "  <thead>\n",
       "    <tr style=\"text-align: right;\">\n",
       "      <th></th>\n",
       "      <th>state</th>\n",
       "      <th>county</th>\n",
       "      <th>candidate</th>\n",
       "      <th>party</th>\n",
       "      <th>total_votes</th>\n",
       "      <th>won</th>\n",
       "    </tr>\n",
       "  </thead>\n",
       "  <tbody>\n",
       "    <tr>\n",
       "      <th>0</th>\n",
       "      <td>Delaware</td>\n",
       "      <td>Kent County</td>\n",
       "      <td>Joe Biden</td>\n",
       "      <td>DEM</td>\n",
       "      <td>44552</td>\n",
       "      <td>True</td>\n",
       "    </tr>\n",
       "    <tr>\n",
       "      <th>1</th>\n",
       "      <td>Delaware</td>\n",
       "      <td>Kent County</td>\n",
       "      <td>Donald Trump</td>\n",
       "      <td>REP</td>\n",
       "      <td>41009</td>\n",
       "      <td>False</td>\n",
       "    </tr>\n",
       "    <tr>\n",
       "      <th>4</th>\n",
       "      <td>Delaware</td>\n",
       "      <td>New Castle County</td>\n",
       "      <td>Joe Biden</td>\n",
       "      <td>DEM</td>\n",
       "      <td>195034</td>\n",
       "      <td>True</td>\n",
       "    </tr>\n",
       "    <tr>\n",
       "      <th>5</th>\n",
       "      <td>Delaware</td>\n",
       "      <td>New Castle County</td>\n",
       "      <td>Donald Trump</td>\n",
       "      <td>REP</td>\n",
       "      <td>88364</td>\n",
       "      <td>False</td>\n",
       "    </tr>\n",
       "    <tr>\n",
       "      <th>8</th>\n",
       "      <td>Delaware</td>\n",
       "      <td>Sussex County</td>\n",
       "      <td>Donald Trump</td>\n",
       "      <td>REP</td>\n",
       "      <td>71230</td>\n",
       "      <td>True</td>\n",
       "    </tr>\n",
       "    <tr>\n",
       "      <th>...</th>\n",
       "      <td>...</td>\n",
       "      <td>...</td>\n",
       "      <td>...</td>\n",
       "      <td>...</td>\n",
       "      <td>...</td>\n",
       "      <td>...</td>\n",
       "    </tr>\n",
       "    <tr>\n",
       "      <th>32166</th>\n",
       "      <td>Arizona</td>\n",
       "      <td>La Paz County</td>\n",
       "      <td>Joe Biden</td>\n",
       "      <td>DEM</td>\n",
       "      <td>2236</td>\n",
       "      <td>False</td>\n",
       "    </tr>\n",
       "    <tr>\n",
       "      <th>32169</th>\n",
       "      <td>Arizona</td>\n",
       "      <td>Maricopa County</td>\n",
       "      <td>Joe Biden</td>\n",
       "      <td>DEM</td>\n",
       "      <td>1040774</td>\n",
       "      <td>True</td>\n",
       "    </tr>\n",
       "    <tr>\n",
       "      <th>32170</th>\n",
       "      <td>Arizona</td>\n",
       "      <td>Maricopa County</td>\n",
       "      <td>Donald Trump</td>\n",
       "      <td>REP</td>\n",
       "      <td>995665</td>\n",
       "      <td>False</td>\n",
       "    </tr>\n",
       "    <tr>\n",
       "      <th>32173</th>\n",
       "      <td>Arizona</td>\n",
       "      <td>Mohave County</td>\n",
       "      <td>Donald Trump</td>\n",
       "      <td>REP</td>\n",
       "      <td>78535</td>\n",
       "      <td>True</td>\n",
       "    </tr>\n",
       "    <tr>\n",
       "      <th>32174</th>\n",
       "      <td>Arizona</td>\n",
       "      <td>Mohave County</td>\n",
       "      <td>Joe Biden</td>\n",
       "      <td>DEM</td>\n",
       "      <td>24831</td>\n",
       "      <td>False</td>\n",
       "    </tr>\n",
       "  </tbody>\n",
       "</table>\n",
       "<p>9266 rows × 6 columns</p>\n",
       "</div>"
      ],
      "text/plain": [
       "          state             county     candidate party  total_votes    won\n",
       "0      Delaware        Kent County     Joe Biden   DEM        44552   True\n",
       "1      Delaware        Kent County  Donald Trump   REP        41009  False\n",
       "4      Delaware  New Castle County     Joe Biden   DEM       195034   True\n",
       "5      Delaware  New Castle County  Donald Trump   REP        88364  False\n",
       "8      Delaware      Sussex County  Donald Trump   REP        71230   True\n",
       "...         ...                ...           ...   ...          ...    ...\n",
       "32166   Arizona      La Paz County     Joe Biden   DEM         2236  False\n",
       "32169   Arizona    Maricopa County     Joe Biden   DEM      1040774   True\n",
       "32170   Arizona    Maricopa County  Donald Trump   REP       995665  False\n",
       "32173   Arizona      Mohave County  Donald Trump   REP        78535   True\n",
       "32174   Arizona      Mohave County     Joe Biden   DEM        24831  False\n",
       "\n",
       "[9266 rows x 6 columns]"
      ]
     },
     "execution_count": 385,
     "metadata": {},
     "output_type": "execute_result"
    }
   ],
   "source": [
    "df_pres[df_pres['party'].apply(lambda s : str(s) in ['DEM', 'REP'])]"
   ]
  },
  {
   "cell_type": "code",
   "execution_count": 294,
   "metadata": {},
   "outputs": [
    {
     "data": {
      "text/html": [
       "<div>\n",
       "<style scoped>\n",
       "    .dataframe tbody tr th:only-of-type {\n",
       "        vertical-align: middle;\n",
       "    }\n",
       "\n",
       "    .dataframe tbody tr th {\n",
       "        vertical-align: top;\n",
       "    }\n",
       "\n",
       "    .dataframe thead th {\n",
       "        text-align: right;\n",
       "    }\n",
       "</style>\n",
       "<table border=\"1\" class=\"dataframe\">\n",
       "  <thead>\n",
       "    <tr style=\"text-align: right;\">\n",
       "      <th></th>\n",
       "      <th>party</th>\n",
       "      <th>Pres_DEM</th>\n",
       "      <th>Pres_REP</th>\n",
       "    </tr>\n",
       "    <tr>\n",
       "      <th>state</th>\n",
       "      <th>county</th>\n",
       "      <th></th>\n",
       "      <th></th>\n",
       "    </tr>\n",
       "  </thead>\n",
       "  <tbody>\n",
       "    <tr>\n",
       "      <th rowspan=\"5\" valign=\"top\">Alabama</th>\n",
       "      <th>Autauga County</th>\n",
       "      <td>7503</td>\n",
       "      <td>19838</td>\n",
       "    </tr>\n",
       "    <tr>\n",
       "      <th>Baldwin County</th>\n",
       "      <td>24578</td>\n",
       "      <td>83544</td>\n",
       "    </tr>\n",
       "    <tr>\n",
       "      <th>Barbour County</th>\n",
       "      <td>4816</td>\n",
       "      <td>5622</td>\n",
       "    </tr>\n",
       "    <tr>\n",
       "      <th>Bibb County</th>\n",
       "      <td>1986</td>\n",
       "      <td>7525</td>\n",
       "    </tr>\n",
       "    <tr>\n",
       "      <th>Blount County</th>\n",
       "      <td>2640</td>\n",
       "      <td>24711</td>\n",
       "    </tr>\n",
       "    <tr>\n",
       "      <th>...</th>\n",
       "      <th>...</th>\n",
       "      <td>...</td>\n",
       "      <td>...</td>\n",
       "    </tr>\n",
       "    <tr>\n",
       "      <th rowspan=\"5\" valign=\"top\">Wyoming</th>\n",
       "      <th>Sweetwater County</th>\n",
       "      <td>3823</td>\n",
       "      <td>12229</td>\n",
       "    </tr>\n",
       "    <tr>\n",
       "      <th>Teton County</th>\n",
       "      <td>9848</td>\n",
       "      <td>4341</td>\n",
       "    </tr>\n",
       "    <tr>\n",
       "      <th>Uinta County</th>\n",
       "      <td>1591</td>\n",
       "      <td>7496</td>\n",
       "    </tr>\n",
       "    <tr>\n",
       "      <th>Washakie County</th>\n",
       "      <td>651</td>\n",
       "      <td>3245</td>\n",
       "    </tr>\n",
       "    <tr>\n",
       "      <th>Weston County</th>\n",
       "      <td>360</td>\n",
       "      <td>3107</td>\n",
       "    </tr>\n",
       "  </tbody>\n",
       "</table>\n",
       "<p>4633 rows × 2 columns</p>\n",
       "</div>"
      ],
      "text/plain": [
       "party                      Pres_DEM  Pres_REP\n",
       "state   county                               \n",
       "Alabama Autauga County         7503     19838\n",
       "        Baldwin County        24578     83544\n",
       "        Barbour County         4816      5622\n",
       "        Bibb County            1986      7525\n",
       "        Blount County          2640     24711\n",
       "...                             ...       ...\n",
       "Wyoming Sweetwater County      3823     12229\n",
       "        Teton County           9848      4341\n",
       "        Uinta County           1591      7496\n",
       "        Washakie County         651      3245\n",
       "        Weston County           360      3107\n",
       "\n",
       "[4633 rows x 2 columns]"
      ]
     },
     "execution_count": 294,
     "metadata": {},
     "output_type": "execute_result"
    }
   ],
   "source": [
    "# party가 'DEM', 'REP'에 해당하는 칼럼에만 True 값을 부여하여 찾기\n",
    "data = df_pres[df_pres['party'].apply(lambda s : str(s) in ['DEM', 'REP'])]\n",
    "\n",
    "# 피벗으로 데이블 칼럼 구조 변경\n",
    "table_pres = pd.pivot_table(data=data, index=['state', 'county'], columns='party', values='total_votes')\n",
    "\n",
    "table_pres.rename({'DEM':'Pres_DEM', 'REP':'Pres_REP'}, axis=1, inplace=True)\n",
    "table_pres"
   ]
  },
  {
   "cell_type": "markdown",
   "metadata": {},
   "source": [
    "### 2. df_gov"
   ]
  },
  {
   "cell_type": "code",
   "execution_count": 295,
   "metadata": {},
   "outputs": [
    {
     "data": {
      "text/html": [
       "<div>\n",
       "<style scoped>\n",
       "    .dataframe tbody tr th:only-of-type {\n",
       "        vertical-align: middle;\n",
       "    }\n",
       "\n",
       "    .dataframe tbody tr th {\n",
       "        vertical-align: top;\n",
       "    }\n",
       "\n",
       "    .dataframe thead th {\n",
       "        text-align: right;\n",
       "    }\n",
       "</style>\n",
       "<table border=\"1\" class=\"dataframe\">\n",
       "  <thead>\n",
       "    <tr style=\"text-align: right;\">\n",
       "      <th></th>\n",
       "      <th>party</th>\n",
       "      <th>Gov_DEM</th>\n",
       "      <th>Gov_REP</th>\n",
       "    </tr>\n",
       "    <tr>\n",
       "      <th>state</th>\n",
       "      <th>county</th>\n",
       "      <th></th>\n",
       "      <th></th>\n",
       "    </tr>\n",
       "  </thead>\n",
       "  <tbody>\n",
       "    <tr>\n",
       "      <th rowspan=\"3\" valign=\"top\">Delaware</th>\n",
       "      <th>Kent County</th>\n",
       "      <td>44352</td>\n",
       "      <td>39332</td>\n",
       "    </tr>\n",
       "    <tr>\n",
       "      <th>New Castle County</th>\n",
       "      <td>191678</td>\n",
       "      <td>82545</td>\n",
       "    </tr>\n",
       "    <tr>\n",
       "      <th>Sussex County</th>\n",
       "      <td>56873</td>\n",
       "      <td>68435</td>\n",
       "    </tr>\n",
       "    <tr>\n",
       "      <th rowspan=\"2\" valign=\"top\">Indiana</th>\n",
       "      <th>Adams County</th>\n",
       "      <td>2143</td>\n",
       "      <td>9441</td>\n",
       "    </tr>\n",
       "    <tr>\n",
       "      <th>Allen County</th>\n",
       "      <td>53895</td>\n",
       "      <td>98406</td>\n",
       "    </tr>\n",
       "    <tr>\n",
       "      <th>...</th>\n",
       "      <th>...</th>\n",
       "      <td>...</td>\n",
       "      <td>...</td>\n",
       "    </tr>\n",
       "    <tr>\n",
       "      <th rowspan=\"5\" valign=\"top\">West Virginia</th>\n",
       "      <th>Webster County</th>\n",
       "      <td>659</td>\n",
       "      <td>2552</td>\n",
       "    </tr>\n",
       "    <tr>\n",
       "      <th>Wetzel County</th>\n",
       "      <td>1727</td>\n",
       "      <td>4559</td>\n",
       "    </tr>\n",
       "    <tr>\n",
       "      <th>Wirt County</th>\n",
       "      <td>483</td>\n",
       "      <td>1947</td>\n",
       "    </tr>\n",
       "    <tr>\n",
       "      <th>Wood County</th>\n",
       "      <td>9933</td>\n",
       "      <td>26232</td>\n",
       "    </tr>\n",
       "    <tr>\n",
       "      <th>Wyoming County</th>\n",
       "      <td>1240</td>\n",
       "      <td>6941</td>\n",
       "    </tr>\n",
       "  </tbody>\n",
       "</table>\n",
       "<p>1025 rows × 2 columns</p>\n",
       "</div>"
      ],
      "text/plain": [
       "party                            Gov_DEM  Gov_REP\n",
       "state         county                             \n",
       "Delaware      Kent County          44352    39332\n",
       "              New Castle County   191678    82545\n",
       "              Sussex County        56873    68435\n",
       "Indiana       Adams County          2143     9441\n",
       "              Allen County         53895    98406\n",
       "...                                  ...      ...\n",
       "West Virginia Webster County         659     2552\n",
       "              Wetzel County         1727     4559\n",
       "              Wirt County            483     1947\n",
       "              Wood County           9933    26232\n",
       "              Wyoming County        1240     6941\n",
       "\n",
       "[1025 rows x 2 columns]"
      ]
     },
     "execution_count": 295,
     "metadata": {},
     "output_type": "execute_result"
    }
   ],
   "source": [
    "data = df_gov[df_gov['party'].apply(lambda s : str(s) in ['DEM', 'REP'])]\n",
    "table_gov = pd.pivot_table(data=data, index=['state', 'county'], columns='party', values='votes')\n",
    "table_gov.rename({'DEM':'Gov_DEM', 'REP':'Gov_REP'}, axis=1, inplace=True)\n",
    "table_gov"
   ]
  },
  {
   "cell_type": "markdown",
   "metadata": {},
   "source": [
    "### 3. df_census"
   ]
  },
  {
   "cell_type": "code",
   "execution_count": 296,
   "metadata": {},
   "outputs": [
    {
     "data": {
      "text/html": [
       "<div>\n",
       "<style scoped>\n",
       "    .dataframe tbody tr th:only-of-type {\n",
       "        vertical-align: middle;\n",
       "    }\n",
       "\n",
       "    .dataframe tbody tr th {\n",
       "        vertical-align: top;\n",
       "    }\n",
       "\n",
       "    .dataframe thead th {\n",
       "        text-align: right;\n",
       "    }\n",
       "</style>\n",
       "<table border=\"1\" class=\"dataframe\">\n",
       "  <thead>\n",
       "    <tr style=\"text-align: right;\">\n",
       "      <th></th>\n",
       "      <th></th>\n",
       "      <th>TotalPop</th>\n",
       "      <th>Men</th>\n",
       "      <th>Women</th>\n",
       "      <th>Hispanic</th>\n",
       "      <th>White</th>\n",
       "      <th>Black</th>\n",
       "      <th>Native</th>\n",
       "      <th>Asian</th>\n",
       "      <th>Pacific</th>\n",
       "      <th>VotingAgeCitizen</th>\n",
       "      <th>...</th>\n",
       "      <th>Walk</th>\n",
       "      <th>OtherTransp</th>\n",
       "      <th>WorkAtHome</th>\n",
       "      <th>MeanCommute</th>\n",
       "      <th>Employed</th>\n",
       "      <th>PrivateWork</th>\n",
       "      <th>PublicWork</th>\n",
       "      <th>SelfEmployed</th>\n",
       "      <th>FamilyWork</th>\n",
       "      <th>Unemployment</th>\n",
       "    </tr>\n",
       "    <tr>\n",
       "      <th>state</th>\n",
       "      <th>county</th>\n",
       "      <th></th>\n",
       "      <th></th>\n",
       "      <th></th>\n",
       "      <th></th>\n",
       "      <th></th>\n",
       "      <th></th>\n",
       "      <th></th>\n",
       "      <th></th>\n",
       "      <th></th>\n",
       "      <th></th>\n",
       "      <th></th>\n",
       "      <th></th>\n",
       "      <th></th>\n",
       "      <th></th>\n",
       "      <th></th>\n",
       "      <th></th>\n",
       "      <th></th>\n",
       "      <th></th>\n",
       "      <th></th>\n",
       "      <th></th>\n",
       "      <th></th>\n",
       "    </tr>\n",
       "  </thead>\n",
       "  <tbody>\n",
       "    <tr>\n",
       "      <th rowspan=\"5\" valign=\"top\">Alabama</th>\n",
       "      <th>Autauga County</th>\n",
       "      <td>55036</td>\n",
       "      <td>26899</td>\n",
       "      <td>28137</td>\n",
       "      <td>2.7</td>\n",
       "      <td>75.4</td>\n",
       "      <td>18.9</td>\n",
       "      <td>0.3</td>\n",
       "      <td>0.9</td>\n",
       "      <td>0.0</td>\n",
       "      <td>41016</td>\n",
       "      <td>...</td>\n",
       "      <td>0.6</td>\n",
       "      <td>1.3</td>\n",
       "      <td>2.5</td>\n",
       "      <td>25.8</td>\n",
       "      <td>24112</td>\n",
       "      <td>74.1</td>\n",
       "      <td>20.2</td>\n",
       "      <td>5.6</td>\n",
       "      <td>0.1</td>\n",
       "      <td>5.2</td>\n",
       "    </tr>\n",
       "    <tr>\n",
       "      <th>Baldwin County</th>\n",
       "      <td>203360</td>\n",
       "      <td>99527</td>\n",
       "      <td>103833</td>\n",
       "      <td>4.4</td>\n",
       "      <td>83.1</td>\n",
       "      <td>9.5</td>\n",
       "      <td>0.8</td>\n",
       "      <td>0.7</td>\n",
       "      <td>0.0</td>\n",
       "      <td>155376</td>\n",
       "      <td>...</td>\n",
       "      <td>0.8</td>\n",
       "      <td>1.1</td>\n",
       "      <td>5.6</td>\n",
       "      <td>27.0</td>\n",
       "      <td>89527</td>\n",
       "      <td>80.7</td>\n",
       "      <td>12.9</td>\n",
       "      <td>6.3</td>\n",
       "      <td>0.1</td>\n",
       "      <td>5.5</td>\n",
       "    </tr>\n",
       "    <tr>\n",
       "      <th>Barbour County</th>\n",
       "      <td>26201</td>\n",
       "      <td>13976</td>\n",
       "      <td>12225</td>\n",
       "      <td>4.2</td>\n",
       "      <td>45.7</td>\n",
       "      <td>47.8</td>\n",
       "      <td>0.2</td>\n",
       "      <td>0.6</td>\n",
       "      <td>0.0</td>\n",
       "      <td>20269</td>\n",
       "      <td>...</td>\n",
       "      <td>2.2</td>\n",
       "      <td>1.7</td>\n",
       "      <td>1.3</td>\n",
       "      <td>23.4</td>\n",
       "      <td>8878</td>\n",
       "      <td>74.1</td>\n",
       "      <td>19.1</td>\n",
       "      <td>6.5</td>\n",
       "      <td>0.3</td>\n",
       "      <td>12.4</td>\n",
       "    </tr>\n",
       "    <tr>\n",
       "      <th>Bibb County</th>\n",
       "      <td>22580</td>\n",
       "      <td>12251</td>\n",
       "      <td>10329</td>\n",
       "      <td>2.4</td>\n",
       "      <td>74.6</td>\n",
       "      <td>22.0</td>\n",
       "      <td>0.4</td>\n",
       "      <td>0.0</td>\n",
       "      <td>0.0</td>\n",
       "      <td>17662</td>\n",
       "      <td>...</td>\n",
       "      <td>0.3</td>\n",
       "      <td>1.7</td>\n",
       "      <td>1.5</td>\n",
       "      <td>30.0</td>\n",
       "      <td>8171</td>\n",
       "      <td>76.0</td>\n",
       "      <td>17.4</td>\n",
       "      <td>6.3</td>\n",
       "      <td>0.3</td>\n",
       "      <td>8.2</td>\n",
       "    </tr>\n",
       "    <tr>\n",
       "      <th>Blount County</th>\n",
       "      <td>57667</td>\n",
       "      <td>28490</td>\n",
       "      <td>29177</td>\n",
       "      <td>9.0</td>\n",
       "      <td>87.4</td>\n",
       "      <td>1.5</td>\n",
       "      <td>0.3</td>\n",
       "      <td>0.1</td>\n",
       "      <td>0.0</td>\n",
       "      <td>42513</td>\n",
       "      <td>...</td>\n",
       "      <td>0.4</td>\n",
       "      <td>0.4</td>\n",
       "      <td>2.1</td>\n",
       "      <td>35.0</td>\n",
       "      <td>21380</td>\n",
       "      <td>83.9</td>\n",
       "      <td>11.9</td>\n",
       "      <td>4.0</td>\n",
       "      <td>0.1</td>\n",
       "      <td>4.9</td>\n",
       "    </tr>\n",
       "    <tr>\n",
       "      <th>...</th>\n",
       "      <th>...</th>\n",
       "      <td>...</td>\n",
       "      <td>...</td>\n",
       "      <td>...</td>\n",
       "      <td>...</td>\n",
       "      <td>...</td>\n",
       "      <td>...</td>\n",
       "      <td>...</td>\n",
       "      <td>...</td>\n",
       "      <td>...</td>\n",
       "      <td>...</td>\n",
       "      <td>...</td>\n",
       "      <td>...</td>\n",
       "      <td>...</td>\n",
       "      <td>...</td>\n",
       "      <td>...</td>\n",
       "      <td>...</td>\n",
       "      <td>...</td>\n",
       "      <td>...</td>\n",
       "      <td>...</td>\n",
       "      <td>...</td>\n",
       "      <td>...</td>\n",
       "    </tr>\n",
       "    <tr>\n",
       "      <th rowspan=\"5\" valign=\"top\">Puerto Rico</th>\n",
       "      <th>Vega Baja Municipio</th>\n",
       "      <td>54754</td>\n",
       "      <td>26269</td>\n",
       "      <td>28485</td>\n",
       "      <td>96.7</td>\n",
       "      <td>3.1</td>\n",
       "      <td>0.1</td>\n",
       "      <td>0.0</td>\n",
       "      <td>0.0</td>\n",
       "      <td>0.0</td>\n",
       "      <td>42838</td>\n",
       "      <td>...</td>\n",
       "      <td>1.4</td>\n",
       "      <td>0.6</td>\n",
       "      <td>0.9</td>\n",
       "      <td>31.6</td>\n",
       "      <td>14234</td>\n",
       "      <td>76.2</td>\n",
       "      <td>19.3</td>\n",
       "      <td>4.3</td>\n",
       "      <td>0.2</td>\n",
       "      <td>16.8</td>\n",
       "    </tr>\n",
       "    <tr>\n",
       "      <th>Vieques Municipio</th>\n",
       "      <td>8931</td>\n",
       "      <td>4351</td>\n",
       "      <td>4580</td>\n",
       "      <td>95.7</td>\n",
       "      <td>4.0</td>\n",
       "      <td>0.0</td>\n",
       "      <td>0.0</td>\n",
       "      <td>0.0</td>\n",
       "      <td>0.0</td>\n",
       "      <td>7045</td>\n",
       "      <td>...</td>\n",
       "      <td>5.0</td>\n",
       "      <td>0.0</td>\n",
       "      <td>1.7</td>\n",
       "      <td>14.9</td>\n",
       "      <td>2927</td>\n",
       "      <td>40.7</td>\n",
       "      <td>40.9</td>\n",
       "      <td>18.4</td>\n",
       "      <td>0.0</td>\n",
       "      <td>12.8</td>\n",
       "    </tr>\n",
       "    <tr>\n",
       "      <th>Villalba Municipio</th>\n",
       "      <td>23659</td>\n",
       "      <td>11510</td>\n",
       "      <td>12149</td>\n",
       "      <td>99.7</td>\n",
       "      <td>0.2</td>\n",
       "      <td>0.1</td>\n",
       "      <td>0.0</td>\n",
       "      <td>0.0</td>\n",
       "      <td>0.0</td>\n",
       "      <td>18053</td>\n",
       "      <td>...</td>\n",
       "      <td>2.1</td>\n",
       "      <td>0.0</td>\n",
       "      <td>2.8</td>\n",
       "      <td>28.4</td>\n",
       "      <td>6873</td>\n",
       "      <td>59.2</td>\n",
       "      <td>30.2</td>\n",
       "      <td>10.4</td>\n",
       "      <td>0.2</td>\n",
       "      <td>24.8</td>\n",
       "    </tr>\n",
       "    <tr>\n",
       "      <th>Yabucoa Municipio</th>\n",
       "      <td>35025</td>\n",
       "      <td>16984</td>\n",
       "      <td>18041</td>\n",
       "      <td>99.9</td>\n",
       "      <td>0.1</td>\n",
       "      <td>0.0</td>\n",
       "      <td>0.0</td>\n",
       "      <td>0.0</td>\n",
       "      <td>0.0</td>\n",
       "      <td>27523</td>\n",
       "      <td>...</td>\n",
       "      <td>1.4</td>\n",
       "      <td>1.8</td>\n",
       "      <td>0.1</td>\n",
       "      <td>30.5</td>\n",
       "      <td>7878</td>\n",
       "      <td>62.7</td>\n",
       "      <td>30.9</td>\n",
       "      <td>6.3</td>\n",
       "      <td>0.0</td>\n",
       "      <td>25.4</td>\n",
       "    </tr>\n",
       "    <tr>\n",
       "      <th>Yauco Municipio</th>\n",
       "      <td>37585</td>\n",
       "      <td>18052</td>\n",
       "      <td>19533</td>\n",
       "      <td>99.8</td>\n",
       "      <td>0.2</td>\n",
       "      <td>0.0</td>\n",
       "      <td>0.0</td>\n",
       "      <td>0.0</td>\n",
       "      <td>0.0</td>\n",
       "      <td>29763</td>\n",
       "      <td>...</td>\n",
       "      <td>1.7</td>\n",
       "      <td>0.1</td>\n",
       "      <td>5.0</td>\n",
       "      <td>24.4</td>\n",
       "      <td>8995</td>\n",
       "      <td>66.4</td>\n",
       "      <td>28.7</td>\n",
       "      <td>5.0</td>\n",
       "      <td>0.0</td>\n",
       "      <td>24.0</td>\n",
       "    </tr>\n",
       "  </tbody>\n",
       "</table>\n",
       "<p>3220 rows × 34 columns</p>\n",
       "</div>"
      ],
      "text/plain": [
       "                                 TotalPop    Men   Women  Hispanic  White  \\\n",
       "state       county                                                          \n",
       "Alabama     Autauga County          55036  26899   28137       2.7   75.4   \n",
       "            Baldwin County         203360  99527  103833       4.4   83.1   \n",
       "            Barbour County          26201  13976   12225       4.2   45.7   \n",
       "            Bibb County             22580  12251   10329       2.4   74.6   \n",
       "            Blount County           57667  28490   29177       9.0   87.4   \n",
       "...                                   ...    ...     ...       ...    ...   \n",
       "Puerto Rico Vega Baja Municipio     54754  26269   28485      96.7    3.1   \n",
       "            Vieques Municipio        8931   4351    4580      95.7    4.0   \n",
       "            Villalba Municipio      23659  11510   12149      99.7    0.2   \n",
       "            Yabucoa Municipio       35025  16984   18041      99.9    0.1   \n",
       "            Yauco Municipio         37585  18052   19533      99.8    0.2   \n",
       "\n",
       "                                 Black  Native  Asian  Pacific  \\\n",
       "state       county                                               \n",
       "Alabama     Autauga County        18.9     0.3    0.9      0.0   \n",
       "            Baldwin County         9.5     0.8    0.7      0.0   \n",
       "            Barbour County        47.8     0.2    0.6      0.0   \n",
       "            Bibb County           22.0     0.4    0.0      0.0   \n",
       "            Blount County          1.5     0.3    0.1      0.0   \n",
       "...                                ...     ...    ...      ...   \n",
       "Puerto Rico Vega Baja Municipio    0.1     0.0    0.0      0.0   \n",
       "            Vieques Municipio      0.0     0.0    0.0      0.0   \n",
       "            Villalba Municipio     0.1     0.0    0.0      0.0   \n",
       "            Yabucoa Municipio      0.0     0.0    0.0      0.0   \n",
       "            Yauco Municipio        0.0     0.0    0.0      0.0   \n",
       "\n",
       "                                 VotingAgeCitizen  ...  Walk  OtherTransp  \\\n",
       "state       county                                 ...                      \n",
       "Alabama     Autauga County                  41016  ...   0.6          1.3   \n",
       "            Baldwin County                 155376  ...   0.8          1.1   \n",
       "            Barbour County                  20269  ...   2.2          1.7   \n",
       "            Bibb County                     17662  ...   0.3          1.7   \n",
       "            Blount County                   42513  ...   0.4          0.4   \n",
       "...                                           ...  ...   ...          ...   \n",
       "Puerto Rico Vega Baja Municipio             42838  ...   1.4          0.6   \n",
       "            Vieques Municipio                7045  ...   5.0          0.0   \n",
       "            Villalba Municipio              18053  ...   2.1          0.0   \n",
       "            Yabucoa Municipio               27523  ...   1.4          1.8   \n",
       "            Yauco Municipio                 29763  ...   1.7          0.1   \n",
       "\n",
       "                                 WorkAtHome  MeanCommute  Employed  \\\n",
       "state       county                                                   \n",
       "Alabama     Autauga County              2.5         25.8     24112   \n",
       "            Baldwin County              5.6         27.0     89527   \n",
       "            Barbour County              1.3         23.4      8878   \n",
       "            Bibb County                 1.5         30.0      8171   \n",
       "            Blount County               2.1         35.0     21380   \n",
       "...                                     ...          ...       ...   \n",
       "Puerto Rico Vega Baja Municipio         0.9         31.6     14234   \n",
       "            Vieques Municipio           1.7         14.9      2927   \n",
       "            Villalba Municipio          2.8         28.4      6873   \n",
       "            Yabucoa Municipio           0.1         30.5      7878   \n",
       "            Yauco Municipio             5.0         24.4      8995   \n",
       "\n",
       "                                 PrivateWork  PublicWork  SelfEmployed  \\\n",
       "state       county                                                       \n",
       "Alabama     Autauga County              74.1        20.2           5.6   \n",
       "            Baldwin County              80.7        12.9           6.3   \n",
       "            Barbour County              74.1        19.1           6.5   \n",
       "            Bibb County                 76.0        17.4           6.3   \n",
       "            Blount County               83.9        11.9           4.0   \n",
       "...                                      ...         ...           ...   \n",
       "Puerto Rico Vega Baja Municipio         76.2        19.3           4.3   \n",
       "            Vieques Municipio           40.7        40.9          18.4   \n",
       "            Villalba Municipio          59.2        30.2          10.4   \n",
       "            Yabucoa Municipio           62.7        30.9           6.3   \n",
       "            Yauco Municipio             66.4        28.7           5.0   \n",
       "\n",
       "                                 FamilyWork  Unemployment  \n",
       "state       county                                         \n",
       "Alabama     Autauga County              0.1           5.2  \n",
       "            Baldwin County              0.1           5.5  \n",
       "            Barbour County              0.3          12.4  \n",
       "            Bibb County                 0.3           8.2  \n",
       "            Blount County               0.1           4.9  \n",
       "...                                     ...           ...  \n",
       "Puerto Rico Vega Baja Municipio         0.2          16.8  \n",
       "            Vieques Municipio           0.0          12.8  \n",
       "            Villalba Municipio          0.2          24.8  \n",
       "            Yabucoa Municipio           0.0          25.4  \n",
       "            Yauco Municipio             0.0          24.0  \n",
       "\n",
       "[3220 rows x 34 columns]"
      ]
     },
     "execution_count": 296,
     "metadata": {},
     "output_type": "execute_result"
    }
   ],
   "source": [
    "df_census.rename({'State':'state', 'County':'county'}, axis=1, inplace=True)\n",
    "df_census.drop('CountyId', axis=1, inplace=True)\n",
    "df_census.set_index(['state', 'county'], inplace=True)\n",
    "df_census"
   ]
  },
  {
   "cell_type": "markdown",
   "metadata": {},
   "source": [
    "df_census 프레임 전처리 1 : 불필요한 칼럼 제거\n",
    "- Women 의 경우 남자 수로 유추 가능하기 때문에 제거"
   ]
  },
  {
   "cell_type": "code",
   "execution_count": 297,
   "metadata": {},
   "outputs": [],
   "source": [
    "df_census.drop(['Women', 'Income', 'IncomeErr','IncomePerCapErr'], axis=1, inplace=True)"
   ]
  },
  {
   "cell_type": "markdown",
   "metadata": {},
   "source": [
    "df_census 프레임 전처리 2 : 단위 통일 - 퍼센트(%) 변환\n",
    "- df_census 의 대부분의 칼럼들이 0.XX 꼴의 퍼센트(%)를 나타내는 반면 일부 칼럼은 숫자 그대로 들어 가 있음 따라서, 다른 칼럼과 마찬가지로 퍼센트 비율로 변환 필요\n",
    "- Men, VotingAgeCitizen, Employed 칼럼 해당     "
   ]
  },
  {
   "cell_type": "code",
   "execution_count": 298,
   "metadata": {},
   "outputs": [
    {
     "data": {
      "text/html": [
       "<div>\n",
       "<style scoped>\n",
       "    .dataframe tbody tr th:only-of-type {\n",
       "        vertical-align: middle;\n",
       "    }\n",
       "\n",
       "    .dataframe tbody tr th {\n",
       "        vertical-align: top;\n",
       "    }\n",
       "\n",
       "    .dataframe thead th {\n",
       "        text-align: right;\n",
       "    }\n",
       "</style>\n",
       "<table border=\"1\" class=\"dataframe\">\n",
       "  <thead>\n",
       "    <tr style=\"text-align: right;\">\n",
       "      <th></th>\n",
       "      <th></th>\n",
       "      <th>TotalPop</th>\n",
       "      <th>Men</th>\n",
       "      <th>Hispanic</th>\n",
       "      <th>White</th>\n",
       "      <th>Black</th>\n",
       "      <th>Native</th>\n",
       "      <th>Asian</th>\n",
       "      <th>Pacific</th>\n",
       "      <th>VotingAgeCitizen</th>\n",
       "      <th>IncomePerCap</th>\n",
       "      <th>...</th>\n",
       "      <th>Walk</th>\n",
       "      <th>OtherTransp</th>\n",
       "      <th>WorkAtHome</th>\n",
       "      <th>MeanCommute</th>\n",
       "      <th>Employed</th>\n",
       "      <th>PrivateWork</th>\n",
       "      <th>PublicWork</th>\n",
       "      <th>SelfEmployed</th>\n",
       "      <th>FamilyWork</th>\n",
       "      <th>Unemployment</th>\n",
       "    </tr>\n",
       "    <tr>\n",
       "      <th>state</th>\n",
       "      <th>county</th>\n",
       "      <th></th>\n",
       "      <th></th>\n",
       "      <th></th>\n",
       "      <th></th>\n",
       "      <th></th>\n",
       "      <th></th>\n",
       "      <th></th>\n",
       "      <th></th>\n",
       "      <th></th>\n",
       "      <th></th>\n",
       "      <th></th>\n",
       "      <th></th>\n",
       "      <th></th>\n",
       "      <th></th>\n",
       "      <th></th>\n",
       "      <th></th>\n",
       "      <th></th>\n",
       "      <th></th>\n",
       "      <th></th>\n",
       "      <th></th>\n",
       "      <th></th>\n",
       "    </tr>\n",
       "  </thead>\n",
       "  <tbody>\n",
       "    <tr>\n",
       "      <th rowspan=\"5\" valign=\"top\">Alabama</th>\n",
       "      <th>Autauga County</th>\n",
       "      <td>55036</td>\n",
       "      <td>0.488753</td>\n",
       "      <td>2.7</td>\n",
       "      <td>75.4</td>\n",
       "      <td>18.9</td>\n",
       "      <td>0.3</td>\n",
       "      <td>0.9</td>\n",
       "      <td>0.0</td>\n",
       "      <td>0.745258</td>\n",
       "      <td>27824</td>\n",
       "      <td>...</td>\n",
       "      <td>0.6</td>\n",
       "      <td>1.3</td>\n",
       "      <td>2.5</td>\n",
       "      <td>25.8</td>\n",
       "      <td>0.438113</td>\n",
       "      <td>74.1</td>\n",
       "      <td>20.2</td>\n",
       "      <td>5.6</td>\n",
       "      <td>0.1</td>\n",
       "      <td>5.2</td>\n",
       "    </tr>\n",
       "    <tr>\n",
       "      <th>Baldwin County</th>\n",
       "      <td>203360</td>\n",
       "      <td>0.489413</td>\n",
       "      <td>4.4</td>\n",
       "      <td>83.1</td>\n",
       "      <td>9.5</td>\n",
       "      <td>0.8</td>\n",
       "      <td>0.7</td>\n",
       "      <td>0.0</td>\n",
       "      <td>0.764044</td>\n",
       "      <td>29364</td>\n",
       "      <td>...</td>\n",
       "      <td>0.8</td>\n",
       "      <td>1.1</td>\n",
       "      <td>5.6</td>\n",
       "      <td>27.0</td>\n",
       "      <td>0.440239</td>\n",
       "      <td>80.7</td>\n",
       "      <td>12.9</td>\n",
       "      <td>6.3</td>\n",
       "      <td>0.1</td>\n",
       "      <td>5.5</td>\n",
       "    </tr>\n",
       "    <tr>\n",
       "      <th>Barbour County</th>\n",
       "      <td>26201</td>\n",
       "      <td>0.533415</td>\n",
       "      <td>4.2</td>\n",
       "      <td>45.7</td>\n",
       "      <td>47.8</td>\n",
       "      <td>0.2</td>\n",
       "      <td>0.6</td>\n",
       "      <td>0.0</td>\n",
       "      <td>0.773596</td>\n",
       "      <td>17561</td>\n",
       "      <td>...</td>\n",
       "      <td>2.2</td>\n",
       "      <td>1.7</td>\n",
       "      <td>1.3</td>\n",
       "      <td>23.4</td>\n",
       "      <td>0.338842</td>\n",
       "      <td>74.1</td>\n",
       "      <td>19.1</td>\n",
       "      <td>6.5</td>\n",
       "      <td>0.3</td>\n",
       "      <td>12.4</td>\n",
       "    </tr>\n",
       "    <tr>\n",
       "      <th>Bibb County</th>\n",
       "      <td>22580</td>\n",
       "      <td>0.542560</td>\n",
       "      <td>2.4</td>\n",
       "      <td>74.6</td>\n",
       "      <td>22.0</td>\n",
       "      <td>0.4</td>\n",
       "      <td>0.0</td>\n",
       "      <td>0.0</td>\n",
       "      <td>0.782197</td>\n",
       "      <td>20911</td>\n",
       "      <td>...</td>\n",
       "      <td>0.3</td>\n",
       "      <td>1.7</td>\n",
       "      <td>1.5</td>\n",
       "      <td>30.0</td>\n",
       "      <td>0.361869</td>\n",
       "      <td>76.0</td>\n",
       "      <td>17.4</td>\n",
       "      <td>6.3</td>\n",
       "      <td>0.3</td>\n",
       "      <td>8.2</td>\n",
       "    </tr>\n",
       "    <tr>\n",
       "      <th>Blount County</th>\n",
       "      <td>57667</td>\n",
       "      <td>0.494043</td>\n",
       "      <td>9.0</td>\n",
       "      <td>87.4</td>\n",
       "      <td>1.5</td>\n",
       "      <td>0.3</td>\n",
       "      <td>0.1</td>\n",
       "      <td>0.0</td>\n",
       "      <td>0.737215</td>\n",
       "      <td>22021</td>\n",
       "      <td>...</td>\n",
       "      <td>0.4</td>\n",
       "      <td>0.4</td>\n",
       "      <td>2.1</td>\n",
       "      <td>35.0</td>\n",
       "      <td>0.370749</td>\n",
       "      <td>83.9</td>\n",
       "      <td>11.9</td>\n",
       "      <td>4.0</td>\n",
       "      <td>0.1</td>\n",
       "      <td>4.9</td>\n",
       "    </tr>\n",
       "  </tbody>\n",
       "</table>\n",
       "<p>5 rows × 30 columns</p>\n",
       "</div>"
      ],
      "text/plain": [
       "                        TotalPop       Men  Hispanic  White  Black  Native  \\\n",
       "state   county                                                               \n",
       "Alabama Autauga County     55036  0.488753       2.7   75.4   18.9     0.3   \n",
       "        Baldwin County    203360  0.489413       4.4   83.1    9.5     0.8   \n",
       "        Barbour County     26201  0.533415       4.2   45.7   47.8     0.2   \n",
       "        Bibb County        22580  0.542560       2.4   74.6   22.0     0.4   \n",
       "        Blount County      57667  0.494043       9.0   87.4    1.5     0.3   \n",
       "\n",
       "                        Asian  Pacific  VotingAgeCitizen  IncomePerCap  ...  \\\n",
       "state   county                                                          ...   \n",
       "Alabama Autauga County    0.9      0.0          0.745258         27824  ...   \n",
       "        Baldwin County    0.7      0.0          0.764044         29364  ...   \n",
       "        Barbour County    0.6      0.0          0.773596         17561  ...   \n",
       "        Bibb County       0.0      0.0          0.782197         20911  ...   \n",
       "        Blount County     0.1      0.0          0.737215         22021  ...   \n",
       "\n",
       "                        Walk  OtherTransp  WorkAtHome  MeanCommute  Employed  \\\n",
       "state   county                                                                 \n",
       "Alabama Autauga County   0.6          1.3         2.5         25.8  0.438113   \n",
       "        Baldwin County   0.8          1.1         5.6         27.0  0.440239   \n",
       "        Barbour County   2.2          1.7         1.3         23.4  0.338842   \n",
       "        Bibb County      0.3          1.7         1.5         30.0  0.361869   \n",
       "        Blount County    0.4          0.4         2.1         35.0  0.370749   \n",
       "\n",
       "                        PrivateWork  PublicWork  SelfEmployed  FamilyWork  \\\n",
       "state   county                                                              \n",
       "Alabama Autauga County         74.1        20.2           5.6         0.1   \n",
       "        Baldwin County         80.7        12.9           6.3         0.1   \n",
       "        Barbour County         74.1        19.1           6.5         0.3   \n",
       "        Bibb County            76.0        17.4           6.3         0.3   \n",
       "        Blount County          83.9        11.9           4.0         0.1   \n",
       "\n",
       "                        Unemployment  \n",
       "state   county                        \n",
       "Alabama Autauga County           5.2  \n",
       "        Baldwin County           5.5  \n",
       "        Barbour County          12.4  \n",
       "        Bibb County              8.2  \n",
       "        Blount County            4.9  \n",
       "\n",
       "[5 rows x 30 columns]"
      ]
     },
     "execution_count": 298,
     "metadata": {},
     "output_type": "execute_result"
    }
   ],
   "source": [
    "df_census['Men']/=df_census['TotalPop']\n",
    "df_census['VotingAgeCitizen']/=df_census['TotalPop']\n",
    "df_census['Employed']/=df_census['TotalPop']\n",
    "\n",
    "df_census.head()"
   ]
  },
  {
   "cell_type": "markdown",
   "metadata": {},
   "source": [
    "### 결합"
   ]
  },
  {
   "cell_type": "code",
   "execution_count": 299,
   "metadata": {},
   "outputs": [
    {
     "data": {
      "text/html": [
       "<div>\n",
       "<style scoped>\n",
       "    .dataframe tbody tr th:only-of-type {\n",
       "        vertical-align: middle;\n",
       "    }\n",
       "\n",
       "    .dataframe tbody tr th {\n",
       "        vertical-align: top;\n",
       "    }\n",
       "\n",
       "    .dataframe thead th {\n",
       "        text-align: right;\n",
       "    }\n",
       "</style>\n",
       "<table border=\"1\" class=\"dataframe\">\n",
       "  <thead>\n",
       "    <tr style=\"text-align: right;\">\n",
       "      <th></th>\n",
       "      <th></th>\n",
       "      <th>Pres_DEM</th>\n",
       "      <th>Pres_REP</th>\n",
       "      <th>Gov_DEM</th>\n",
       "      <th>Gov_REP</th>\n",
       "      <th>TotalPop</th>\n",
       "      <th>Men</th>\n",
       "      <th>Hispanic</th>\n",
       "      <th>White</th>\n",
       "      <th>Black</th>\n",
       "      <th>Native</th>\n",
       "      <th>...</th>\n",
       "      <th>Walk</th>\n",
       "      <th>OtherTransp</th>\n",
       "      <th>WorkAtHome</th>\n",
       "      <th>MeanCommute</th>\n",
       "      <th>Employed</th>\n",
       "      <th>PrivateWork</th>\n",
       "      <th>PublicWork</th>\n",
       "      <th>SelfEmployed</th>\n",
       "      <th>FamilyWork</th>\n",
       "      <th>Unemployment</th>\n",
       "    </tr>\n",
       "    <tr>\n",
       "      <th>state</th>\n",
       "      <th>county</th>\n",
       "      <th></th>\n",
       "      <th></th>\n",
       "      <th></th>\n",
       "      <th></th>\n",
       "      <th></th>\n",
       "      <th></th>\n",
       "      <th></th>\n",
       "      <th></th>\n",
       "      <th></th>\n",
       "      <th></th>\n",
       "      <th></th>\n",
       "      <th></th>\n",
       "      <th></th>\n",
       "      <th></th>\n",
       "      <th></th>\n",
       "      <th></th>\n",
       "      <th></th>\n",
       "      <th></th>\n",
       "      <th></th>\n",
       "      <th></th>\n",
       "      <th></th>\n",
       "    </tr>\n",
       "  </thead>\n",
       "  <tbody>\n",
       "    <tr>\n",
       "      <th rowspan=\"5\" valign=\"top\">Alabama</th>\n",
       "      <th>Autauga County</th>\n",
       "      <td>7503.0</td>\n",
       "      <td>19838.0</td>\n",
       "      <td>NaN</td>\n",
       "      <td>NaN</td>\n",
       "      <td>55036.0</td>\n",
       "      <td>0.488753</td>\n",
       "      <td>2.7</td>\n",
       "      <td>75.4</td>\n",
       "      <td>18.9</td>\n",
       "      <td>0.3</td>\n",
       "      <td>...</td>\n",
       "      <td>0.6</td>\n",
       "      <td>1.3</td>\n",
       "      <td>2.5</td>\n",
       "      <td>25.8</td>\n",
       "      <td>0.438113</td>\n",
       "      <td>74.1</td>\n",
       "      <td>20.2</td>\n",
       "      <td>5.6</td>\n",
       "      <td>0.1</td>\n",
       "      <td>5.2</td>\n",
       "    </tr>\n",
       "    <tr>\n",
       "      <th>Baldwin County</th>\n",
       "      <td>24578.0</td>\n",
       "      <td>83544.0</td>\n",
       "      <td>NaN</td>\n",
       "      <td>NaN</td>\n",
       "      <td>203360.0</td>\n",
       "      <td>0.489413</td>\n",
       "      <td>4.4</td>\n",
       "      <td>83.1</td>\n",
       "      <td>9.5</td>\n",
       "      <td>0.8</td>\n",
       "      <td>...</td>\n",
       "      <td>0.8</td>\n",
       "      <td>1.1</td>\n",
       "      <td>5.6</td>\n",
       "      <td>27.0</td>\n",
       "      <td>0.440239</td>\n",
       "      <td>80.7</td>\n",
       "      <td>12.9</td>\n",
       "      <td>6.3</td>\n",
       "      <td>0.1</td>\n",
       "      <td>5.5</td>\n",
       "    </tr>\n",
       "    <tr>\n",
       "      <th>Barbour County</th>\n",
       "      <td>4816.0</td>\n",
       "      <td>5622.0</td>\n",
       "      <td>NaN</td>\n",
       "      <td>NaN</td>\n",
       "      <td>26201.0</td>\n",
       "      <td>0.533415</td>\n",
       "      <td>4.2</td>\n",
       "      <td>45.7</td>\n",
       "      <td>47.8</td>\n",
       "      <td>0.2</td>\n",
       "      <td>...</td>\n",
       "      <td>2.2</td>\n",
       "      <td>1.7</td>\n",
       "      <td>1.3</td>\n",
       "      <td>23.4</td>\n",
       "      <td>0.338842</td>\n",
       "      <td>74.1</td>\n",
       "      <td>19.1</td>\n",
       "      <td>6.5</td>\n",
       "      <td>0.3</td>\n",
       "      <td>12.4</td>\n",
       "    </tr>\n",
       "    <tr>\n",
       "      <th>Bibb County</th>\n",
       "      <td>1986.0</td>\n",
       "      <td>7525.0</td>\n",
       "      <td>NaN</td>\n",
       "      <td>NaN</td>\n",
       "      <td>22580.0</td>\n",
       "      <td>0.542560</td>\n",
       "      <td>2.4</td>\n",
       "      <td>74.6</td>\n",
       "      <td>22.0</td>\n",
       "      <td>0.4</td>\n",
       "      <td>...</td>\n",
       "      <td>0.3</td>\n",
       "      <td>1.7</td>\n",
       "      <td>1.5</td>\n",
       "      <td>30.0</td>\n",
       "      <td>0.361869</td>\n",
       "      <td>76.0</td>\n",
       "      <td>17.4</td>\n",
       "      <td>6.3</td>\n",
       "      <td>0.3</td>\n",
       "      <td>8.2</td>\n",
       "    </tr>\n",
       "    <tr>\n",
       "      <th>Blount County</th>\n",
       "      <td>2640.0</td>\n",
       "      <td>24711.0</td>\n",
       "      <td>NaN</td>\n",
       "      <td>NaN</td>\n",
       "      <td>57667.0</td>\n",
       "      <td>0.494043</td>\n",
       "      <td>9.0</td>\n",
       "      <td>87.4</td>\n",
       "      <td>1.5</td>\n",
       "      <td>0.3</td>\n",
       "      <td>...</td>\n",
       "      <td>0.4</td>\n",
       "      <td>0.4</td>\n",
       "      <td>2.1</td>\n",
       "      <td>35.0</td>\n",
       "      <td>0.370749</td>\n",
       "      <td>83.9</td>\n",
       "      <td>11.9</td>\n",
       "      <td>4.0</td>\n",
       "      <td>0.1</td>\n",
       "      <td>4.9</td>\n",
       "    </tr>\n",
       "  </tbody>\n",
       "</table>\n",
       "<p>5 rows × 34 columns</p>\n",
       "</div>"
      ],
      "text/plain": [
       "                        Pres_DEM  Pres_REP  Gov_DEM  Gov_REP  TotalPop  \\\n",
       "state   county                                                           \n",
       "Alabama Autauga County    7503.0   19838.0      NaN      NaN   55036.0   \n",
       "        Baldwin County   24578.0   83544.0      NaN      NaN  203360.0   \n",
       "        Barbour County    4816.0    5622.0      NaN      NaN   26201.0   \n",
       "        Bibb County       1986.0    7525.0      NaN      NaN   22580.0   \n",
       "        Blount County     2640.0   24711.0      NaN      NaN   57667.0   \n",
       "\n",
       "                             Men  Hispanic  White  Black  Native  ...  Walk  \\\n",
       "state   county                                                    ...         \n",
       "Alabama Autauga County  0.488753       2.7   75.4   18.9     0.3  ...   0.6   \n",
       "        Baldwin County  0.489413       4.4   83.1    9.5     0.8  ...   0.8   \n",
       "        Barbour County  0.533415       4.2   45.7   47.8     0.2  ...   2.2   \n",
       "        Bibb County     0.542560       2.4   74.6   22.0     0.4  ...   0.3   \n",
       "        Blount County   0.494043       9.0   87.4    1.5     0.3  ...   0.4   \n",
       "\n",
       "                        OtherTransp  WorkAtHome  MeanCommute  Employed  \\\n",
       "state   county                                                           \n",
       "Alabama Autauga County          1.3         2.5         25.8  0.438113   \n",
       "        Baldwin County          1.1         5.6         27.0  0.440239   \n",
       "        Barbour County          1.7         1.3         23.4  0.338842   \n",
       "        Bibb County             1.7         1.5         30.0  0.361869   \n",
       "        Blount County           0.4         2.1         35.0  0.370749   \n",
       "\n",
       "                        PrivateWork  PublicWork  SelfEmployed  FamilyWork  \\\n",
       "state   county                                                              \n",
       "Alabama Autauga County         74.1        20.2           5.6         0.1   \n",
       "        Baldwin County         80.7        12.9           6.3         0.1   \n",
       "        Barbour County         74.1        19.1           6.5         0.3   \n",
       "        Bibb County            76.0        17.4           6.3         0.3   \n",
       "        Blount County          83.9        11.9           4.0         0.1   \n",
       "\n",
       "                        Unemployment  \n",
       "state   county                        \n",
       "Alabama Autauga County           5.2  \n",
       "        Baldwin County           5.5  \n",
       "        Barbour County          12.4  \n",
       "        Bibb County              8.2  \n",
       "        Blount County            4.9  \n",
       "\n",
       "[5 rows x 34 columns]"
      ]
     },
     "execution_count": 299,
     "metadata": {},
     "output_type": "execute_result"
    }
   ],
   "source": [
    "df = pd.concat([table_pres, table_gov, df_census], axis=1)\n",
    "df.head()"
   ]
  },
  {
   "cell_type": "code",
   "execution_count": null,
   "metadata": {},
   "outputs": [],
   "source": []
  },
  {
   "cell_type": "markdown",
   "metadata": {},
   "source": [
    "------------------"
   ]
  },
  {
   "cell_type": "markdown",
   "metadata": {},
   "source": [
    "# 4. 시각화 - Correlation Heatmap"
   ]
  },
  {
   "cell_type": "markdown",
   "metadata": {},
   "source": [
    "### Pearson's correlation"
   ]
  },
  {
   "cell_type": "code",
   "execution_count": 300,
   "metadata": {},
   "outputs": [
    {
     "data": {
      "text/plain": [
       "<matplotlib.axes._subplots.AxesSubplot at 0x1df072c8730>"
      ]
     },
     "execution_count": 300,
     "metadata": {},
     "output_type": "execute_result"
    },
    {
     "data": {
      "image/png": "[encoded data removed]",
      "text/plain": [
       "<Figure size 864x864 with 2 Axes>"
      ]
     },
     "metadata": {
      "needs_background": "light"
     },
     "output_type": "display_data"
    }
   ],
   "source": [
    "plt.figure(figsize=(12,12))\n",
    "sns.heatmap(df.corr())"
   ]
  },
  {
   "cell_type": "code",
   "execution_count": 301,
   "metadata": {},
   "outputs": [
    {
     "data": {
      "text/plain": [
       "<matplotlib.axes._subplots.AxesSubplot at 0x1df085a6040>"
      ]
     },
     "execution_count": 301,
     "metadata": {},
     "output_type": "execute_result"
    },
    {
     "data": {
      "image/png": "[encoded data removed]",
      "text/plain": [
       "<Figure size 576x720 with 2 Axes>"
      ]
     },
     "metadata": {
      "needs_background": "light"
     },
     "output_type": "display_data"
    }
   ],
   "source": [
    "plt.figure(figsize=(8,10))\n",
    "sns.heatmap(df.corr()[['Pres_DEM', 'Pres_REP']], annot=True)"
   ]
  },
  {
   "cell_type": "markdown",
   "metadata": {},
   "source": [
    "DEM에 투표했는데 동시에 REP에 투표한 사람이 존재한다?? (0.88) ☞ 정규화가 안되었다고 판단"
   ]
  },
  {
   "cell_type": "markdown",
   "metadata": {},
   "source": [
    "#### normalization"
   ]
  },
  {
   "cell_type": "code",
   "execution_count": 302,
   "metadata": {
    "executionInfo": {
     "elapsed": 632,
     "status": "ok",
     "timestamp": 1610379248230,
     "user": {
      "displayName": "김패캠",
      "photoUrl": "",
      "userId": "06994282823286758918"
     },
     "user_tz": -540
    },
    "id": "3ZSrlOr-FMzM"
   },
   "outputs": [],
   "source": [
    "df_norm = df.copy()"
   ]
  },
  {
   "cell_type": "code",
   "execution_count": 303,
   "metadata": {
    "executionInfo": {
     "elapsed": 648,
     "status": "ok",
     "timestamp": 1610379315878,
     "user": {
      "displayName": "김패캠",
      "photoUrl": "",
      "userId": "06994282823286758918"
     },
     "user_tz": -540
    },
    "id": "jWnLceArFUHs"
   },
   "outputs": [],
   "source": [
    "# 서로 겹치지 않고 상반되는 값을 찾도록 구성\n",
    "\n",
    "df_norm['Pres_DEM'] /= df['Pres_DEM'] + df['Pres_REP']\n",
    "df_norm['Pres_REP'] /= df['Pres_DEM'] + df['Pres_REP']\n",
    "df_norm['Gov_DEM'] /= df['Gov_DEM'] + df['Gov_REP']\n",
    "df_norm['Gov_REP'] /= df['Gov_DEM'] + df['Gov_REP']"
   ]
  },
  {
   "cell_type": "code",
   "execution_count": 304,
   "metadata": {},
   "outputs": [
    {
     "data": {
      "text/html": [
       "<div>\n",
       "<style scoped>\n",
       "    .dataframe tbody tr th:only-of-type {\n",
       "        vertical-align: middle;\n",
       "    }\n",
       "\n",
       "    .dataframe tbody tr th {\n",
       "        vertical-align: top;\n",
       "    }\n",
       "\n",
       "    .dataframe thead th {\n",
       "        text-align: right;\n",
       "    }\n",
       "</style>\n",
       "<table border=\"1\" class=\"dataframe\">\n",
       "  <thead>\n",
       "    <tr style=\"text-align: right;\">\n",
       "      <th></th>\n",
       "      <th></th>\n",
       "      <th>Pres_DEM</th>\n",
       "      <th>Pres_REP</th>\n",
       "      <th>Gov_DEM</th>\n",
       "      <th>Gov_REP</th>\n",
       "      <th>TotalPop</th>\n",
       "      <th>Men</th>\n",
       "      <th>Hispanic</th>\n",
       "      <th>White</th>\n",
       "      <th>Black</th>\n",
       "      <th>Native</th>\n",
       "      <th>...</th>\n",
       "      <th>Walk</th>\n",
       "      <th>OtherTransp</th>\n",
       "      <th>WorkAtHome</th>\n",
       "      <th>MeanCommute</th>\n",
       "      <th>Employed</th>\n",
       "      <th>PrivateWork</th>\n",
       "      <th>PublicWork</th>\n",
       "      <th>SelfEmployed</th>\n",
       "      <th>FamilyWork</th>\n",
       "      <th>Unemployment</th>\n",
       "    </tr>\n",
       "    <tr>\n",
       "      <th>state</th>\n",
       "      <th>county</th>\n",
       "      <th></th>\n",
       "      <th></th>\n",
       "      <th></th>\n",
       "      <th></th>\n",
       "      <th></th>\n",
       "      <th></th>\n",
       "      <th></th>\n",
       "      <th></th>\n",
       "      <th></th>\n",
       "      <th></th>\n",
       "      <th></th>\n",
       "      <th></th>\n",
       "      <th></th>\n",
       "      <th></th>\n",
       "      <th></th>\n",
       "      <th></th>\n",
       "      <th></th>\n",
       "      <th></th>\n",
       "      <th></th>\n",
       "      <th></th>\n",
       "      <th></th>\n",
       "    </tr>\n",
       "  </thead>\n",
       "  <tbody>\n",
       "    <tr>\n",
       "      <th rowspan=\"5\" valign=\"top\">Alabama</th>\n",
       "      <th>Autauga County</th>\n",
       "      <td>0.274423</td>\n",
       "      <td>0.725577</td>\n",
       "      <td>NaN</td>\n",
       "      <td>NaN</td>\n",
       "      <td>55036.0</td>\n",
       "      <td>0.488753</td>\n",
       "      <td>2.7</td>\n",
       "      <td>75.4</td>\n",
       "      <td>18.9</td>\n",
       "      <td>0.3</td>\n",
       "      <td>...</td>\n",
       "      <td>0.6</td>\n",
       "      <td>1.3</td>\n",
       "      <td>2.5</td>\n",
       "      <td>25.8</td>\n",
       "      <td>0.438113</td>\n",
       "      <td>74.1</td>\n",
       "      <td>20.2</td>\n",
       "      <td>5.6</td>\n",
       "      <td>0.1</td>\n",
       "      <td>5.2</td>\n",
       "    </tr>\n",
       "    <tr>\n",
       "      <th>Baldwin County</th>\n",
       "      <td>0.227317</td>\n",
       "      <td>0.772683</td>\n",
       "      <td>NaN</td>\n",
       "      <td>NaN</td>\n",
       "      <td>203360.0</td>\n",
       "      <td>0.489413</td>\n",
       "      <td>4.4</td>\n",
       "      <td>83.1</td>\n",
       "      <td>9.5</td>\n",
       "      <td>0.8</td>\n",
       "      <td>...</td>\n",
       "      <td>0.8</td>\n",
       "      <td>1.1</td>\n",
       "      <td>5.6</td>\n",
       "      <td>27.0</td>\n",
       "      <td>0.440239</td>\n",
       "      <td>80.7</td>\n",
       "      <td>12.9</td>\n",
       "      <td>6.3</td>\n",
       "      <td>0.1</td>\n",
       "      <td>5.5</td>\n",
       "    </tr>\n",
       "    <tr>\n",
       "      <th>Barbour County</th>\n",
       "      <td>0.461391</td>\n",
       "      <td>0.538609</td>\n",
       "      <td>NaN</td>\n",
       "      <td>NaN</td>\n",
       "      <td>26201.0</td>\n",
       "      <td>0.533415</td>\n",
       "      <td>4.2</td>\n",
       "      <td>45.7</td>\n",
       "      <td>47.8</td>\n",
       "      <td>0.2</td>\n",
       "      <td>...</td>\n",
       "      <td>2.2</td>\n",
       "      <td>1.7</td>\n",
       "      <td>1.3</td>\n",
       "      <td>23.4</td>\n",
       "      <td>0.338842</td>\n",
       "      <td>74.1</td>\n",
       "      <td>19.1</td>\n",
       "      <td>6.5</td>\n",
       "      <td>0.3</td>\n",
       "      <td>12.4</td>\n",
       "    </tr>\n",
       "    <tr>\n",
       "      <th>Bibb County</th>\n",
       "      <td>0.208811</td>\n",
       "      <td>0.791189</td>\n",
       "      <td>NaN</td>\n",
       "      <td>NaN</td>\n",
       "      <td>22580.0</td>\n",
       "      <td>0.542560</td>\n",
       "      <td>2.4</td>\n",
       "      <td>74.6</td>\n",
       "      <td>22.0</td>\n",
       "      <td>0.4</td>\n",
       "      <td>...</td>\n",
       "      <td>0.3</td>\n",
       "      <td>1.7</td>\n",
       "      <td>1.5</td>\n",
       "      <td>30.0</td>\n",
       "      <td>0.361869</td>\n",
       "      <td>76.0</td>\n",
       "      <td>17.4</td>\n",
       "      <td>6.3</td>\n",
       "      <td>0.3</td>\n",
       "      <td>8.2</td>\n",
       "    </tr>\n",
       "    <tr>\n",
       "      <th>Blount County</th>\n",
       "      <td>0.096523</td>\n",
       "      <td>0.903477</td>\n",
       "      <td>NaN</td>\n",
       "      <td>NaN</td>\n",
       "      <td>57667.0</td>\n",
       "      <td>0.494043</td>\n",
       "      <td>9.0</td>\n",
       "      <td>87.4</td>\n",
       "      <td>1.5</td>\n",
       "      <td>0.3</td>\n",
       "      <td>...</td>\n",
       "      <td>0.4</td>\n",
       "      <td>0.4</td>\n",
       "      <td>2.1</td>\n",
       "      <td>35.0</td>\n",
       "      <td>0.370749</td>\n",
       "      <td>83.9</td>\n",
       "      <td>11.9</td>\n",
       "      <td>4.0</td>\n",
       "      <td>0.1</td>\n",
       "      <td>4.9</td>\n",
       "    </tr>\n",
       "  </tbody>\n",
       "</table>\n",
       "<p>5 rows × 34 columns</p>\n",
       "</div>"
      ],
      "text/plain": [
       "                        Pres_DEM  Pres_REP  Gov_DEM  Gov_REP  TotalPop  \\\n",
       "state   county                                                           \n",
       "Alabama Autauga County  0.274423  0.725577      NaN      NaN   55036.0   \n",
       "        Baldwin County  0.227317  0.772683      NaN      NaN  203360.0   \n",
       "        Barbour County  0.461391  0.538609      NaN      NaN   26201.0   \n",
       "        Bibb County     0.208811  0.791189      NaN      NaN   22580.0   \n",
       "        Blount County   0.096523  0.903477      NaN      NaN   57667.0   \n",
       "\n",
       "                             Men  Hispanic  White  Black  Native  ...  Walk  \\\n",
       "state   county                                                    ...         \n",
       "Alabama Autauga County  0.488753       2.7   75.4   18.9     0.3  ...   0.6   \n",
       "        Baldwin County  0.489413       4.4   83.1    9.5     0.8  ...   0.8   \n",
       "        Barbour County  0.533415       4.2   45.7   47.8     0.2  ...   2.2   \n",
       "        Bibb County     0.542560       2.4   74.6   22.0     0.4  ...   0.3   \n",
       "        Blount County   0.494043       9.0   87.4    1.5     0.3  ...   0.4   \n",
       "\n",
       "                        OtherTransp  WorkAtHome  MeanCommute  Employed  \\\n",
       "state   county                                                           \n",
       "Alabama Autauga County          1.3         2.5         25.8  0.438113   \n",
       "        Baldwin County          1.1         5.6         27.0  0.440239   \n",
       "        Barbour County          1.7         1.3         23.4  0.338842   \n",
       "        Bibb County             1.7         1.5         30.0  0.361869   \n",
       "        Blount County           0.4         2.1         35.0  0.370749   \n",
       "\n",
       "                        PrivateWork  PublicWork  SelfEmployed  FamilyWork  \\\n",
       "state   county                                                              \n",
       "Alabama Autauga County         74.1        20.2           5.6         0.1   \n",
       "        Baldwin County         80.7        12.9           6.3         0.1   \n",
       "        Barbour County         74.1        19.1           6.5         0.3   \n",
       "        Bibb County            76.0        17.4           6.3         0.3   \n",
       "        Blount County          83.9        11.9           4.0         0.1   \n",
       "\n",
       "                        Unemployment  \n",
       "state   county                        \n",
       "Alabama Autauga County           5.2  \n",
       "        Baldwin County           5.5  \n",
       "        Barbour County          12.4  \n",
       "        Bibb County              8.2  \n",
       "        Blount County            4.9  \n",
       "\n",
       "[5 rows x 34 columns]"
      ]
     },
     "execution_count": 304,
     "metadata": {},
     "output_type": "execute_result"
    }
   ],
   "source": [
    "df_norm.head()"
   ]
  },
  {
   "cell_type": "markdown",
   "metadata": {},
   "source": [
    "- 퍼센트 비율로 표현되어 DEM과 REP가 서로 겺치지 않음"
   ]
  },
  {
   "cell_type": "code",
   "execution_count": 305,
   "metadata": {
    "colab": {
     "base_uri": "https://localhost:8080/",
     "height": 796
    },
    "executionInfo": {
     "elapsed": 1807,
     "status": "ok",
     "timestamp": 1610379352131,
     "user": {
      "displayName": "김패캠",
      "photoUrl": "",
      "userId": "06994282823286758918"
     },
     "user_tz": -540
    },
    "id": "hJQh5coTFnvQ",
    "outputId": "295828c0-2d0d-49f1-bc7a-ca21457e1fc3"
   },
   "outputs": [
    {
     "data": {
      "text/plain": [
       "<matplotlib.axes._subplots.AxesSubplot at 0x1df7f8f6400>"
      ]
     },
     "execution_count": 305,
     "metadata": {},
     "output_type": "execute_result"
    },
    {
     "data": {
      "image/png": "[encoded data removed]",
      "text/plain": [
       "<Figure size 864x864 with 2 Axes>"
      ]
     },
     "metadata": {
      "needs_background": "light"
     },
     "output_type": "display_data"
    }
   ],
   "source": [
    "# normalize된 데이터로 다시 correation 확인\n",
    "plt.figure(figsize=(12, 12))\n",
    "sns.heatmap(df_norm.corr())"
   ]
  },
  {
   "cell_type": "code",
   "execution_count": 347,
   "metadata": {},
   "outputs": [
    {
     "data": {
      "text/plain": [
       "<matplotlib.axes._subplots.AxesSubplot at 0x1df1bdd00d0>"
      ]
     },
     "execution_count": 347,
     "metadata": {},
     "output_type": "execute_result"
    },
    {
     "data": {
      "image/png": "[encoded data removed]",
      "text/plain": [
       "<Figure size 576x720 with 2 Axes>"
      ]
     },
     "metadata": {
      "needs_background": "light"
     },
     "output_type": "display_data"
    }
   ],
   "source": [
    "plt.figure(figsize=(8,10))\n",
    "sns.heatmap(df_norm.corr()[['Pres_DEM', 'Pres_REP']], annot=True)"
   ]
  },
  {
   "cell_type": "markdown",
   "metadata": {},
   "source": [
    "대선 REP 당에 대해 white 의 지지가 0.55로 가장 높은 상관성을 띄는 반면 DEM에선 같은 수치로 낮은 상관성을 나타냄"
   ]
  },
  {
   "cell_type": "code",
   "execution_count": null,
   "metadata": {},
   "outputs": [],
   "source": []
  },
  {
   "cell_type": "markdown",
   "metadata": {},
   "source": [
    "# joint plot"
   ]
  },
  {
   "cell_type": "code",
   "execution_count": 307,
   "metadata": {},
   "outputs": [
    {
     "data": {
      "text/plain": [
       "<seaborn.axisgrid.JointGrid at 0x1df1b0d0520>"
      ]
     },
     "execution_count": 307,
     "metadata": {},
     "output_type": "execute_result"
    },
    {
     "data": {
      "image/png": "[encoded data removed]",
      "text/plain": [
       "<Figure size 432x432 with 3 Axes>"
      ]
     },
     "metadata": {
      "needs_background": "light"
     },
     "output_type": "display_data"
    },
    {
     "data": {
      "image/png": "[encoded data removed]",
      "text/plain": [
       "<Figure size 432x432 with 3 Axes>"
      ]
     },
     "metadata": {
      "needs_background": "light"
     },
     "output_type": "display_data"
    }
   ],
   "source": [
    "sns.jointplot(x='White', y='Pres_REP', data= df_norm, alpha=0.2)\n",
    "sns.jointplot(x='White', y='Pres_REP', data= df_norm, kind='hex')"
   ]
  },
  {
   "cell_type": "markdown",
   "metadata": {},
   "source": [
    "- White 인구 많을수록 REP에 투표하는 경향이 뚜렷하게 나타남"
   ]
  },
  {
   "cell_type": "code",
   "execution_count": 309,
   "metadata": {},
   "outputs": [
    {
     "data": {
      "text/plain": [
       "<seaborn.axisgrid.JointGrid at 0x1df1b073100>"
      ]
     },
     "execution_count": 309,
     "metadata": {},
     "output_type": "execute_result"
    },
    {
     "data": {
      "image/png": "[encoded data removed]",
      "text/plain": [
       "<Figure size 432x432 with 3 Axes>"
      ]
     },
     "metadata": {
      "needs_background": "light"
     },
     "output_type": "display_data"
    }
   ],
   "source": [
    "sns.jointplot(x='Black', y='Pres_DEM', data= df_norm, alpha=0.2)"
   ]
  },
  {
   "cell_type": "code",
   "execution_count": null,
   "metadata": {},
   "outputs": [],
   "source": []
  },
  {
   "cell_type": "markdown",
   "metadata": {
    "id": "GD18QuastZy8"
   },
   "source": [
    "# 5. Plotly를 이용하여 시각화하기\n"
   ]
  },
  {
   "cell_type": "markdown",
   "metadata": {
    "id": "h3P9KRGT_qwG"
   },
   "source": [
    "### Plotly의 Choropleth 데이터 포맷으로 맞추기"
   ]
  },
  {
   "cell_type": "code",
   "execution_count": 310,
   "metadata": {
    "executionInfo": {
     "elapsed": 3144,
     "status": "ok",
     "timestamp": 1610380844355,
     "user": {
      "displayName": "김패캠",
      "photoUrl": "",
      "userId": "06994282823286758918"
     },
     "user_tz": -540
    },
    "id": "29yYcSNBb9Lw"
   },
   "outputs": [],
   "source": [
    "# Plotly에서 제공하는 구문 그대로 복붙하여 사용\n",
    "\n",
    "import plotly.figure_factory as ff\n",
    "\n",
    "# FIPS 코드 불러오기\n",
    "df_sample = pd.read_csv('https://raw.githubusercontent.com/plotly/datasets/master/laucnty16.csv')\n",
    "df_sample['State FIPS Code'] = df_sample['State FIPS Code'].apply(lambda x: str(x).zfill(2))\n",
    "df_sample['County FIPS Code'] = df_sample['County FIPS Code'].apply(lambda x: str(x).zfill(3))\n",
    "df_sample['FIPS'] = df_sample['State FIPS Code'] + df_sample['County FIPS Code']\n",
    "\n",
    "# Color Scale 세팅\n",
    "colorscale = [\"#f7fbff\",\"#ebf3fb\",\"#deebf7\",\"#d2e3f3\",\"#c6dbef\",\"#b3d2e9\",\"#9ecae1\",\n",
    "              \"#85bcdb\",\"#6baed6\",\"#57a0ce\",\"#4292c6\",\"#3082be\",\"#2171b5\",\"#1361a9\",\n",
    "              \"#08519c\",\"#0b4083\",\"#08306b\"]"
   ]
  },
  {
   "cell_type": "code",
   "execution_count": 311,
   "metadata": {
    "colab": {
     "base_uri": "https://localhost:8080/",
     "height": 221
    },
    "executionInfo": {
     "elapsed": 720,
     "status": "ok",
     "timestamp": 1610380929755,
     "user": {
      "displayName": "김패캠",
      "photoUrl": "",
      "userId": "06994282823286758918"
     },
     "user_tz": -540
    },
    "id": "gB_J_bj1LbAJ",
    "outputId": "30804dd1-fb1f-4ce9-e69e-00a1d9bb9d6a"
   },
   "outputs": [
    {
     "data": {
      "text/html": [
       "<div>\n",
       "<style scoped>\n",
       "    .dataframe tbody tr th:only-of-type {\n",
       "        vertical-align: middle;\n",
       "    }\n",
       "\n",
       "    .dataframe tbody tr th {\n",
       "        vertical-align: top;\n",
       "    }\n",
       "\n",
       "    .dataframe thead th {\n",
       "        text-align: right;\n",
       "    }\n",
       "</style>\n",
       "<table border=\"1\" class=\"dataframe\">\n",
       "  <thead>\n",
       "    <tr style=\"text-align: right;\">\n",
       "      <th></th>\n",
       "      <th>LAUS Code</th>\n",
       "      <th>State FIPS Code</th>\n",
       "      <th>County FIPS Code</th>\n",
       "      <th>County Name/State Abbreviation</th>\n",
       "      <th>Year</th>\n",
       "      <th>Labor Force</th>\n",
       "      <th>Employed</th>\n",
       "      <th>Unemployed</th>\n",
       "      <th>Unemployment Rate (%)</th>\n",
       "      <th>FIPS</th>\n",
       "    </tr>\n",
       "  </thead>\n",
       "  <tbody>\n",
       "    <tr>\n",
       "      <th>0</th>\n",
       "      <td>CN0100100000000</td>\n",
       "      <td>01</td>\n",
       "      <td>001</td>\n",
       "      <td>Autauga County, AL</td>\n",
       "      <td>2016</td>\n",
       "      <td>25,649</td>\n",
       "      <td>24,297</td>\n",
       "      <td>1,352</td>\n",
       "      <td>5.3</td>\n",
       "      <td>01001</td>\n",
       "    </tr>\n",
       "    <tr>\n",
       "      <th>1</th>\n",
       "      <td>CN0100300000000</td>\n",
       "      <td>01</td>\n",
       "      <td>003</td>\n",
       "      <td>Baldwin County, AL</td>\n",
       "      <td>2016</td>\n",
       "      <td>89,931</td>\n",
       "      <td>85,061</td>\n",
       "      <td>4,870</td>\n",
       "      <td>5.4</td>\n",
       "      <td>01003</td>\n",
       "    </tr>\n",
       "    <tr>\n",
       "      <th>2</th>\n",
       "      <td>CN0100500000000</td>\n",
       "      <td>01</td>\n",
       "      <td>005</td>\n",
       "      <td>Barbour County, AL</td>\n",
       "      <td>2016</td>\n",
       "      <td>8,302</td>\n",
       "      <td>7,584</td>\n",
       "      <td>718</td>\n",
       "      <td>8.6</td>\n",
       "      <td>01005</td>\n",
       "    </tr>\n",
       "    <tr>\n",
       "      <th>3</th>\n",
       "      <td>CN0100700000000</td>\n",
       "      <td>01</td>\n",
       "      <td>007</td>\n",
       "      <td>Bibb County, AL</td>\n",
       "      <td>2016</td>\n",
       "      <td>8,573</td>\n",
       "      <td>8,004</td>\n",
       "      <td>569</td>\n",
       "      <td>6.6</td>\n",
       "      <td>01007</td>\n",
       "    </tr>\n",
       "    <tr>\n",
       "      <th>4</th>\n",
       "      <td>CN0100900000000</td>\n",
       "      <td>01</td>\n",
       "      <td>009</td>\n",
       "      <td>Blount County, AL</td>\n",
       "      <td>2016</td>\n",
       "      <td>24,525</td>\n",
       "      <td>23,171</td>\n",
       "      <td>1,354</td>\n",
       "      <td>5.5</td>\n",
       "      <td>01009</td>\n",
       "    </tr>\n",
       "  </tbody>\n",
       "</table>\n",
       "</div>"
      ],
      "text/plain": [
       "         LAUS Code State FIPS Code County FIPS Code  \\\n",
       "0  CN0100100000000              01              001   \n",
       "1  CN0100300000000              01              003   \n",
       "2  CN0100500000000              01              005   \n",
       "3  CN0100700000000              01              007   \n",
       "4  CN0100900000000              01              009   \n",
       "\n",
       "  County Name/State Abbreviation  Year  Labor Force     Employed  Unemployed  \\\n",
       "0             Autauga County, AL  2016  25,649       24,297       1,352        \n",
       "1             Baldwin County, AL  2016  89,931       85,061       4,870        \n",
       "2             Barbour County, AL  2016   8,302        7,584         718        \n",
       "3                Bibb County, AL  2016   8,573        8,004         569        \n",
       "4              Blount County, AL  2016  24,525       23,171       1,354        \n",
       "\n",
       "   Unemployment Rate (%)   FIPS  \n",
       "0                    5.3  01001  \n",
       "1                    5.4  01003  \n",
       "2                    8.6  01005  \n",
       "3                    6.6  01007  \n",
       "4                    5.5  01009  "
      ]
     },
     "execution_count": 311,
     "metadata": {},
     "output_type": "execute_result"
    }
   ],
   "source": [
    "df_sample.head()"
   ]
  },
  {
   "cell_type": "code",
   "execution_count": 312,
   "metadata": {},
   "outputs": [
    {
     "data": {
      "text/html": [
       "<div>\n",
       "<style scoped>\n",
       "    .dataframe tbody tr th:only-of-type {\n",
       "        vertical-align: middle;\n",
       "    }\n",
       "\n",
       "    .dataframe tbody tr th {\n",
       "        vertical-align: top;\n",
       "    }\n",
       "\n",
       "    .dataframe thead th {\n",
       "        text-align: right;\n",
       "    }\n",
       "</style>\n",
       "<table border=\"1\" class=\"dataframe\">\n",
       "  <thead>\n",
       "    <tr style=\"text-align: right;\">\n",
       "      <th></th>\n",
       "      <th>State/District</th>\n",
       "      <th>Abbreviation</th>\n",
       "      <th>Postal Code</th>\n",
       "    </tr>\n",
       "  </thead>\n",
       "  <tbody>\n",
       "    <tr>\n",
       "      <th>0</th>\n",
       "      <td>Alabama</td>\n",
       "      <td>Ala.</td>\n",
       "      <td>AL</td>\n",
       "    </tr>\n",
       "    <tr>\n",
       "      <th>1</th>\n",
       "      <td>Alaska</td>\n",
       "      <td>Alaska</td>\n",
       "      <td>AK</td>\n",
       "    </tr>\n",
       "    <tr>\n",
       "      <th>2</th>\n",
       "      <td>Arizona</td>\n",
       "      <td>Ariz.</td>\n",
       "      <td>AZ</td>\n",
       "    </tr>\n",
       "    <tr>\n",
       "      <th>3</th>\n",
       "      <td>Arkansas</td>\n",
       "      <td>Ark.</td>\n",
       "      <td>AR</td>\n",
       "    </tr>\n",
       "    <tr>\n",
       "      <th>4</th>\n",
       "      <td>California</td>\n",
       "      <td>Calif.</td>\n",
       "      <td>CA</td>\n",
       "    </tr>\n",
       "  </tbody>\n",
       "</table>\n",
       "</div>"
      ],
      "text/plain": [
       "  State/District Abbreviation Postal Code\n",
       "0        Alabama         Ala.          AL\n",
       "1         Alaska       Alaska          AK\n",
       "2        Arizona        Ariz.          AZ\n",
       "3       Arkansas         Ark.          AR\n",
       "4     California       Calif.          CA"
      ]
     },
     "execution_count": 312,
     "metadata": {},
     "output_type": "execute_result"
    }
   ],
   "source": [
    "state_code.head()"
   ]
  },
  {
   "cell_type": "code",
   "execution_count": 313,
   "metadata": {},
   "outputs": [
    {
     "data": {
      "text/plain": [
       "State/District\n",
       "Alabama       AL\n",
       "Alaska        AK\n",
       "Arizona       AZ\n",
       "Arkansas      AR\n",
       "California    CA\n",
       "Name: Postal Code, dtype: object"
      ]
     },
     "execution_count": 313,
     "metadata": {},
     "output_type": "execute_result"
    }
   ],
   "source": [
    "state_map = state_code.set_index('State/District')['Postal Code']\n",
    "state_map.head()"
   ]
  },
  {
   "cell_type": "code",
   "execution_count": 314,
   "metadata": {},
   "outputs": [
    {
     "data": {
      "text/html": [
       "<div>\n",
       "<style scoped>\n",
       "    .dataframe tbody tr th:only-of-type {\n",
       "        vertical-align: middle;\n",
       "    }\n",
       "\n",
       "    .dataframe tbody tr th {\n",
       "        vertical-align: top;\n",
       "    }\n",
       "\n",
       "    .dataframe thead th {\n",
       "        text-align: right;\n",
       "    }\n",
       "</style>\n",
       "<table border=\"1\" class=\"dataframe\">\n",
       "  <thead>\n",
       "    <tr style=\"text-align: right;\">\n",
       "      <th></th>\n",
       "      <th></th>\n",
       "      <th>Pres_DEM</th>\n",
       "      <th>Pres_REP</th>\n",
       "      <th>Gov_DEM</th>\n",
       "      <th>Gov_REP</th>\n",
       "      <th>TotalPop</th>\n",
       "      <th>Men</th>\n",
       "      <th>Hispanic</th>\n",
       "      <th>White</th>\n",
       "      <th>Black</th>\n",
       "      <th>Native</th>\n",
       "      <th>...</th>\n",
       "      <th>Walk</th>\n",
       "      <th>OtherTransp</th>\n",
       "      <th>WorkAtHome</th>\n",
       "      <th>MeanCommute</th>\n",
       "      <th>Employed</th>\n",
       "      <th>PrivateWork</th>\n",
       "      <th>PublicWork</th>\n",
       "      <th>SelfEmployed</th>\n",
       "      <th>FamilyWork</th>\n",
       "      <th>Unemployment</th>\n",
       "    </tr>\n",
       "    <tr>\n",
       "      <th>state</th>\n",
       "      <th>county</th>\n",
       "      <th></th>\n",
       "      <th></th>\n",
       "      <th></th>\n",
       "      <th></th>\n",
       "      <th></th>\n",
       "      <th></th>\n",
       "      <th></th>\n",
       "      <th></th>\n",
       "      <th></th>\n",
       "      <th></th>\n",
       "      <th></th>\n",
       "      <th></th>\n",
       "      <th></th>\n",
       "      <th></th>\n",
       "      <th></th>\n",
       "      <th></th>\n",
       "      <th></th>\n",
       "      <th></th>\n",
       "      <th></th>\n",
       "      <th></th>\n",
       "      <th></th>\n",
       "    </tr>\n",
       "  </thead>\n",
       "  <tbody>\n",
       "    <tr>\n",
       "      <th rowspan=\"5\" valign=\"top\">Alabama</th>\n",
       "      <th>Autauga County</th>\n",
       "      <td>0.274423</td>\n",
       "      <td>0.725577</td>\n",
       "      <td>NaN</td>\n",
       "      <td>NaN</td>\n",
       "      <td>55036.0</td>\n",
       "      <td>0.488753</td>\n",
       "      <td>2.7</td>\n",
       "      <td>75.4</td>\n",
       "      <td>18.9</td>\n",
       "      <td>0.3</td>\n",
       "      <td>...</td>\n",
       "      <td>0.6</td>\n",
       "      <td>1.3</td>\n",
       "      <td>2.5</td>\n",
       "      <td>25.8</td>\n",
       "      <td>0.438113</td>\n",
       "      <td>74.1</td>\n",
       "      <td>20.2</td>\n",
       "      <td>5.6</td>\n",
       "      <td>0.1</td>\n",
       "      <td>5.2</td>\n",
       "    </tr>\n",
       "    <tr>\n",
       "      <th>Baldwin County</th>\n",
       "      <td>0.227317</td>\n",
       "      <td>0.772683</td>\n",
       "      <td>NaN</td>\n",
       "      <td>NaN</td>\n",
       "      <td>203360.0</td>\n",
       "      <td>0.489413</td>\n",
       "      <td>4.4</td>\n",
       "      <td>83.1</td>\n",
       "      <td>9.5</td>\n",
       "      <td>0.8</td>\n",
       "      <td>...</td>\n",
       "      <td>0.8</td>\n",
       "      <td>1.1</td>\n",
       "      <td>5.6</td>\n",
       "      <td>27.0</td>\n",
       "      <td>0.440239</td>\n",
       "      <td>80.7</td>\n",
       "      <td>12.9</td>\n",
       "      <td>6.3</td>\n",
       "      <td>0.1</td>\n",
       "      <td>5.5</td>\n",
       "    </tr>\n",
       "    <tr>\n",
       "      <th>Barbour County</th>\n",
       "      <td>0.461391</td>\n",
       "      <td>0.538609</td>\n",
       "      <td>NaN</td>\n",
       "      <td>NaN</td>\n",
       "      <td>26201.0</td>\n",
       "      <td>0.533415</td>\n",
       "      <td>4.2</td>\n",
       "      <td>45.7</td>\n",
       "      <td>47.8</td>\n",
       "      <td>0.2</td>\n",
       "      <td>...</td>\n",
       "      <td>2.2</td>\n",
       "      <td>1.7</td>\n",
       "      <td>1.3</td>\n",
       "      <td>23.4</td>\n",
       "      <td>0.338842</td>\n",
       "      <td>74.1</td>\n",
       "      <td>19.1</td>\n",
       "      <td>6.5</td>\n",
       "      <td>0.3</td>\n",
       "      <td>12.4</td>\n",
       "    </tr>\n",
       "    <tr>\n",
       "      <th>Bibb County</th>\n",
       "      <td>0.208811</td>\n",
       "      <td>0.791189</td>\n",
       "      <td>NaN</td>\n",
       "      <td>NaN</td>\n",
       "      <td>22580.0</td>\n",
       "      <td>0.542560</td>\n",
       "      <td>2.4</td>\n",
       "      <td>74.6</td>\n",
       "      <td>22.0</td>\n",
       "      <td>0.4</td>\n",
       "      <td>...</td>\n",
       "      <td>0.3</td>\n",
       "      <td>1.7</td>\n",
       "      <td>1.5</td>\n",
       "      <td>30.0</td>\n",
       "      <td>0.361869</td>\n",
       "      <td>76.0</td>\n",
       "      <td>17.4</td>\n",
       "      <td>6.3</td>\n",
       "      <td>0.3</td>\n",
       "      <td>8.2</td>\n",
       "    </tr>\n",
       "    <tr>\n",
       "      <th>Blount County</th>\n",
       "      <td>0.096523</td>\n",
       "      <td>0.903477</td>\n",
       "      <td>NaN</td>\n",
       "      <td>NaN</td>\n",
       "      <td>57667.0</td>\n",
       "      <td>0.494043</td>\n",
       "      <td>9.0</td>\n",
       "      <td>87.4</td>\n",
       "      <td>1.5</td>\n",
       "      <td>0.3</td>\n",
       "      <td>...</td>\n",
       "      <td>0.4</td>\n",
       "      <td>0.4</td>\n",
       "      <td>2.1</td>\n",
       "      <td>35.0</td>\n",
       "      <td>0.370749</td>\n",
       "      <td>83.9</td>\n",
       "      <td>11.9</td>\n",
       "      <td>4.0</td>\n",
       "      <td>0.1</td>\n",
       "      <td>4.9</td>\n",
       "    </tr>\n",
       "  </tbody>\n",
       "</table>\n",
       "<p>5 rows × 34 columns</p>\n",
       "</div>"
      ],
      "text/plain": [
       "                        Pres_DEM  Pres_REP  Gov_DEM  Gov_REP  TotalPop  \\\n",
       "state   county                                                           \n",
       "Alabama Autauga County  0.274423  0.725577      NaN      NaN   55036.0   \n",
       "        Baldwin County  0.227317  0.772683      NaN      NaN  203360.0   \n",
       "        Barbour County  0.461391  0.538609      NaN      NaN   26201.0   \n",
       "        Bibb County     0.208811  0.791189      NaN      NaN   22580.0   \n",
       "        Blount County   0.096523  0.903477      NaN      NaN   57667.0   \n",
       "\n",
       "                             Men  Hispanic  White  Black  Native  ...  Walk  \\\n",
       "state   county                                                    ...         \n",
       "Alabama Autauga County  0.488753       2.7   75.4   18.9     0.3  ...   0.6   \n",
       "        Baldwin County  0.489413       4.4   83.1    9.5     0.8  ...   0.8   \n",
       "        Barbour County  0.533415       4.2   45.7   47.8     0.2  ...   2.2   \n",
       "        Bibb County     0.542560       2.4   74.6   22.0     0.4  ...   0.3   \n",
       "        Blount County   0.494043       9.0   87.4    1.5     0.3  ...   0.4   \n",
       "\n",
       "                        OtherTransp  WorkAtHome  MeanCommute  Employed  \\\n",
       "state   county                                                           \n",
       "Alabama Autauga County          1.3         2.5         25.8  0.438113   \n",
       "        Baldwin County          1.1         5.6         27.0  0.440239   \n",
       "        Barbour County          1.7         1.3         23.4  0.338842   \n",
       "        Bibb County             1.7         1.5         30.0  0.361869   \n",
       "        Blount County           0.4         2.1         35.0  0.370749   \n",
       "\n",
       "                        PrivateWork  PublicWork  SelfEmployed  FamilyWork  \\\n",
       "state   county                                                              \n",
       "Alabama Autauga County         74.1        20.2           5.6         0.1   \n",
       "        Baldwin County         80.7        12.9           6.3         0.1   \n",
       "        Barbour County         74.1        19.1           6.5         0.3   \n",
       "        Bibb County            76.0        17.4           6.3         0.3   \n",
       "        Blount County          83.9        11.9           4.0         0.1   \n",
       "\n",
       "                        Unemployment  \n",
       "state   county                        \n",
       "Alabama Autauga County           5.2  \n",
       "        Baldwin County           5.5  \n",
       "        Barbour County          12.4  \n",
       "        Bibb County              8.2  \n",
       "        Blount County            4.9  \n",
       "\n",
       "[5 rows x 34 columns]"
      ]
     },
     "execution_count": 314,
     "metadata": {},
     "output_type": "execute_result"
    }
   ],
   "source": [
    "df_norm.head()"
   ]
  },
  {
   "cell_type": "code",
   "execution_count": 315,
   "metadata": {},
   "outputs": [
    {
     "data": {
      "text/plain": [
       "0          Autauga County, AL\n",
       "1          Baldwin County, AL\n",
       "2          Barbour County, AL\n",
       "3             Bibb County, AL\n",
       "4           Blount County, AL\n",
       "                ...          \n",
       "4804    Sweetwater County, WY\n",
       "4805         Teton County, WY\n",
       "4806         Uinta County, WY\n",
       "4807      Washakie County, WY\n",
       "4808        Weston County, WY\n",
       "Length: 4809, dtype: object"
      ]
     },
     "execution_count": 315,
     "metadata": {},
     "output_type": "execute_result"
    }
   ],
   "source": [
    "counties = df_norm.reset_index()['county'] + ', ' + df_norm.reset_index()['state'].map(state_map)\n",
    "counties"
   ]
  },
  {
   "cell_type": "code",
   "execution_count": 316,
   "metadata": {},
   "outputs": [
    {
     "data": {
      "text/plain": [
       "County Name/State Abbreviation\n",
       "Autauga County, AL         01001\n",
       "Baldwin County, AL         01003\n",
       "Barbour County, AL         01005\n",
       "Bibb County, AL            01007\n",
       "Blount County, AL          01009\n",
       "                           ...  \n",
       "Vega Baja Municipio, PR    72145\n",
       "Vieques Municipio, PR      72147\n",
       "Villalba Municipio, PR     72149\n",
       "Yabucoa Municipio, PR      72151\n",
       "Yauco Municipio, PR        72153\n",
       "Name: FIPS, Length: 3219, dtype: object"
      ]
     },
     "execution_count": 316,
     "metadata": {},
     "output_type": "execute_result"
    }
   ],
   "source": [
    "counties_to_fips = df_sample.set_index('County Name/State Abbreviation')['FIPS']\n",
    "counties_to_fips"
   ]
  },
  {
   "cell_type": "code",
   "execution_count": 317,
   "metadata": {},
   "outputs": [
    {
     "data": {
      "text/plain": [
       "0       01001\n",
       "1       01003\n",
       "2       01005\n",
       "3       01007\n",
       "4       01009\n",
       "        ...  \n",
       "4804    56037\n",
       "4805    56039\n",
       "4806    56041\n",
       "4807    56043\n",
       "4808    56045\n",
       "Length: 4809, dtype: object"
      ]
     },
     "execution_count": 317,
     "metadata": {},
     "output_type": "execute_result"
    }
   ],
   "source": [
    "fips = counties.map(counties_to_fips)\n",
    "fips"
   ]
  },
  {
   "cell_type": "code",
   "execution_count": 318,
   "metadata": {},
   "outputs": [
    {
     "data": {
      "text/plain": [
       "1681"
      ]
     },
     "execution_count": 318,
     "metadata": {},
     "output_type": "execute_result"
    }
   ],
   "source": [
    "# 결측치 제거\n",
    "fips.isna().sum()"
   ]
  },
  {
   "cell_type": "code",
   "execution_count": 319,
   "metadata": {},
   "outputs": [],
   "source": [
    "data = df_norm.reset_index()['Pres_DEM'][fips.notna()]\n",
    "fips = fips[fips.notna()]"
   ]
  },
  {
   "cell_type": "code",
   "execution_count": null,
   "metadata": {},
   "outputs": [],
   "source": []
  },
  {
   "cell_type": "markdown",
   "metadata": {
    "id": "Qlz6lUtHbse8"
   },
   "source": [
    "### Choropleth map 시각화"
   ]
  },
  {
   "cell_type": "code",
   "execution_count": 191,
   "metadata": {},
   "outputs": [
    {
     "ename": "ImportError",
     "evalue": "geopandas, pyshp and shapely must be installed for this figure factory.\n\nRun the following commands to install the correct versions of the following modules:\n\n```\n$ pip install geopandas==0.3.0\n$ pip install pyshp==1.2.10\n$ pip install shapely==1.6.3\n```\nIf you are using Windows, follow this post to properly install geopandas and dependencies:http://geoffboeing.com/2014/09/using-geopandas-windows/\n\nIf you are using Anaconda, do not use PIP to install the packages above. Instead use conda to install them:\n\n```\n$ conda install plotly\n$ conda install geopandas\n```",
     "output_type": "error",
     "traceback": [
      "\u001b[1;31m---------------------------------------------------------------------------\u001b[0m",
      "\u001b[1;31mImportError\u001b[0m                               Traceback (most recent call last)",
      "\u001b[1;32m<ipython-input-191-feff2265bf26>\u001b[0m in \u001b[0;36m<module>\u001b[1;34m\u001b[0m\n\u001b[0;32m      2\u001b[0m \u001b[1;31m# Hint) 공식 레퍼런스 참조: https://plotly.com/python/county-choropleth/#the-entire-usa\u001b[0m\u001b[1;33m\u001b[0m\u001b[1;33m\u001b[0m\u001b[1;33m\u001b[0m\u001b[0m\n\u001b[0;32m      3\u001b[0m \u001b[1;33m\u001b[0m\u001b[0m\n\u001b[1;32m----> 4\u001b[1;33m fig = ff.create_choropleth(\n\u001b[0m\u001b[0;32m      5\u001b[0m     \u001b[0mfips\u001b[0m\u001b[1;33m=\u001b[0m\u001b[0mfips\u001b[0m\u001b[1;33m,\u001b[0m\u001b[1;33m\u001b[0m\u001b[1;33m\u001b[0m\u001b[0m\n\u001b[0;32m      6\u001b[0m     \u001b[0mvalues\u001b[0m\u001b[1;33m=\u001b[0m\u001b[0mdata\u001b[0m\u001b[1;33m,\u001b[0m\u001b[1;33m\u001b[0m\u001b[1;33m\u001b[0m\u001b[0m\n",
      "\u001b[1;32m~\\anaconda3\\lib\\site-packages\\plotly\\figure_factory\\_county_choropleth.py\u001b[0m in \u001b[0;36mcreate_choropleth\u001b[1;34m(fips, values, scope, binning_endpoints, colorscale, order, simplify_county, simplify_state, asp, show_hover, show_state_data, state_outline, county_outline, centroid_marker, round_legend_values, exponent_format, legend_title, **layout_options)\u001b[0m\n\u001b[0;32m    617\u001b[0m \u001b[1;33m\u001b[0m\u001b[0m\n\u001b[0;32m    618\u001b[0m     \u001b[1;32mif\u001b[0m \u001b[1;32mnot\u001b[0m \u001b[0mgp\u001b[0m \u001b[1;32mor\u001b[0m \u001b[1;32mnot\u001b[0m \u001b[0mshapefile\u001b[0m \u001b[1;32mor\u001b[0m \u001b[1;32mnot\u001b[0m \u001b[0mshapely\u001b[0m\u001b[1;33m:\u001b[0m\u001b[1;33m\u001b[0m\u001b[1;33m\u001b[0m\u001b[0m\n\u001b[1;32m--> 619\u001b[1;33m         raise ImportError(\n\u001b[0m\u001b[0;32m    620\u001b[0m             \u001b[1;34m\"geopandas, pyshp and shapely must be installed for this figure \"\u001b[0m\u001b[1;33m\u001b[0m\u001b[1;33m\u001b[0m\u001b[0m\n\u001b[0;32m    621\u001b[0m             \u001b[1;34m\"factory.\\n\\nRun the following commands to install the correct \"\u001b[0m\u001b[1;33m\u001b[0m\u001b[1;33m\u001b[0m\u001b[0m\n",
      "\u001b[1;31mImportError\u001b[0m: geopandas, pyshp and shapely must be installed for this figure factory.\n\nRun the following commands to install the correct versions of the following modules:\n\n```\n$ pip install geopandas==0.3.0\n$ pip install pyshp==1.2.10\n$ pip install shapely==1.6.3\n```\nIf you are using Windows, follow this post to properly install geopandas and dependencies:http://geoffboeing.com/2014/09/using-geopandas-windows/\n\nIf you are using Anaconda, do not use PIP to install the packages above. Instead use conda to install them:\n\n```\n$ conda install plotly\n$ conda install geopandas\n```"
     ]
    }
   ],
   "source": [
    "# ff.create_choropleth() 메소드를 이용하여 Choropleth 플랏하기\n",
    "# Hint) 공식 레퍼런스 참조: https://plotly.com/python/county-choropleth/#the-entire-usa\n",
    "\n",
    "fig = ff.create_choropleth(\n",
    "    fips=fips, \n",
    "    values=data,\n",
    "    show_state_data=False,\n",
    "    colorscale=colorscale,\n",
    "    binning_endpoints=list(np.linspace(0.0, 1.0, len(colorscale) - 2)),\n",
    "    show_hover=True, centroid_marker={'opacity': 0},\n",
    "    asp=2.9, title='USA by Voting for DEM Presient'\n",
    ")\n",
    "\n",
    "fig.layout.template = None\n",
    "fig.show()"
   ]
  },
  {
   "cell_type": "code",
   "execution_count": null,
   "metadata": {},
   "outputs": [],
   "source": []
  },
  {
   "cell_type": "code",
   "execution_count": null,
   "metadata": {},
   "outputs": [],
   "source": []
  },
  {
   "cell_type": "markdown",
   "metadata": {
    "id": "FRfd7ABjepBS"
   },
   "source": [
    "# 6. 모델 학습을 위한 데이터 전처리 "
   ]
  },
  {
   "cell_type": "markdown",
   "metadata": {
    "id": "hgHfw6NbdVff"
   },
   "source": [
    "### 학습을 위한 데이터프레임 구성하기"
   ]
  },
  {
   "cell_type": "code",
   "execution_count": 320,
   "metadata": {
    "colab": {
     "base_uri": "https://localhost:8080/"
    },
    "executionInfo": {
     "elapsed": 766,
     "status": "ok",
     "timestamp": 1610382134144,
     "user": {
      "displayName": "김패캠",
      "photoUrl": "",
      "userId": "06994282823286758918"
     },
     "user_tz": -540
    },
    "id": "CKwC1UwPQQzI",
    "outputId": "eb6d602a-0e47-4526-c30c-05d414187d93"
   },
   "outputs": [
    {
     "data": {
      "text/plain": [
       "Index(['Pres_DEM', 'Pres_REP', 'Gov_DEM', 'Gov_REP', 'TotalPop', 'Men',\n",
       "       'Hispanic', 'White', 'Black', 'Native', 'Asian', 'Pacific',\n",
       "       'VotingAgeCitizen', 'IncomePerCap', 'Poverty', 'ChildPoverty',\n",
       "       'Professional', 'Service', 'Office', 'Construction', 'Production',\n",
       "       'Drive', 'Carpool', 'Transit', 'Walk', 'OtherTransp', 'WorkAtHome',\n",
       "       'MeanCommute', 'Employed', 'PrivateWork', 'PublicWork', 'SelfEmployed',\n",
       "       'FamilyWork', 'Unemployment'],\n",
       "      dtype='object')"
      ]
     },
     "execution_count": 320,
     "metadata": {},
     "output_type": "execute_result"
    }
   ],
   "source": [
    "df_norm.columns"
   ]
  },
  {
   "cell_type": "markdown",
   "metadata": {},
   "source": [
    "#### 정답에 해당하는 토표 결과 칼럼을 제거하고, DEM 정당을 기준으로 y레이블 생성"
   ]
  },
  {
   "cell_type": "code",
   "execution_count": 321,
   "metadata": {},
   "outputs": [],
   "source": [
    "# 결측치 제거\n",
    "df_norm.dropna(inplace=True)\n",
    "\n",
    "X = df_norm.drop(['Pres_DEM', 'Pres_REP', 'Gov_DEM', 'Gov_REP'], axis=1)\n",
    "y = df_norm['Pres_DEM']"
   ]
  },
  {
   "cell_type": "code",
   "execution_count": null,
   "metadata": {},
   "outputs": [],
   "source": []
  },
  {
   "cell_type": "markdown",
   "metadata": {
    "id": "Dev2yLeMta85"
   },
   "source": [
    "### StandardScaler를 이용해 수치형 데이터 표준화하기\n"
   ]
  },
  {
   "cell_type": "code",
   "execution_count": 322,
   "metadata": {
    "executionInfo": {
     "elapsed": 689,
     "status": "ok",
     "timestamp": 1610382751708,
     "user": {
      "displayName": "김패캠",
      "photoUrl": "",
      "userId": "06994282823286758918"
     },
     "user_tz": -540
    },
    "id": "_k_SDCh5xMgD"
   },
   "outputs": [],
   "source": [
    "from sklearn.preprocessing import StandardScaler"
   ]
  },
  {
   "cell_type": "code",
   "execution_count": 323,
   "metadata": {},
   "outputs": [],
   "source": [
    "# StandardScaler를 이용해 수치형 데이터를 표준화하기\n",
    "scaler = StandardScaler()\n",
    "scaler.fit(X)\n",
    "X_scaled = scaler.transform(X)\n",
    "# scaler.fit_transform(X) 로 간소화 가능\n",
    "\n",
    "# 스케일링을 적용하면 array의 형태로 결과나 표현되기 때문에 다시금 DF로 변환하는 과정 필요\n",
    "X = pd.DataFrame(data=X_scaled, index=X.index, columns=X.columns)"
   ]
  },
  {
   "cell_type": "code",
   "execution_count": 324,
   "metadata": {},
   "outputs": [
    {
     "data": {
      "text/html": [
       "<div>\n",
       "<style scoped>\n",
       "    .dataframe tbody tr th:only-of-type {\n",
       "        vertical-align: middle;\n",
       "    }\n",
       "\n",
       "    .dataframe tbody tr th {\n",
       "        vertical-align: top;\n",
       "    }\n",
       "\n",
       "    .dataframe thead th {\n",
       "        text-align: right;\n",
       "    }\n",
       "</style>\n",
       "<table border=\"1\" class=\"dataframe\">\n",
       "  <thead>\n",
       "    <tr style=\"text-align: right;\">\n",
       "      <th></th>\n",
       "      <th></th>\n",
       "      <th>TotalPop</th>\n",
       "      <th>Men</th>\n",
       "      <th>Hispanic</th>\n",
       "      <th>White</th>\n",
       "      <th>Black</th>\n",
       "      <th>Native</th>\n",
       "      <th>Asian</th>\n",
       "      <th>Pacific</th>\n",
       "      <th>VotingAgeCitizen</th>\n",
       "      <th>IncomePerCap</th>\n",
       "      <th>...</th>\n",
       "      <th>Walk</th>\n",
       "      <th>OtherTransp</th>\n",
       "      <th>WorkAtHome</th>\n",
       "      <th>MeanCommute</th>\n",
       "      <th>Employed</th>\n",
       "      <th>PrivateWork</th>\n",
       "      <th>PublicWork</th>\n",
       "      <th>SelfEmployed</th>\n",
       "      <th>FamilyWork</th>\n",
       "      <th>Unemployment</th>\n",
       "    </tr>\n",
       "    <tr>\n",
       "      <th>state</th>\n",
       "      <th>county</th>\n",
       "      <th></th>\n",
       "      <th></th>\n",
       "      <th></th>\n",
       "      <th></th>\n",
       "      <th></th>\n",
       "      <th></th>\n",
       "      <th></th>\n",
       "      <th></th>\n",
       "      <th></th>\n",
       "      <th></th>\n",
       "      <th></th>\n",
       "      <th></th>\n",
       "      <th></th>\n",
       "      <th></th>\n",
       "      <th></th>\n",
       "      <th></th>\n",
       "      <th></th>\n",
       "      <th></th>\n",
       "      <th></th>\n",
       "      <th></th>\n",
       "      <th></th>\n",
       "    </tr>\n",
       "  </thead>\n",
       "  <tbody>\n",
       "    <tr>\n",
       "      <th rowspan=\"3\" valign=\"top\">Delaware</th>\n",
       "      <th>Kent County</th>\n",
       "      <td>0.651462</td>\n",
       "      <td>-0.946145</td>\n",
       "      <td>0.346057</td>\n",
       "      <td>-1.423723</td>\n",
       "      <td>1.751813</td>\n",
       "      <td>-0.191121</td>\n",
       "      <td>0.783427</td>\n",
       "      <td>-0.393531</td>\n",
       "      <td>-0.388638</td>\n",
       "      <td>0.313498</td>\n",
       "      <td>...</td>\n",
       "      <td>-0.455170</td>\n",
       "      <td>-0.337372</td>\n",
       "      <td>-0.325794</td>\n",
       "      <td>0.608072</td>\n",
       "      <td>0.209912</td>\n",
       "      <td>-0.063847</td>\n",
       "      <td>0.791294</td>\n",
       "      <td>-0.836585</td>\n",
       "      <td>-0.243581</td>\n",
       "      <td>0.265911</td>\n",
       "    </tr>\n",
       "    <tr>\n",
       "      <th>New Castle County</th>\n",
       "      <td>3.043033</td>\n",
       "      <td>-0.848175</td>\n",
       "      <td>0.828313</td>\n",
       "      <td>-1.695454</td>\n",
       "      <td>1.751813</td>\n",
       "      <td>-0.239442</td>\n",
       "      <td>3.218819</td>\n",
       "      <td>-0.393531</td>\n",
       "      <td>-0.665857</td>\n",
       "      <td>1.606755</td>\n",
       "      <td>...</td>\n",
       "      <td>-0.301446</td>\n",
       "      <td>-0.337372</td>\n",
       "      <td>-0.325794</td>\n",
       "      <td>0.492385</td>\n",
       "      <td>0.801126</td>\n",
       "      <td>1.168959</td>\n",
       "      <td>-0.715528</td>\n",
       "      <td>-0.999491</td>\n",
       "      <td>-0.404976</td>\n",
       "      <td>0.192397</td>\n",
       "    </tr>\n",
       "    <tr>\n",
       "      <th>Sussex County</th>\n",
       "      <td>0.917027</td>\n",
       "      <td>-0.818852</td>\n",
       "      <td>0.759420</td>\n",
       "      <td>-0.634409</td>\n",
       "      <td>0.622026</td>\n",
       "      <td>-0.215282</td>\n",
       "      <td>0.210394</td>\n",
       "      <td>-0.393531</td>\n",
       "      <td>0.227859</td>\n",
       "      <td>1.122397</td>\n",
       "      <td>...</td>\n",
       "      <td>-0.506412</td>\n",
       "      <td>-0.141175</td>\n",
       "      <td>0.055883</td>\n",
       "      <td>0.415259</td>\n",
       "      <td>-0.026356</td>\n",
       "      <td>0.503244</td>\n",
       "      <td>-0.251891</td>\n",
       "      <td>-0.470046</td>\n",
       "      <td>-0.404976</td>\n",
       "      <td>0.045370</td>\n",
       "    </tr>\n",
       "    <tr>\n",
       "      <th rowspan=\"2\" valign=\"top\">Indiana</th>\n",
       "      <th>Adams County</th>\n",
       "      <td>-0.213551</td>\n",
       "      <td>-0.230718</td>\n",
       "      <td>-0.067305</td>\n",
       "      <td>0.581911</td>\n",
       "      <td>-0.432442</td>\n",
       "      <td>-0.263602</td>\n",
       "      <td>-0.362639</td>\n",
       "      <td>-0.393531</td>\n",
       "      <td>-1.625095</td>\n",
       "      <td>-0.755470</td>\n",
       "      <td>...</td>\n",
       "      <td>-0.250204</td>\n",
       "      <td>0.447416</td>\n",
       "      <td>-0.244006</td>\n",
       "      <td>-0.066773</td>\n",
       "      <td>-0.205611</td>\n",
       "      <td>0.971710</td>\n",
       "      <td>-1.344751</td>\n",
       "      <td>-0.001691</td>\n",
       "      <td>0.401999</td>\n",
       "      <td>-0.285443</td>\n",
       "    </tr>\n",
       "    <tr>\n",
       "      <th>Allen County</th>\n",
       "      <td>1.870146</td>\n",
       "      <td>-0.656809</td>\n",
       "      <td>0.414951</td>\n",
       "      <td>-0.653818</td>\n",
       "      <td>0.546706</td>\n",
       "      <td>-0.239442</td>\n",
       "      <td>1.857865</td>\n",
       "      <td>-0.393531</td>\n",
       "      <td>-1.068441</td>\n",
       "      <td>0.224871</td>\n",
       "      <td>...</td>\n",
       "      <td>-0.608895</td>\n",
       "      <td>-0.533569</td>\n",
       "      <td>-0.380320</td>\n",
       "      <td>-0.355993</td>\n",
       "      <td>0.707837</td>\n",
       "      <td>1.477161</td>\n",
       "      <td>-1.278517</td>\n",
       "      <td>-0.816222</td>\n",
       "      <td>-0.404976</td>\n",
       "      <td>0.118884</td>\n",
       "    </tr>\n",
       "  </tbody>\n",
       "</table>\n",
       "<p>5 rows × 30 columns</p>\n",
       "</div>"
      ],
      "text/plain": [
       "                            TotalPop       Men  Hispanic     White     Black  \\\n",
       "state    county                                                                \n",
       "Delaware Kent County        0.651462 -0.946145  0.346057 -1.423723  1.751813   \n",
       "         New Castle County  3.043033 -0.848175  0.828313 -1.695454  1.751813   \n",
       "         Sussex County      0.917027 -0.818852  0.759420 -0.634409  0.622026   \n",
       "Indiana  Adams County      -0.213551 -0.230718 -0.067305  0.581911 -0.432442   \n",
       "         Allen County       1.870146 -0.656809  0.414951 -0.653818  0.546706   \n",
       "\n",
       "                              Native     Asian   Pacific  VotingAgeCitizen  \\\n",
       "state    county                                                              \n",
       "Delaware Kent County       -0.191121  0.783427 -0.393531         -0.388638   \n",
       "         New Castle County -0.239442  3.218819 -0.393531         -0.665857   \n",
       "         Sussex County     -0.215282  0.210394 -0.393531          0.227859   \n",
       "Indiana  Adams County      -0.263602 -0.362639 -0.393531         -1.625095   \n",
       "         Allen County      -0.239442  1.857865 -0.393531         -1.068441   \n",
       "\n",
       "                            IncomePerCap  ...      Walk  OtherTransp  \\\n",
       "state    county                           ...                          \n",
       "Delaware Kent County            0.313498  ... -0.455170    -0.337372   \n",
       "         New Castle County      1.606755  ... -0.301446    -0.337372   \n",
       "         Sussex County          1.122397  ... -0.506412    -0.141175   \n",
       "Indiana  Adams County          -0.755470  ... -0.250204     0.447416   \n",
       "         Allen County           0.224871  ... -0.608895    -0.533569   \n",
       "\n",
       "                            WorkAtHome  MeanCommute  Employed  PrivateWork  \\\n",
       "state    county                                                              \n",
       "Delaware Kent County         -0.325794     0.608072  0.209912    -0.063847   \n",
       "         New Castle County   -0.325794     0.492385  0.801126     1.168959   \n",
       "         Sussex County        0.055883     0.415259 -0.026356     0.503244   \n",
       "Indiana  Adams County        -0.244006    -0.066773 -0.205611     0.971710   \n",
       "         Allen County        -0.380320    -0.355993  0.707837     1.477161   \n",
       "\n",
       "                            PublicWork  SelfEmployed  FamilyWork  Unemployment  \n",
       "state    county                                                                 \n",
       "Delaware Kent County          0.791294     -0.836585   -0.243581      0.265911  \n",
       "         New Castle County   -0.715528     -0.999491   -0.404976      0.192397  \n",
       "         Sussex County       -0.251891     -0.470046   -0.404976      0.045370  \n",
       "Indiana  Adams County        -1.344751     -0.001691    0.401999     -0.285443  \n",
       "         Allen County        -1.278517     -0.816222   -0.404976      0.118884  \n",
       "\n",
       "[5 rows x 30 columns]"
      ]
     },
     "execution_count": 324,
     "metadata": {},
     "output_type": "execute_result"
    }
   ],
   "source": [
    "X.head()"
   ]
  },
  {
   "cell_type": "code",
   "execution_count": null,
   "metadata": {},
   "outputs": [],
   "source": []
  },
  {
   "cell_type": "markdown",
   "metadata": {
    "id": "Dev2yLeMta85"
   },
   "source": [
    "### 학습데이터와 테스트데이터 분리하기\n"
   ]
  },
  {
   "cell_type": "code",
   "execution_count": 325,
   "metadata": {},
   "outputs": [],
   "source": [
    "from sklearn.model_selection import train_test_split"
   ]
  },
  {
   "cell_type": "code",
   "execution_count": 326,
   "metadata": {},
   "outputs": [],
   "source": [
    "X_train, X_test, y_train, y_test = train_test_split(X, y, test_size=0.3, random_state=1)"
   ]
  },
  {
   "cell_type": "code",
   "execution_count": null,
   "metadata": {},
   "outputs": [],
   "source": []
  },
  {
   "cell_type": "markdown",
   "metadata": {
    "id": "Dev2yLeMta85"
   },
   "source": [
    "### PCA를 이용해 데이터 전처리 수행하기"
   ]
  },
  {
   "cell_type": "code",
   "execution_count": 327,
   "metadata": {},
   "outputs": [],
   "source": [
    "from sklearn.decomposition import PCA"
   ]
  },
  {
   "cell_type": "code",
   "execution_count": 328,
   "metadata": {},
   "outputs": [
    {
     "data": {
      "image/png": "[encoded data removed]",
      "text/plain": [
       "<Figure size 432x288 with 1 Axes>"
      ]
     },
     "metadata": {
      "needs_background": "light"
     },
     "output_type": "display_data"
    }
   ],
   "source": [
    "# PCA를 이용해 Dimensionality Reduction 수행하기\n",
    "\n",
    "pca = PCA()\n",
    "# pca = PCA(n_components=10)\n",
    "pca.fit(X_train)\n",
    "plt.plot(range(1, len(pca.explained_variance_) + 1), pca.explained_variance_)\n",
    "plt.grid()"
   ]
  },
  {
   "cell_type": "code",
   "execution_count": 329,
   "metadata": {},
   "outputs": [
    {
     "data": {
      "text/plain": [
       "PCA(n_components=10)"
      ]
     },
     "execution_count": 329,
     "metadata": {},
     "output_type": "execute_result"
    }
   ],
   "source": [
    "pca = PCA(n_components=10)\n",
    "pca.fit(X_train)"
   ]
  },
  {
   "cell_type": "markdown",
   "metadata": {},
   "source": [
    "------------------"
   ]
  },
  {
   "cell_type": "markdown",
   "metadata": {
    "id": "RrWrE8Z4exup"
   },
   "source": [
    "# Regression 모델 학습하기"
   ]
  },
  {
   "cell_type": "markdown",
   "metadata": {
    "id": "NypEtNhdfCow"
   },
   "source": [
    "### LightGBM Regression 모델 학습하기"
   ]
  },
  {
   "cell_type": "code",
   "execution_count": 330,
   "metadata": {},
   "outputs": [],
   "source": [
    "from lightgbm import LGBMRegressor"
   ]
  },
  {
   "cell_type": "code",
   "execution_count": 350,
   "metadata": {},
   "outputs": [
    {
     "data": {
      "text/plain": [
       "LGBMRegressor()"
      ]
     },
     "execution_count": 350,
     "metadata": {},
     "output_type": "execute_result"
    }
   ],
   "source": [
    "model_reg = LGBMRegressor()\n",
    "# model_reg.fit(pca.transform(X_train), y_train)\n",
    "model_reg.fit(X_train, y_train)"
   ]
  },
  {
   "cell_type": "code",
   "execution_count": 351,
   "metadata": {},
   "outputs": [],
   "source": [
    "from sklearn.metrics import mean_absolute_error, mean_squared_error\n",
    "from sklearn.metrics import classification_report\n",
    "from math import sqrt"
   ]
  },
  {
   "cell_type": "code",
   "execution_count": 353,
   "metadata": {},
   "outputs": [
    {
     "name": "stdout",
     "output_type": "stream",
     "text": [
      "0.053261679672733014\n",
      "0.07527410114651\n"
     ]
    }
   ],
   "source": [
    "# pred = model_reg.predict(pca.transform(X_test))\n",
    "pred = model_reg.predict(X_test)\n",
    "print(mean_absolute_error(y_test, pred))\n",
    "print(sqrt(mean_squared_error(y_test, pred)))"
   ]
  },
  {
   "cell_type": "code",
   "execution_count": 354,
   "metadata": {},
   "outputs": [
    {
     "name": "stdout",
     "output_type": "stream",
     "text": [
      "              precision    recall  f1-score   support\n",
      "\n",
      "       False       0.97      0.98      0.97       146\n",
      "        True       0.80      0.71      0.75        17\n",
      "\n",
      "    accuracy                           0.95       163\n",
      "   macro avg       0.88      0.84      0.86       163\n",
      "weighted avg       0.95      0.95      0.95       163\n",
      "\n"
     ]
    }
   ],
   "source": [
    "print(classification_report(y_test > 0.5, pred > 0.5))"
   ]
  },
  {
   "cell_type": "code",
   "execution_count": 355,
   "metadata": {
    "scrolled": false
   },
   "outputs": [
    {
     "data": {
      "image/png": "[encoded data removed]",
      "text/plain": [
       "<Figure size 1080x648 with 1 Axes>"
      ]
     },
     "metadata": {
      "needs_background": "light"
     },
     "output_type": "display_data"
    }
   ],
   "source": [
    "plt.figure(figsize=(15,9))\n",
    "plt.bar(X.columns, model_reg.feature_importances_)\n",
    "plt.xticks(rotation=90)\n",
    "plt.show()"
   ]
  },
  {
   "cell_type": "code",
   "execution_count": null,
   "metadata": {},
   "outputs": [],
   "source": []
  },
  {
   "cell_type": "code",
   "execution_count": 367,
   "metadata": {},
   "outputs": [],
   "source": [
    "from lightgbm import LGBMClassifier"
   ]
  },
  {
   "cell_type": "code",
   "execution_count": 374,
   "metadata": {},
   "outputs": [],
   "source": [
    "lgbm_clf = LGBMClassifier()\n",
    "lgbm_clf.fit(X_train, y_train>0.5)\n",
    "pred = lgbm_clf.predict(X_test)"
   ]
  },
  {
   "cell_type": "code",
   "execution_count": 375,
   "metadata": {},
   "outputs": [
    {
     "name": "stdout",
     "output_type": "stream",
     "text": [
      "0.292296505407722\n",
      "0.3155268069514623\n",
      "              precision    recall  f1-score   support\n",
      "\n",
      "       False       0.96      0.99      0.98       146\n",
      "        True       0.92      0.65      0.76        17\n",
      "\n",
      "    accuracy                           0.96       163\n",
      "   macro avg       0.94      0.82      0.87       163\n",
      "weighted avg       0.96      0.96      0.95       163\n",
      "\n"
     ]
    }
   ],
   "source": [
    "print(mean_absolute_error(y_test, pred))\n",
    "print(sqrt(mean_squared_error(y_test, pred)))\n",
    "print(classification_report(y_test > 0.5, pred > 0.5))"
   ]
  },
  {
   "cell_type": "code",
   "execution_count": 376,
   "metadata": {},
   "outputs": [
    {
     "data": {
      "image/png": "[encoded data removed]",
      "text/plain": [
       "<Figure size 1080x648 with 1 Axes>"
      ]
     },
     "metadata": {
      "needs_background": "light"
     },
     "output_type": "display_data"
    }
   ],
   "source": [
    "plt.figure(figsize=(15,9))\n",
    "plt.bar(X.columns, lgbm_clf.feature_importances_)\n",
    "plt.xticks(rotation=90)\n",
    "plt.show()"
   ]
  },
  {
   "cell_type": "code",
   "execution_count": 365,
   "metadata": {},
   "outputs": [
    {
     "data": {
      "text/plain": [
       "state          county           \n",
       "Utah           Sanpete County       False\n",
       "Indiana        Tippecanoe County     True\n",
       "North Dakota   Eddy County          False\n",
       "West Virginia  Randolph County      False\n",
       "Missouri       Chariton County      False\n",
       "                                    ...  \n",
       "               Dunklin County       False\n",
       "               Jefferson County     False\n",
       "Indiana        Rush County          False\n",
       "Montana        Liberty County       False\n",
       "Indiana        Huntington County    False\n",
       "Name: Pres_DEM, Length: 379, dtype: bool"
      ]
     },
     "execution_count": 365,
     "metadata": {},
     "output_type": "execute_result"
    }
   ],
   "source": [
    "y_train>0.5"
   ]
  },
  {
   "cell_type": "code",
   "execution_count": 366,
   "metadata": {},
   "outputs": [
    {
     "data": {
      "text/plain": [
       "state          county           \n",
       "Utah           Sanpete County       0.146413\n",
       "Indiana        Tippecanoe County    0.503132\n",
       "North Dakota   Eddy County          0.309620\n",
       "West Virginia  Randolph County      0.279352\n",
       "Missouri       Chariton County      0.227465\n",
       "                                      ...   \n",
       "               Dunklin County       0.212869\n",
       "               Jefferson County     0.327514\n",
       "Indiana        Rush County          0.225189\n",
       "Montana        Liberty County       0.232710\n",
       "Indiana        Huntington County    0.244512\n",
       "Name: Pres_DEM, Length: 379, dtype: float64"
      ]
     },
     "execution_count": 366,
     "metadata": {},
     "output_type": "execute_result"
    }
   ],
   "source": [
    "y_train"
   ]
  },
  {
   "cell_type": "markdown",
   "metadata": {},
   "source": [
    "------------------"
   ]
  },
  {
   "cell_type": "markdown",
   "metadata": {
    "id": "DTqb-HqPtc4I"
   },
   "source": [
    "## Classification 모델 학습하기\n"
   ]
  },
  {
   "cell_type": "markdown",
   "metadata": {
    "id": "xTRTOLTNto3h"
   },
   "source": [
    "### XGBoost 모델 생성/학습하기\n"
   ]
  },
  {
   "cell_type": "code",
   "execution_count": 336,
   "metadata": {
    "executionInfo": {
     "elapsed": 764,
     "status": "ok",
     "timestamp": 1610384016079,
     "user": {
      "displayName": "김패캠",
      "photoUrl": "",
      "userId": "06994282823286758918"
     },
     "user_tz": -540
    },
    "id": "RjOlWyBGfia9"
   },
   "outputs": [],
   "source": [
    "from xgboost import XGBClassifier"
   ]
  },
  {
   "cell_type": "code",
   "execution_count": 337,
   "metadata": {},
   "outputs": [
    {
     "name": "stdout",
     "output_type": "stream",
     "text": [
      "[15:00:48] WARNING: C:/Users/Administrator/workspace/xgboost-win64_release_1.3.0/src/learner.cc:1061: Starting in XGBoost 1.3.0, the default evaluation metric used with the objective 'binary:logistic' was changed from 'error' to 'logloss'. Explicitly set eval_metric if you'd like to restore the old behavior.\n"
     ]
    },
    {
     "name": "stderr",
     "output_type": "stream",
     "text": [
      "C:\\Users\\44455\\anaconda3\\lib\\site-packages\\xgboost\\sklearn.py:888: UserWarning: The use of label encoder in XGBClassifier is deprecated and will be removed in a future release. To remove this warning, do the following: 1) Pass option use_label_encoder=False when constructing XGBClassifier object; and 2) Encode your labels (y) as integers starting with 0, i.e. 0, 1, 2, ..., [num_class - 1].\n",
      "  warnings.warn(label_encoder_deprecation_msg, UserWarning)\n"
     ]
    },
    {
     "data": {
      "text/plain": [
       "XGBClassifier(base_score=0.5, booster='gbtree', colsample_bylevel=1,\n",
       "              colsample_bynode=1, colsample_bytree=1, gamma=0, gpu_id=-1,\n",
       "              importance_type='gain', interaction_constraints='',\n",
       "              learning_rate=0.300000012, max_delta_step=0, max_depth=6,\n",
       "              min_child_weight=1, missing=nan, monotone_constraints='()',\n",
       "              n_estimators=100, n_jobs=8, num_parallel_tree=1, random_state=0,\n",
       "              reg_alpha=0, reg_lambda=1, scale_pos_weight=1, subsample=1,\n",
       "              tree_method='exact', validate_parameters=1, verbosity=None)"
      ]
     },
     "execution_count": 337,
     "metadata": {},
     "output_type": "execute_result"
    }
   ],
   "source": [
    "model_cls = XGBClassifier()\n",
    "model_cls.fit(X_train, y_train>0.5)"
   ]
  },
  {
   "cell_type": "code",
   "execution_count": 338,
   "metadata": {},
   "outputs": [
    {
     "data": {
      "text/plain": [
       "state          county           \n",
       "Utah           Sanpete County       False\n",
       "Indiana        Tippecanoe County     True\n",
       "North Dakota   Eddy County          False\n",
       "West Virginia  Randolph County      False\n",
       "Missouri       Chariton County      False\n",
       "                                    ...  \n",
       "               Dunklin County       False\n",
       "               Jefferson County     False\n",
       "Indiana        Rush County          False\n",
       "Montana        Liberty County       False\n",
       "Indiana        Huntington County    False\n",
       "Name: Pres_DEM, Length: 379, dtype: bool"
      ]
     },
     "execution_count": 338,
     "metadata": {},
     "output_type": "execute_result"
    }
   ],
   "source": [
    "# > 0.5 를 통해 True/False 구분 가능해짐\n",
    "y_train > 0.5"
   ]
  },
  {
   "cell_type": "code",
   "execution_count": 339,
   "metadata": {},
   "outputs": [
    {
     "data": {
      "text/plain": [
       "array([0.22606476, 0.00178262, 0.01576339, 0.0827414 , 0.04671214,\n",
       "       0.0245585 , 0.14558448, 0.00316859, 0.02135376, 0.01152676,\n",
       "       0.01362711, 0.00475654, 0.02470126, 0.01640455, 0.00644429,\n",
       "       0.0282082 , 0.03059283, 0.00195676, 0.00235112, 0.05490339,\n",
       "       0.02074167, 0.02917887, 0.01124306, 0.01576694, 0.00348141,\n",
       "       0.04557473, 0.05362605, 0.01739527, 0.01785071, 0.02193892],\n",
       "      dtype=float32)"
      ]
     },
     "execution_count": 339,
     "metadata": {},
     "output_type": "execute_result"
    }
   ],
   "source": [
    "model_cls.feature_importances_"
   ]
  },
  {
   "cell_type": "code",
   "execution_count": 344,
   "metadata": {},
   "outputs": [
    {
     "data": {
      "image/png": "[encoded data removed]",
      "text/plain": [
       "<Figure size 1080x648 with 1 Axes>"
      ]
     },
     "metadata": {
      "needs_background": "light"
     },
     "output_type": "display_data"
    }
   ],
   "source": [
    "plt.figure(figsize=(15,9))\n",
    "plt.bar(X.columns, model_cls.feature_importances_)\n",
    "plt.xticks(rotation=90)\n",
    "plt.show()"
   ]
  },
  {
   "cell_type": "code",
   "execution_count": 346,
   "metadata": {},
   "outputs": [
    {
     "name": "stdout",
     "output_type": "stream",
     "text": [
      "              precision    recall  f1-score   support\n",
      "\n",
      "       False       0.96      0.97      0.97       146\n",
      "        True       0.73      0.65      0.69        17\n",
      "\n",
      "    accuracy                           0.94       163\n",
      "   macro avg       0.85      0.81      0.83       163\n",
      "weighted avg       0.94      0.94      0.94       163\n",
      "\n"
     ]
    }
   ],
   "source": [
    "pred = model_cls.predict(X_test)\n",
    "print(classification_report(y_test > 0.5, pred > 0.5))"
   ]
  },
  {
   "cell_type": "code",
   "execution_count": null,
   "metadata": {},
   "outputs": [],
   "source": []
  },
  {
   "cell_type": "code",
   "execution_count": null,
   "metadata": {},
   "outputs": [],
   "source": []
  }
 ],
 "metadata": {
  "kernelspec": {
   "display_name": "Python 3",
   "language": "python",
   "name": "python3"
  },
  "language_info": {
   "codemirror_mode": {
    "name": "ipython",
    "version": 3
   },
   "file_extension": ".py",
   "mimetype": "text/x-python",
   "name": "python",
   "nbconvert_exporter": "python",
   "pygments_lexer": "ipython3",
   "version": "3.8.3"
  }
 },
 "nbformat": 4,
 "nbformat_minor": 4
}
